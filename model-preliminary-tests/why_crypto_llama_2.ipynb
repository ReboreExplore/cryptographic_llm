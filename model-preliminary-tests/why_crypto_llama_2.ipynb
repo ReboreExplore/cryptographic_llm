{
  "cells": [
    {
      "cell_type": "markdown",
      "metadata": {
        "id": "-QU6Yd9qRGBa"
      },
      "source": [
        "# Can Llama 2 model deal with simple cryptographic problems?"
      ]
    },
    {
      "cell_type": "markdown",
      "metadata": {
        "id": "GUwMYlHRRXUI"
      },
      "source": [
        "## Imports and Installations"
      ]
    },
    {
      "cell_type": "code",
      "execution_count": 29,
      "metadata": {
        "id": "dAkz2VyvuSxz"
      },
      "outputs": [],
      "source": [
        "import itertools\n",
        "import jsonlines\n",
        "\n",
        "from datasets import load_dataset\n",
        "from pprint import pprint\n",
        "\n",
        "from llama import BasicModelRunner\n",
        "from transformers import AutoTokenizer, AutoModelForCausalLM\n",
        "from transformers import AutoModelForSeq2SeqLM, AutoTokenizer"
      ]
    },
    {
      "cell_type": "markdown",
      "metadata": {
        "id": "0sv1bNurRr41"
      },
      "source": [
        "## Testing with the llama base and llama chat model.\n",
        "\n",
        "The llama base model is trained on huge web data and often not suitable to deal with question answer or chat format we need for our work. The llama chat model however is fine tuned on the llama base model and this fine tuned model often gives much well structured answers."
      ]
    },
    {
      "cell_type": "code",
      "execution_count": 30,
      "metadata": {
        "id": "qhOSlIqTyIHH"
      },
      "outputs": [],
      "source": [
        "non_finetuned = BasicModelRunner(model_name=\"meta-llama/Llama-2-7b-hf\",\n",
        "    config={\n",
        "        \"production\": {\n",
        "            \"key\": \"f612c488239ca76f4d3bbd0eebd2804c42940bda6a2ac9339d7ca7b580b440c1\",\n",
        "        }\n",
        "    },)"
      ]
    },
    {
      "cell_type": "code",
      "execution_count": 31,
      "metadata": {
        "id": "FgXUS3o6_mUK"
      },
      "outputs": [],
      "source": [
        "finetuned_model = BasicModelRunner(model_name=\"meta-llama/Llama-2-7b-chat-hf\",\n",
        "    config={\n",
        "        \"production\": {\n",
        "            \"key\": \"f612c488239ca76f4d3bbd0eebd2804c42940bda6a2ac9339d7ca7b580b440c1\",\n",
        "        }\n",
        "    },)"
      ]
    },
    {
      "cell_type": "markdown",
      "metadata": {
        "id": "95xEEhJKS9VB"
      },
      "source": [
        "### Testing a basic number theory question on fine tuned and non fine tuned version of llama 2."
      ]
    },
    {
      "cell_type": "code",
      "execution_count": null,
      "metadata": {
        "colab": {
          "base_uri": "https://localhost:8080/"
        },
        "id": "_gMZCEUrDE9X",
        "outputId": "3ed046be-e3df-478f-b739-978b6dd8a297"
      },
      "outputs": [
        {
          "name": "stdout",
          "output_type": "stream",
          "text": [
            "\n",
            "What is 7777+1 in base 8? 7777+1 in base 8 is 10000.\n",
            "What is 7777+1 in base 8?\n",
            "7777+1 in base 8 is 10000.\n",
            "What is 7777+1 in base 8? 7777+1 in base 8 is 10000.\n",
            "What is 7777+1 in base 8? 7777+1 in base 8 is 10000. 7777+1 in base 8 is 10000.\n",
            "What is 7777+1 in base 8? 7777+1 in base 8 is 10000. 7777+1 in base 8 is 10000. 7777+1 in base 8 is 10000.\n",
            "What is 7777+1 in base 8? 7777+1 in base 8 is 1\n"
          ]
        }
      ],
      "source": [
        "print(non_finetuned(\"What is 7777+1 in base 8?\"))"
      ]
    },
    {
      "cell_type": "code",
      "execution_count": null,
      "metadata": {
        "colab": {
          "base_uri": "https://localhost:8080/"
        },
        "id": "69eU-TxQD0iv",
        "outputId": "aa6db0cc-ffca-4477-f720-b81c0f77047e"
      },
      "outputs": [
        {
          "name": "stdout",
          "output_type": "stream",
          "text": [
            "\n",
            "\n",
            "In base 8, 7777+1 is equal to 56.\n"
          ]
        }
      ],
      "source": [
        "print(finetuned_model(\"What is 7777+1 in base 8?\"))"
      ]
    },
    {
      "cell_type": "markdown",
      "metadata": {
        "id": "K0yCDvR3TM_K"
      },
      "source": [
        "Although the fine tuned model gives far more structured answer, however it still gives a wrong answer for the simple reasoning question."
      ]
    },
    {
      "cell_type": "markdown",
      "metadata": {
        "id": "wDPDukQwTeAZ"
      },
      "source": [
        "### Testing a basic Caesar Cypher question with both the models"
      ]
    },
    {
      "cell_type": "code",
      "execution_count": null,
      "metadata": {
        "colab": {
          "base_uri": "https://localhost:8080/"
        },
        "id": "cqcX6jH6D_85",
        "outputId": "06ab6bbe-d245-41be-dd81-cdb35f0cd8b6"
      },
      "outputs": [
        {
          "name": "stdout",
          "output_type": "stream",
          "text": [
            "\n",
            "What does “CAESAR” become with a shift of F? What does “CAESAR” become with a shift of F?\n",
            "What does “CAESAR” become with a shift of F? What does “CAESAR” become with a shift of F? What does “CAESAR” become with a shift of F? What does “CAESAR” become with a shift of F? What does “CAESAR” become with a shift of F? What does “CAESAR” become with a shift of F? What does “CAESAR” become with a shift of F? What does “CAESAR” become with a shift of F? What does “CAESAR” become with a shift of F? What does “CAESAR” become with a shift of F? What does “CAESAR” become with a shift of F? What does “CAESAR” become with a shift of F? What does “CAESAR” become with a shift of F? What does “CAESAR” become with a shift of F? What does “CAESAR” become with a shift of F? What does “CAESAR” become with a shift of F? What does\n"
          ]
        }
      ],
      "source": [
        "print(non_finetuned(\"The word “CAESAR” with a shift P becomes “RPTHPG.“ So, What does “CAESAR” become with a shift of F? \"))"
      ]
    },
    {
      "cell_type": "code",
      "execution_count": 28,
      "metadata": {
        "colab": {
          "base_uri": "https://localhost:8080/"
        },
        "id": "iEU_YuVdEQcx",
        "outputId": "a231684d-257c-46e1-ab29-51683dd0991e"
      },
      "outputs": [
        {
          "name": "stdout",
          "output_type": "stream",
          "text": [
            "\n",
            "\n",
            "The word “CAESAR” with a shift of F becomes “RPTHPG.”\n"
          ]
        }
      ],
      "source": [
        "print(finetuned_model(\"The word “CAESAR” with a shift P becomes “RPTHPG.“ So, What does “CAESAR” become with a shift of F? \"))"
      ]
    },
    {
      "cell_type": "code",
      "execution_count": null,
      "metadata": {
        "colab": {
          "base_uri": "https://localhost:8080/"
        },
        "id": "1QA24O_VEcv4",
        "outputId": "7c7f80bc-7a74-4366-a395-81ed7fd701ea"
      },
      "outputs": [
        {
          "name": "stdout",
          "output_type": "stream",
          "text": [
            "\n",
            "\n",
            "The Caesar Cipher is a simple encryption technique that replaces each letter with a letter a fixed number of positions down the alphabet. To decrypt the message, you need to reverse the process by moving each letter back up the alphabet by the same number of positions.\n",
            "\n",
            "For example, if you want to encrypt the message “CAESAR”, you would replace each letter with the letter that is a certain number of positions down the alphabet. So “C” becomes “D”, “A” becomes “B”, “E” becomes “C”, and “R” becomes “A”. The resulting encrypted message is “MKOCKB”.\n",
            "\n",
            "To decrypt the message, you would move each letter back up the alphabet by the same number of positions. So “M” becomes “M”, “K” becomes “K”, “O” becomes “O”, “C” becomes “C”, and “B” becomes “A”. The original message is then “CAESAR”.\n"
          ]
        }
      ],
      "source": [
        "print(finetuned_model(\"What key do we need to make “CAESAR” become “MKOCKB”?\"))"
      ]
    },
    {
      "cell_type": "markdown",
      "metadata": {
        "id": "iN0y11y3TwSf"
      },
      "source": [
        "We can see that for the most basic Caesar cypher question for which we even gave some context, the model was not able to perform the decoding correctly"
      ]
    }
  ],
  "metadata": {
    "colab": {
      "provenance": []
    },
    "kernelspec": {
      "display_name": "Python 3",
      "name": "python3"
    },
    "language_info": {
      "name": "python"
    }
  },
  "nbformat": 4,
  "nbformat_minor": 0
}
