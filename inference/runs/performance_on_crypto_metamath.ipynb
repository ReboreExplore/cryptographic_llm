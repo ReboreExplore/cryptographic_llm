{
 "cells": [
  {
   "cell_type": "markdown",
   "id": "ebbf8678",
   "metadata": {},
   "source": [
    "# Performance of the crypto_metamath_model"
   ]
  },
  {
   "cell_type": "markdown",
   "id": "dee02d0e",
   "metadata": {},
   "source": [
    "### Set up the GPU"
   ]
  },
  {
   "cell_type": "code",
   "execution_count": 1,
   "id": "921fc6b8",
   "metadata": {},
   "outputs": [],
   "source": [
    "import os\n",
    "gpu = os.environ[\"CUDA_VISIBLE_DEVICES\"]=\"3\""
   ]
  },
  {
   "cell_type": "markdown",
   "id": "49193292",
   "metadata": {},
   "source": [
    "### Some Conclusions:\n",
    "\n",
    "1. "
   ]
  },
  {
   "cell_type": "code",
   "execution_count": 2,
   "id": "c80a6cf6",
   "metadata": {},
   "outputs": [
    {
     "data": {
      "text/plain": [
       "31"
      ]
     },
     "execution_count": 2,
     "metadata": {},
     "output_type": "execute_result"
    }
   ],
   "source": [
    "import gc\n",
    "\n",
    "#Force garbage collection\n",
    "gc.collect()"
   ]
  },
  {
   "cell_type": "markdown",
   "id": "0bf3144c",
   "metadata": {},
   "source": [
    "### Import libraries"
   ]
  },
  {
   "cell_type": "code",
   "execution_count": 3,
   "id": "c61a5ae8",
   "metadata": {},
   "outputs": [
    {
     "name": "stderr",
     "output_type": "stream",
     "text": [
      "/projects/barman/crypto-llm-v2/lib/python3.12/site-packages/tqdm/auto.py:21: TqdmWarning: IProgress not found. Please update jupyter and ipywidgets. See https://ipywidgets.readthedocs.io/en/stable/user_install.html\n",
      "  from .autonotebook import tqdm as notebook_tqdm\n",
      "2024-05-14 10:36:35.836126: I tensorflow/core/util/port.cc:113] oneDNN custom operations are on. You may see slightly different numerical results due to floating-point round-off errors from different computation orders. To turn them off, set the environment variable `TF_ENABLE_ONEDNN_OPTS=0`.\n",
      "2024-05-14 10:36:35.886405: I tensorflow/core/platform/cpu_feature_guard.cc:210] This TensorFlow binary is optimized to use available CPU instructions in performance-critical operations.\n",
      "To enable the following instructions: AVX2 AVX512F AVX512_VNNI FMA, in other operations, rebuild TensorFlow with the appropriate compiler flags.\n",
      "2024-05-14 10:36:43.303439: W tensorflow/compiler/tf2tensorrt/utils/py_utils.cc:38] TF-TRT Warning: Could not find TensorRT\n"
     ]
    }
   ],
   "source": [
    "import torch\n",
    "from peft import AutoPeftModelForCausalLM\n",
    "from transformers import AutoTokenizer,pipeline, logging, BitsAndBytesConfig, AutoModelForCausalLM,GenerationConfig\n",
    "from datasets import load_dataset\n",
    "import torch\n",
    "from langchain import HuggingFacePipeline\n",
    "# from langchain.agents.agent_toolkits import create_python_agent\n",
    "# from langchain.tools.python.tool import PythonREPLTool\n",
    "from langchain.chains import LLMMathChain, LLMChain\n",
    "from langchain.agents import Tool, initialize_agent\n",
    "from langchain.prompts import PromptTemplate\n",
    "from langchain.agents.agent_types import AgentType"
   ]
  },
  {
   "cell_type": "markdown",
   "id": "99e7f924",
   "metadata": {},
   "source": [
    "### Get the crypto model and the base model"
   ]
  },
  {
   "cell_type": "code",
   "execution_count": 4,
   "id": "9abfbdfa",
   "metadata": {},
   "outputs": [],
   "source": [
    "# Get the finetuned model\n",
    "output_dir = \"../../results/metamath-crypto-14-05-00-30\"\n",
    "\n",
    "# base model\n",
    "base = \"meta-math/MetaMath-Mistral-7B\""
   ]
  },
  {
   "cell_type": "markdown",
   "id": "97bb9752",
   "metadata": {},
   "source": [
    "### Get some testing prompts\n",
    "\n",
    "The prompts used for testing the models are generic covering every aspect of the dataset. Since we are working on further labelling the dataset, currently the ablation study is just on two categories : **cipher conceptual questions** and **basic number theory** and **modular arithmetic problems**."
   ]
  },
  {
   "cell_type": "code",
   "execution_count": 5,
   "id": "29d32ac0",
   "metadata": {},
   "outputs": [],
   "source": [
    "# testing prompts\n",
    "prompts = {\"conceptual\" : [\"What is symmetric encryption. Explain briefly\",\n",
    "                           \"What are hashing functions? What are hash collisions? Answer briefly\",\n",
    "                           \"What is a crystal cipher? Describe its strcuture. Answer breifly\",\n",
    "                           \"What is Caeser cipher? Explain with an example\"], \n",
    "           \"math\" : [\"How many 4-digit debit card personal identification numbers (PIN) can be made?\",\n",
    "                    \"How many ways can you arrange 3 people standing in line? Answer briefly\",\n",
    "                    \"Give the prime factorization of 25\",\n",
    "                    \"Is 874597346593745 even? Justify your answer\",\n",
    "                     \"What is the lcm of 1 and 2\",\n",
    "                    \"Is 55 divisible by 5?\"]}"
   ]
  },
  {
   "cell_type": "markdown",
   "id": "c7bb4687",
   "metadata": {},
   "source": [
    "### Original Crypto-dataset - without augmented samples"
   ]
  },
  {
   "cell_type": "code",
   "execution_count": 6,
   "id": "38302c13",
   "metadata": {},
   "outputs": [],
   "source": [
    "# Load the crypto dataset\n",
    "crypto_dataset = load_dataset(\"Manpa/cryptoqa-v1\", split=\"test\")"
   ]
  },
  {
   "cell_type": "code",
   "execution_count": 7,
   "id": "641d1bac",
   "metadata": {},
   "outputs": [
    {
     "data": {
      "text/plain": [
       "{'question': 'Write one disadvantage of assymmetric encryption.',\n",
       " 'answer': 'Asymmetric encryption is slower and more complicated than symmetric encryption. There is also a risk of the private key being lost or stolen which is non recoverable.',\n",
       " 'type': 'orig',\n",
       " 'category': 'word',\n",
       " 'topic': 'cipher',\n",
       " 'source': 'self'}"
      ]
     },
     "execution_count": 7,
     "metadata": {},
     "output_type": "execute_result"
    }
   ],
   "source": [
    "crypto_dataset[3]"
   ]
  },
  {
   "cell_type": "markdown",
   "id": "54d565f6",
   "metadata": {},
   "source": [
    "### Set the quantization parameters and the tokenizer"
   ]
  },
  {
   "cell_type": "code",
   "execution_count": 8,
   "id": "8af50298",
   "metadata": {},
   "outputs": [],
   "source": [
    "# Set the bits and bytes configuration\n",
    "bnb_config = BitsAndBytesConfig(\n",
    "    load_in_4bit=True,\n",
    "    bnb_4bit_quant_type=\"nf4\",\n",
    "    bnb_4bit_compute_dtype=\"float16\",\n",
    "    bnb_4bit_use_double_quant=False,\n",
    ")\n",
    "\n",
    "# Load the tokenizer\n",
    "tokenizer = AutoTokenizer.from_pretrained(output_dir)"
   ]
  },
  {
   "cell_type": "markdown",
   "id": "0afe9958",
   "metadata": {},
   "source": [
    "## Test on the mathematical capabilities"
   ]
  },
  {
   "cell_type": "code",
   "execution_count": 9,
   "id": "e02c8989",
   "metadata": {},
   "outputs": [],
   "source": [
    "DEFAULT_SYSTEM_PROMPT = \"\"\" You are a fine-tuned AI model who is a math genious. \n",
    "You can solve simple to moderate level mathematics problems. \n",
    "Follow a chain of thought approach while answering. Answer in brief. \"\"\""
   ]
  },
  {
   "cell_type": "markdown",
   "id": "cd788ddc",
   "metadata": {},
   "source": [
    "### Test on the base model on which cryptollama7b is trained on."
   ]
  },
  {
   "cell_type": "code",
   "execution_count": 10,
   "id": "5c75583c",
   "metadata": {},
   "outputs": [
    {
     "name": "stderr",
     "output_type": "stream",
     "text": [
      "Loading checkpoint shards: 100%|██████████████████████████████████████████████████████████████████████████████████████████████████████████████████████████████████████████████| 2/2 [00:08<00:00,  4.04s/it]\n"
     ]
    }
   ],
   "source": [
    "# Load the pretrained model\n",
    "base_model = AutoModelForCausalLM.from_pretrained(\n",
    "    base,\n",
    "    load_in_4bit=True,\n",
    "    quantization_config=bnb_config,\n",
    "    torch_dtype=torch.bfloat16,\n",
    "    device_map={\"\": 0},\n",
    "    trust_remote_code=True,\n",
    "    cache_dir=\"/projects/barman/cache\"\n",
    ")"
   ]
  },
  {
   "cell_type": "code",
   "execution_count": 12,
   "id": "b783f111",
   "metadata": {},
   "outputs": [],
   "source": [
    "def generate_response(prompt,test_model):\n",
    "    # Ignore warnings\n",
    "    logging.set_verbosity(logging.CRITICAL)\n",
    "\n",
    "    # Set the pipeline for inference\n",
    "    pipe = pipeline(\n",
    "        \"text-generation\", \n",
    "        model=test_model, \n",
    "        tokenizer = tokenizer, \n",
    "        torch_dtype=torch.bfloat16, \n",
    "        device_map= {\"\": 0}\n",
    "    )\n",
    "    # Print the results\n",
    "    result = pipe(f\"Below is an instruction that describes a task. Write a response that appropriately completes the request.\\n\\n ### Instruction:\\n{prompt}\\n\\n### Response: Let's think step by step.\\n\",do_sample=True,\n",
    "        max_new_tokens=512, \n",
    "        temperature=0.9, \n",
    "        top_k=50, \n",
    "        top_p=0.95,\n",
    "        num_return_sequences=1)\n",
    "    return result"
   ]
  },
  {
   "cell_type": "code",
   "execution_count": 14,
   "id": "309d93aa",
   "metadata": {},
   "outputs": [
    {
     "name": "stdout",
     "output_type": "stream",
     "text": [
      "Input:\n",
      "What is the sum of the first 10 natural numbers?\n",
      "\n",
      "Generated Response \n",
      " Below is an instruction that describes a task. Write a response that appropriately completes the request.\n",
      "\n",
      " ### Instruction:\n",
      "What is the sum of the first 10 natural numbers?\n",
      "\n",
      "### Response: Let's think step by step.\n",
      "The first natural number is 1.\n",
      "The second natural number is 2.\n",
      "The third natural number is 3.\n",
      "And so on...\n",
      "The tenth natural number is 10.\n",
      "To find the sum of the first 10 natural numbers, we can add them up:\n",
      "$1 + 2 + 3 + \\dots + 10 = \\boxed{55}$.\n",
      "\n"
     ]
    }
   ],
   "source": [
    "result = generate_response(crypto_dataset[24]['question'],base_model)\n",
    "print(f\"Input:\\n{crypto_dataset[24][\"question\"]}\\n\")\n",
    "print(f\"Generated Response \\n {result[0]['generated_text'].split(\"The answer is\")[0]}\")"
   ]
  },
  {
   "cell_type": "code",
   "execution_count": 15,
   "id": "43989039",
   "metadata": {},
   "outputs": [
    {
     "name": "stdout",
     "output_type": "stream",
     "text": [
      "Input:\n",
      "Determine if the expression \\(3 \\cdot 3262 + 2\\) is divisible by 3.\n",
      "\n",
      "Generated Response \n",
      " Below is an instruction that describes a task. Write a response that appropriately completes the request.\n",
      "\n",
      " ### Instruction:\n",
      "Determine if the expression \\(3 \\cdot 3262 + 2\\) is divisible by 3.\n",
      "\n",
      "### Response: Let's think step by step.\n",
      "We know that a number is divisible by 3 if the sum of its digits is divisible by 3.\n",
      "The sum of the digits of 3262 is $3 + 2 + 6 + 2 = 13$.\n",
      "Since 13 is not divisible by 3, the expression \\(3 \\cdot 3262 + 2\\) is not divisible by 3.\n",
      "\n",
      "Ground Truth \n",
      " The expression \\(3 \\cdot 3262 + 2\\) is not divisible by 3 as 3 \\cdot 3262 = 9786 is divisible by 3 but 2 is not divisible by 3.\n"
     ]
    }
   ],
   "source": [
    "result = generate_response(crypto_dataset[26]['question'],base_model)\n",
    "print(f\"Input:\\n{crypto_dataset[26][\"question\"]}\\n\")\n",
    "print(f\"Generated Response \\n {result[0]['generated_text'].split(\"The answer is\")[0]}\")\n",
    "print(f\"Ground Truth \\n {crypto_dataset[26]['answer']}\")"
   ]
  },
  {
   "cell_type": "code",
   "execution_count": 16,
   "id": "f7594139",
   "metadata": {},
   "outputs": [
    {
     "name": "stdout",
     "output_type": "stream",
     "text": [
      "Input:\n",
      "Determine if the expression \\(3 \\cdot 3262 + 2\\) is divisible by 3.\n",
      "\n",
      "Generated Response \n",
      " Below is an instruction that describes a task. Write a response that appropriately completes the request.\n",
      "\n",
      " ### Instruction:\n",
      "Determine if the expression \\(3 \\cdot 3262 + 2\\) is divisible by 3.\n",
      "\n",
      "### Response: Let's think step by step.\n",
      "We can rewrite the expression as $3 \\cdot 3262 + 2 = 3 \\cdot (1000 + 262 + 2) + 2$.\n",
      "Simplifying, we get $3 \\cdot 1264 + 2$.\n",
      "Since $1264$ is divisible by $3$, we can conclude that the entire expression is divisible by $3$.\n",
      "Therefore, the expression \\(3 \\cdot 3262 + 2\\) is divisible by \\(3\\).\n",
      "Ground Truth \n",
      " The expression \\(3 \\cdot 3262 + 2\\) is not divisible by 3 as 3 \\cdot 3262 = 9786 is divisible by 3 but 2 is not divisible by 3.\n"
     ]
    }
   ],
   "source": [
    "result = generate_response(crypto_dataset[30]['question'],base_model)\n",
    "print(f\"Input:\\n{crypto_dataset[30][\"question\"]}\\n\")\n",
    "print(f\"Generated Response \\n {result[0]['generated_text'].split(\"The answer is\")[0]}\")\n",
    "print(f\"Ground Truth \\n {crypto_dataset[30]['answer']}\")"
   ]
  },
  {
   "cell_type": "code",
   "execution_count": 17,
   "id": "aed31396",
   "metadata": {},
   "outputs": [
    {
     "name": "stdout",
     "output_type": "stream",
     "text": [
      "Input:\n",
      "Is 3493 a prime ?\n",
      "\n",
      "Generated Response \n",
      " Below is an instruction that describes a task. Write a response that appropriately completes the request.\n",
      "\n",
      " ### Instruction:\n",
      "Is 3493 a prime ?\n",
      "\n",
      "### Response: Let's think step by step.\n",
      "To determine if a number is prime, we need to check if it is divisible by any number other than 1 and itself.\n",
      "We can start by checking if 3493 is divisible by 2, 3, 5, and 7, as these are the smallest prime numbers.\n",
      "3493 is not divisible by 2, 3, 5, or 7.\n",
      "Next, we can check if 3493 is divisible by any number between 2 and $\\sqrt{3493}$.\n",
      "We can see that $\\sqrt{3493}$ is approximately 59.48.\n",
      "So, we only need to check if 3493 is divisible by numbers between 2 and 59.\n",
      "We find that 3493 is not divisible by any of these numbers.\n",
      "Therefore, we can conclude that 3493 is a prime number.\n",
      "\n",
      "Ground Truth \n",
      " No, 3493 is not a prime number as 3493 can be divided by 1, 7, 499, and 3493.\n"
     ]
    }
   ],
   "source": [
    "result = generate_response(crypto_dataset[32]['question'],base_model)\n",
    "print(f\"Input:\\n{crypto_dataset[32][\"question\"]}\\n\")\n",
    "print(f\"Generated Response \\n {result[0]['generated_text'].split(\"The answer is\")[0]}\")\n",
    "print(f\"Ground Truth \\n {crypto_dataset[32]['answer']}\")"
   ]
  },
  {
   "cell_type": "code",
   "execution_count": 18,
   "id": "5fd4f90e",
   "metadata": {},
   "outputs": [
    {
     "name": "stdout",
     "output_type": "stream",
     "text": [
      "Input:\n",
      "There are 3 juniors, 4 seniors, and 2 sophomores in a class. If a committee of 4 students is to be formed, what is the probability that the committee will have 2 juniors, 1 senior, and 1 sophomore?\n",
      "\n",
      "Generated Response \n",
      " Below is an instruction that describes a task. Write a response that appropriately completes the request.\n",
      "\n",
      " ### Instruction:\n",
      "There are 3 juniors, 4 seniors, and 2 sophomores in a class. If a committee of 4 students is to be formed, what is the probability that the committee will have 2 juniors, 1 senior, and 1 sophomore?\n",
      "\n",
      "### Response: Let's think step by step.\n",
      "First, we need to choose 2 juniors from the 3 available. This can be done in $\\binom{3}{2}=3$ ways.\n",
      "Next, we need to choose 1 senior from the 4 available. This can be done in $\\binom{4}{1}=4$ ways.\n",
      "Finally, we need to choose 1 sophomore from the 2 available. This can be done in $\\binom{2}{1}=2$ ways.\n",
      "Therefore, the total number of ways to form a committee with 2 juniors, 1 senior, and 1 sophomore is $3 \\cdot 4 \\cdot 2 = 24$.\n",
      "Since there are a total of $\\binom{9}{4}=126$ possible committees that can be formed, the probability of forming a committee with 2 juniors, 1 senior, and 1 sophomore is $\\frac{24}{126}=\\boxed{\\frac{4}{9}}$.\n",
      "\n",
      "Ground Truth \n",
      " The probability that the committee will have 2 juniors, 1 senior, and 1 sophomore is (3C2 * 4C1 * 2C1) / 9C4 = 24/84 = 2/7.\n"
     ]
    }
   ],
   "source": [
    "result = generate_response(crypto_dataset[42]['question'],base_model)\n",
    "print(f\"Input:\\n{crypto_dataset[42][\"question\"]}\\n\")\n",
    "print(f\"Generated Response \\n {result[0]['generated_text'].split(\"The answer is\")[0]}\")\n",
    "print(f\"Ground Truth \\n {crypto_dataset[42]['answer']}\")"
   ]
  },
  {
   "cell_type": "code",
   "execution_count": 19,
   "id": "6c681f39",
   "metadata": {},
   "outputs": [
    {
     "name": "stdout",
     "output_type": "stream",
     "text": [
      "Input:\n",
      "A die is rolled twice. Let A be the event rolling a 6 on the first roll and let B be the event rolling a 3 on the second roll. Are A and B independent events?\n",
      "\n",
      "Generated Response \n",
      " Below is an instruction that describes a task. Write a response that appropriately completes the request.\n",
      "\n",
      " ### Instruction:\n",
      "A die is rolled twice. Let A be the event rolling a 6 on the first roll and let B be the event rolling a 3 on the second roll. Are A and B independent events?\n",
      "\n",
      "### Response: Let's think step by step.\n",
      "The probability of rolling a 6 on the first roll is $\\frac{1}{6}$.\n",
      "The probability of rolling a 3 on the second roll is $\\frac{1}{6}$.\n",
      "Since the first roll does not affect the second roll, the events A and B are independent.\n",
      "Therefore, the answer is $\\boxed{\\text{Yes}}$.\n",
      "Ground Truth \n",
      " Yes, A and B are independent events as the outcome of the first roll does not affect the outcome of the second roll.\n"
     ]
    }
   ],
   "source": [
    "result = generate_response(crypto_dataset[39]['question'],base_model)\n",
    "print(f\"Input:\\n{crypto_dataset[39][\"question\"]}\\n\")\n",
    "print(f\"Generated Response \\n {result[0]['generated_text'].split(\"The answer is\")[0]}\")\n",
    "print(f\"Ground Truth \\n {crypto_dataset[39]['answer']}\")"
   ]
  },
  {
   "cell_type": "markdown",
   "id": "8185cb0d",
   "metadata": {},
   "source": [
    "### Test on the fine tuned METAMATH model"
   ]
  },
  {
   "cell_type": "code",
   "execution_count": 20,
   "id": "f20c0816",
   "metadata": {},
   "outputs": [
    {
     "name": "stderr",
     "output_type": "stream",
     "text": [
      "Loading checkpoint shards: 100%|██████████████████████████████████████████████████████████████████████████████████████████████████████████████████████████████████████████████| 2/2 [00:08<00:00,  4.01s/it]\n"
     ]
    }
   ],
   "source": [
    "# Load the finetuned model from output_dir\n",
    "ft_model =AutoPeftModelForCausalLM.from_pretrained(\n",
    "    output_dir,\n",
    "    low_cpu_mem_usage=True,\n",
    "    torch_dtype=torch.float16,\n",
    "    load_in_4bit=True,\n",
    "    cache_dir=\"/projects/barman/cache\",\n",
    ")"
   ]
  },
  {
   "cell_type": "code",
   "execution_count": 21,
   "id": "da7bee13",
   "metadata": {},
   "outputs": [
    {
     "name": "stderr",
     "output_type": "stream",
     "text": [
      "/projects/barman/crypto-llm-v2/lib/python3.12/site-packages/bitsandbytes/nn/modules.py:226: UserWarning: Input type into Linear4bit is torch.float16, but bnb_4bit_compute_dtype=torch.float32 (default). This will lead to slow inference or training speed.\n",
      "  warnings.warn(f'Input type into Linear4bit is torch.float16, but bnb_4bit_compute_dtype=torch.float32 (default). This will lead to slow inference or training speed.')\n"
     ]
    },
    {
     "name": "stdout",
     "output_type": "stream",
     "text": [
      "Input:\n",
      "What is the sum of the first 10 natural numbers?\n",
      "\n",
      "Generated Response \n",
      " Below is an instruction that describes a task. Write a response that appropriately completes the request.\n",
      "\n",
      " ### Instruction:\n",
      "What is the sum of the first 10 natural numbers?\n",
      "\n",
      "### Response: Let's think step by step.\n",
      "The sum of the first 10 natural numbers is defined as: $1+2+3+...+10=55$. \n",
      "\n",
      "There is no step-by-step guide to think in this scenario, so the answer is left to the imagination. \n",
      "\n",
      "Ground Truth \n",
      " The sum of the first 10 natural numbers is 1+2+3+4+5+6+7+8+9+10 = 55. It can be also computed as n(n+1)/2 where n is the number of natural numbers.\n"
     ]
    }
   ],
   "source": [
    "result = generate_response(crypto_dataset[24]['question'],ft_model)\n",
    "print(f\"Input:\\n{crypto_dataset[24][\"question\"]}\\n\")\n",
    "print(f\"Generated Response \\n {result[0]['generated_text'].split(\"The answer is\")[0]}\")\n",
    "print(f\"Ground Truth \\n {crypto_dataset[24]['answer']}\")"
   ]
  },
  {
   "cell_type": "code",
   "execution_count": 22,
   "id": "e11748be",
   "metadata": {},
   "outputs": [
    {
     "name": "stdout",
     "output_type": "stream",
     "text": [
      "Input:\n",
      "Determine if the expression \\(3 \\cdot 3262 + 2\\) is divisible by 3.\n",
      "\n",
      "Generated Response \n",
      " Below is an instruction that describes a task. Write a response that appropriately completes the request.\n",
      "\n",
      " ### Instruction:\n",
      "Determine if the expression \\(3 \\cdot 3262 + 2\\) is divisible by 3.\n",
      "\n",
      "### Response: Let's think step by step.\n",
      "We can determine the divisibility of the expression \\(3 \\cdot 3262 + 2\\) by considering the remainders of the digits being multiplied and the divisibility rule for 3. According to the divisibility rule for 3, a number is divisible by 3 if the sum of its digits is divisible by 3. \n",
      "\n",
      "Applying this rule, we evaluate \\(3 \\cdot 3262 + 2\\). The sum of the digits of 3262 is 10. Furthermore, 10 divided by 3 leaves a remainder of 1. \n",
      "\n",
      "Therefore, the expression \\(3 \\cdot 3262 + 2\\) is not divisible by 3. \n",
      "\n",
      "Alternatively, one can evaluate the remainder of 1 when dividing by 3. Let's check the divisibility with this method.\n",
      "\n",
      "Applying this rule, we evaluate \\(3 \\cdot 3262 + 2\\). The remainder when dividing 10 by 3 is 1. \n",
      "\n",
      "Therefore, the expression \\(3 \\cdot 3262 + 2\\) is not divisible by 3. \n",
      "\n",
      "In summary, applying the divisibility rule for 3, we find that the expression \\(3 \\cdot 3262 + 2\\) is not divisible by 3. \n",
      "\n",
      "In addition, applying the remainder test, we find that the expression \\(3 \\cdot 3262 + 2\\) is not divisible by 3. \n",
      "\n",
      "Let's think step by step.\n",
      "To evaluate the remainder of 1 when dividing by 3, we can use the method of finding the remainder of 1 when dividing by 3. \n",
      "\n",
      "Applying this rule, we evaluate \\(3 \\cdot 3262 + 2\\). The remainder when dividing 10 by 3 is 1. \n",
      "\n",
      "Therefore, the expression \\(3 \\cdot 3262 + 2\\) is not divisible by 3. \n",
      "\n",
      "In summary, applying the remainder test, we find that the expression \\(3 \\cdot 3262 + 2\\) is not divisible by 3. \n",
      "\n",
      "Let's think step by step.\n",
      "To evaluate the remainder\n",
      "Ground Truth \n",
      " The expression \\(3 \\cdot 3262 + 2\\) is not divisible by 3 as 3 \\cdot 3262 = 9786 is divisible by 3 but 2 is not divisible by 3.\n"
     ]
    }
   ],
   "source": [
    "result = generate_response(crypto_dataset[26]['question'],ft_model)\n",
    "print(f\"Input:\\n{crypto_dataset[26][\"question\"]}\\n\")\n",
    "print(f\"Generated Response \\n {result[0]['generated_text'].split(\"The answer is\")[0]}\")\n",
    "print(f\"Ground Truth \\n {crypto_dataset[26]['answer']}\")"
   ]
  },
  {
   "cell_type": "code",
   "execution_count": 23,
   "id": "da4eb07b",
   "metadata": {},
   "outputs": [
    {
     "name": "stdout",
     "output_type": "stream",
     "text": [
      "Input:\n",
      "Is 0.333333..... a rational number?\n",
      "\n",
      "Generated Response \n",
      " Below is an instruction that describes a task. Write a response that appropriately completes the request.\n",
      "\n",
      " ### Instruction:\n",
      "Is 0.333333..... a rational number?\n",
      "\n",
      "### Response: Let's think step by step.\n",
      "Yes, 0.333333..... is a rational number. \n",
      "To confirm this, we can observe that 0.333333..... can be written as 3/9.\n",
      "0.333333... can be expressed as 3/9, which confirms that it is a rational number. \n",
      "#### 9/12 \n",
      "\n",
      "Ground Truth \n",
      " Yes, 0.333333..... is a rational number as it can be expressed as 1/3.\n"
     ]
    }
   ],
   "source": [
    "result = generate_response(crypto_dataset[30]['question'],ft_model)\n",
    "print(f\"Input:\\n{crypto_dataset[30][\"question\"]}\\n\")\n",
    "print(f\"Generated Response \\n {result[0]['generated_text'].split(\"The answer is\")[0]}\")\n",
    "print(f\"Ground Truth \\n {crypto_dataset[30]['answer']}\")"
   ]
  },
  {
   "cell_type": "code",
   "execution_count": 26,
   "id": "97a71563",
   "metadata": {},
   "outputs": [
    {
     "name": "stdout",
     "output_type": "stream",
     "text": [
      "Input:\n",
      "Is 3493 a prime ?\n",
      "\n",
      "Generated Response \n",
      " Below is an instruction that describes a task. Write a response that appropriately completes the request.\n",
      "\n",
      " ### Instruction:\n",
      "Is 3493 a prime ?\n",
      "\n",
      "### Response: Let's think step by step.\n",
      "No, 3493 is not a prime. It can be factored into 3 and 1127, both of which are prime numbers. \n",
      "3493 = 3 * 1127 \n",
      "Hence, 3493 is not a prime number. \n",
      "\n",
      "Ground Truth \n",
      " No, 3493 is not a prime number as 3493 can be divided by 1, 7, 499, and 3493.\n"
     ]
    }
   ],
   "source": [
    "result = generate_response(crypto_dataset[32]['question'],ft_model)\n",
    "print(f\"Input:\\n{crypto_dataset[32][\"question\"]}\\n\")\n",
    "print(f\"Generated Response \\n {result[0]['generated_text'].split(\"The answer is\")[0]}\")\n",
    "print(f\"Ground Truth \\n {crypto_dataset[32]['answer']}\")"
   ]
  },
  {
   "cell_type": "code",
   "execution_count": 27,
   "id": "24c79341",
   "metadata": {},
   "outputs": [
    {
     "name": "stdout",
     "output_type": "stream",
     "text": [
      "Input:\n",
      "What is the number of arrangements in a team of 10 , if there are 4 players and 6 substitutes?\n",
      "\n",
      "Generated Response \n",
      " Below is an instruction that describes a task. Write a response that appropriately completes the request.\n",
      "\n",
      " ### Instruction:\n",
      "What is the number of arrangements in a team of 10 , if there are 4 players and 6 substitutes?\n",
      "\n",
      "### Response: Let's think step by step.\n",
      "There are 10 people in the team, out of which 4 are players and the remaining 6 are substitutes. The number of ways in which these 10 people can be arranged in a sequence is 10!. However, this counts arrangements where players and substitutes are intermingled. \n",
      "To account for this, we need to divide 10! by the number of ways the players and substitutes can be arranged within their own group, i.e. 4! and 6! respectively. Thus, the final calculation becomes 10! / (4! * 6!). \n",
      "Evaluating this expression, we find that the number of arrangements in a team of 10, with 4 players and 6 substitutes, is 40320. \n",
      "So, the answer is 40320. \n",
      "#### 40320#### 40320\n",
      "\n",
      "Ground Truth \n",
      " The number of arrangements in a team of 10, if there are 4 players and 6 substitutes is 10!/(4! * 6!) = 210.\n"
     ]
    }
   ],
   "source": [
    "result = generate_response(crypto_dataset[41]['question'],ft_model)\n",
    "print(f\"Input:\\n{crypto_dataset[41][\"question\"]}\\n\")\n",
    "print(f\"Generated Response \\n {result[0]['generated_text'].split(\"The answer is\")[0]}\")\n",
    "print(f\"Ground Truth \\n {crypto_dataset[41]['answer']}\")"
   ]
  },
  {
   "cell_type": "code",
   "execution_count": 29,
   "id": "49f482a4",
   "metadata": {},
   "outputs": [
    {
     "name": "stdout",
     "output_type": "stream",
     "text": [
      "Input:\n",
      "A die is rolled twice. Let A be the event rolling a 6 on the first roll and let B be the event rolling a 3 on the second roll. Are A and B independent events?\n",
      "\n",
      "Generated Response \n",
      " Below is an instruction that describes a task. Write a response that appropriately completes the request.\n",
      "\n",
      " ### Instruction:\n",
      "A die is rolled twice. Let A be the event rolling a 6 on the first roll and let B be the event rolling a 3 on the second roll. Are A and B independent events?\n",
      "\n",
      "### Response: Let's think step by step.\n",
      "A and B are independent events if rolling a 6 on the first roll does not affect the probability of rolling a 3 on the second roll. \n",
      "The probability of rolling a 6 on the first roll is 1/6, and the probability of rolling a 3 on the second roll is 1/6. Since the probability of rolling a 6 does not affect the probability of rolling a 3, A and B are independent events. \n",
      " \\\\ \n",
      " Therefore, the answer is: 1\n",
      "\n",
      "Ground Truth \n",
      " Yes, A and B are independent events as the outcome of the first roll does not affect the outcome of the second roll.\n"
     ]
    }
   ],
   "source": [
    "result = generate_response(crypto_dataset[39]['question'],ft_model)\n",
    "print(f\"Input:\\n{crypto_dataset[3][\"question\"]}\\n\")\n",
    "print(f\"Generated Response \\n {result[0]['generated_text'].split(\"The answer is\")[0]}\")\n",
    "print(f\"Ground Truth \\n {crypto_dataset[39]['answer']}\")"
   ]
  },
  {
   "cell_type": "markdown",
   "id": "6e415d6b",
   "metadata": {},
   "source": [
    "## Testing Cryptographic Conceptual capabilities"
   ]
  },
  {
   "cell_type": "markdown",
   "id": "f2cd7b78",
   "metadata": {},
   "source": [
    "### Testing the fine tuned model"
   ]
  },
  {
   "cell_type": "code",
   "execution_count": 33,
   "id": "a53aafd3",
   "metadata": {},
   "outputs": [],
   "source": [
    "SYSTEM_PROMPT = \"You are a cryptographic expert with very strong conceptual understanding of the domain. You can easily solve medium to higher difficulty cryptographich problems as well. Please answer clearly and precisely as if you are teaching graduate students.\""
   ]
  },
  {
   "cell_type": "code",
   "execution_count": 30,
   "id": "1a40998f",
   "metadata": {},
   "outputs": [],
   "source": [
    "def generate_response(prompt,test_model):\n",
    "    # Ignore warnings\n",
    "    logging.set_verbosity(logging.CRITICAL)\n",
    "\n",
    "    # Set the pipeline for inference\n",
    "    pipe = pipeline(\n",
    "        \"text-generation\", \n",
    "        model=test_model, \n",
    "        tokenizer = tokenizer, \n",
    "        torch_dtype=torch.bfloat16, \n",
    "        device_map= {\"\": 0}\n",
    "    )\n",
    "    # Print the results\n",
    "    result = pipe(f\"Below is an instruction that describes a task. Write a response that appropriately completes the request.\\n\\n ### Instruction:\\n{prompt}\\n\\n### Response: Let's think step by step.\\n\",do_sample=True,\n",
    "        max_new_tokens=512, \n",
    "        temperature=0.9, \n",
    "        top_k=50, \n",
    "        top_p=0.95,\n",
    "        num_return_sequences=1)\n",
    "    return result"
   ]
  },
  {
   "cell_type": "code",
   "execution_count": 34,
   "id": "3554dd97",
   "metadata": {},
   "outputs": [
    {
     "name": "stdout",
     "output_type": "stream",
     "text": [
      "Input:\n",
      "Differentiate between confusion and diffusion in cryptography.\n",
      "\n",
      "Generated Response \n",
      " Below is an instruction that describes a task. Write a response that appropriately completes the request.\n",
      "\n",
      " ### Instruction:\n",
      "Differentiate between confusion and diffusion in cryptography.\n",
      "\n",
      "### Response: Let's think step by step.\n",
      "Confusion and diffusion are two fundamental principles in cryptography. \n",
      "\n",
      "- Confusion aims to make it difficult to trace a plaintext to a particular ciphertext.\n",
      "- Diffusion aims to make it difficult to tell which bits of a ciphertext came from which bits of the plaintext.\n",
      "\n",
      "In general, a good cipher should have both: \n",
      "\n",
      "- Confusion in that it makes it difficult to determine the plaintext based on the ciphertext alone, and \n",
      "- Diffusion in that it makes it difficult to determine the relationships between different bits of the ciphertext.\n",
      "\n",
      "This ensures that a cipher is less susceptible to cryptanalytic attacks. \n",
      "\n",
      "There is no simple answer. The answer will depend on the specific problem context. \n",
      "\n",
      "Let's think step by step. \n",
      "\n",
      "- Confusion can be achieved through substitution, where each plaintext character is mapped to a different ciphertext symbol in a codebook, such as in the case of the Caesar cipher. \n",
      "- Diffusion can be achieved through permutation, where the characters in a plaintext are rearranged to form a different ciphertext, such as in the case of the shift cipher. \n",
      "\n",
      "For instance, the Caesar cipher maps the plaintext character \"A\" to \"D\" in the ciphertext, and \"E\" to \"H\". This confuses the relationship between the ciphertext and the plaintext. \n",
      "\n",
      "In contrast, the shift cipher maps the plaintext character \"A\" to \"B\" in the ciphertext, and \"B\" to \"C\". This diffuses the relationships between different bits of the ciphertext. \n",
      "\n",
      "In short, the cryptography system has both confusion and diffusion, which makes it more difficult to break. \n",
      "\n",
      "Let's think step by step. \n",
      "\n",
      "- Confusion is achieved when the ciphertext looks completely random and cannot be traced back to the plaintext. \n",
      "- Diffusion is achieved when the relationship between the plaintext and the ciphertext is scrambled. \n",
      "\n",
      "For example, if a simple substitution cipher is used to encrypt a long-phrase, such as \"We are going to the beach tomorrow\", then a cryptanalyst can easily determine the key since each character is mapped to the same ciphertext character. However, if a block c\n",
      "Ground Truth \n",
      " Confusion is the property of a cryptographic algorithm that makes the relationship between the key and the ciphertext as complex as possible. Diffusion is the property of a cryptographic algorithm that makes the relationship between the plaintext and the ciphertext as complex as possible.\n"
     ]
    }
   ],
   "source": [
    "result = generate_response(crypto_dataset[2]['question'],ft_model)\n",
    "print(f\"Input:\\n{crypto_dataset[2][\"question\"]}\\n\")\n",
    "print(f\"Generated Response \\n {result[0]['generated_text'].split(\"The answer is\")[0]}\")\n",
    "print(f\"Ground Truth \\n {crypto_dataset[2]['answer']}\")"
   ]
  },
  {
   "cell_type": "code",
   "execution_count": 35,
   "id": "fc0dac34",
   "metadata": {},
   "outputs": [
    {
     "name": "stdout",
     "output_type": "stream",
     "text": [
      "Input:\n",
      "What are hash functions useful for? Give an example.\n",
      "\n",
      "Generated Response \n",
      " Below is an instruction that describes a task. Write a response that appropriately completes the request.\n",
      "\n",
      " ### Instruction:\n",
      "What are hash functions useful for? Give an example.\n",
      "\n",
      "### Response: Let's think step by step.\n",
      "A hash function is useful for making an efficient mapping from a space of keys into a smaller space called hash table. For example, a hash function can map the set of words in English into a table of 256 entries, where the entries are labeled 0-255. \n",
      "\n",
      "255 is equal to $2^8 - 1$, which suggests that the table is indexed using a byte (or 8 bits). \n",
      "\n",
      "Furthermore, the hash function is usually represented by a program, which is run by the computer to compute the mapping. \n",
      "\n",
      "This mapping is also called a hash function. However, in general, a hash function may not be programmable, but simply a mathematical function. \n",
      "\n",
      "For example, let's consider a hash function that maps an integer key (a positive integer) to a positive integer. \n",
      "\n",
      "The hash function is simply a function of the form $h(x) = a \\cdot x + b$, where $a$ and $b$ are constants, which are such that the expression $h(x)$ represents a positive integer whenever $x$ is a positive integer. \n",
      "\n",
      "Also, note that a good hash function should distribute the keys evenly into the hash table. This ensures that a hash table will have an almost uniform distribution of keys, allowing for a better usage of the space. \n",
      "\n",
      "For example, for a hash table of 256 entries, if the keys are distributed evenly, there will be 256 keys, each being distributed to the 256 entries in a relatively even manner. \n",
      "\n",
      "If a distribution is not even, it is likely that some entries are empty, while others are overflowing with keys. \n",
      "\n",
      "This is why a good hash function should distribute keys evenly into the hash table. \n",
      "\n",
      "Hence, an example of a hash function would be a function that maps a positive integer key to another positive integer such that the expression $h(x)$ represents a positive integer whenever $x$ is a positive integer, and the keys are evenly distributed in the hash table. \n",
      "\n",
      "\n",
      "Ground Truth \n",
      " Hash functions are functions that map data of arbitrary size to fixed-size values. They are useful for verifying the integrity of data. An example of a hash function is SHA-256.\n"
     ]
    }
   ],
   "source": [
    "result = generate_response(crypto_dataset[8]['question'],ft_model)\n",
    "print(f\"Input:\\n{crypto_dataset[8][\"question\"]}\\n\")\n",
    "print(f\"Generated Response \\n {result[0]['generated_text'].split(\"The answer is\")[0]}\")\n",
    "print(f\"Ground Truth \\n {crypto_dataset[8]['answer']}\")"
   ]
  },
  {
   "cell_type": "code",
   "execution_count": 36,
   "id": "b013e66f",
   "metadata": {},
   "outputs": [
    {
     "name": "stdout",
     "output_type": "stream",
     "text": [
      "Input:\n",
      "What is one way function in cryptography?\n",
      "\n",
      "Generated Response \n",
      " Below is an instruction that describes a task. Write a response that appropriately completes the request.\n",
      "\n",
      " ### Instruction:\n",
      "What is one way function in cryptography?\n",
      "\n",
      "### Response: Let's think step by step.\n",
      "One way function is a function that does not allow recovering of the original inputs. This is achieved by ensuring that the outputs are unique and the inverse of the function is not feasible to find. In cryptography, this property makes the function desirable in constructing encryption schemes, providing security for sensitive information.  \n",
      " \n",
      "To achieve this, the encryption scheme relies on the property of the one way function to ensure that finding the original inputs or the plaintext message is not feasible. \n",
      "\n",
      "The idea of using a one way function in cryptography has been utilized by various techniques such as hashing, which maps a variable length input to a fixed length output, thereby providing a method for data integrity and authentication. \n",
      "\n",
      "This method of utilizing a one way function is often referred to as a “hash” or “cryptographic hash function.” By applying this function to the plaintext message, it is transformed into a fixed length “digest” or “hash,” resulting in a unique and irreversible transformation. \n",
      "\n",
      "Furthermore, the one way property of the function allows verification of the integrity of the plaintext message, without providing any information about the original inputs or the plaintext message itself. \n",
      "\n",
      "The application of the one way function in cryptography has led to the development of advanced security techniques, which have enhanced the ability to protect and secure sensitive information, thereby enabling the safe transmission of data in an era of increasing security risks and threats. \n",
      "\n",
      "Upon observing the system, we conclude that one way function in cryptography is not applicable in the given context. \n",
      "#### 2\n",
      "\n",
      "Ground Truth \n",
      " A one-way function is a function that is easy to compute in one direction but difficult to compute in the opposite direction.\n"
     ]
    }
   ],
   "source": [
    "result = generate_response(crypto_dataset[10]['question'],ft_model)\n",
    "print(f\"Input:\\n{crypto_dataset[10][\"question\"]}\\n\")\n",
    "print(f\"Generated Response \\n {result[0]['generated_text'].split(\"The answer is\")[0]}\")\n",
    "print(f\"Ground Truth \\n {crypto_dataset[10]['answer']}\")"
   ]
  },
  {
   "cell_type": "code",
   "execution_count": 37,
   "id": "6f53c41e",
   "metadata": {},
   "outputs": [
    {
     "name": "stdout",
     "output_type": "stream",
     "text": [
      "Input:\n",
      "What are the drawbacks of symmetric encryption?\n",
      "\n",
      "Generated Response \n",
      " Below is an instruction that describes a task. Write a response that appropriately completes the request.\n",
      "\n",
      " ### Instruction:\n",
      "What are the drawbacks of symmetric encryption?\n",
      "\n",
      "### Response: Let's think step by step.\n",
      "Symmetric encryption is faster than public-key encryption, but it also has some drawbacks. One drawback is that both parties involved in the communication need to share the key, which can be difficult to manage and securely distribute. This drawback also results in another problem, which is that symmetric encryption does not have built-in authentication, making it vulnerable to man-in-the-middle attacks. However, authentication can be provided by using cryptographic hashing and a digital signature, which is often used in combination with symmetric encryption. \n",
      "\n",
      "Another drawback is that a single key is used to encrypt and decrypt the data, which reduces the possibility of leaking the key. However, it can also result in another problem, which is that a single key is used to encrypt and decrypt the data, making the entire communication susceptible to leaking the key. This is solved by using a different key for each communication, which can further increase the complexity of managing the keys. \n",
      "\n",
      "Another drawback of symmetric encryption is that it does not provide forward secrecy. Forward secrecy refers to the assurance that even if a key is compromised, it cannot be used to decrypt previous communication. In symmetric encryption, it is possible for a compromised key to decrypt previous communication, which can result in information leakage. However, using a unique key for each communication can also result in the loss of forward secrecy. \n",
      "\n",
      "Lastly, a drawback of symmetric encryption is that it does not offer a natural way to verify the integrity of the data. It is assumed that the data is correct when decrypted. However, this can be easily solved by adding a digital signature to the data. \n",
      "\n",
      "Therefore, symmetric encryption, while faster than public-key encryption, has drawbacks such as key management complexity, insecure authentication, vulnerability to man-in-the-middle attacks, information leakage, and loss of forward secrecy. However, these drawbacks can be addressed with the appropriate protocols and mechanisms. \n",
      "\n",
      "\n",
      "\n",
      "- 74\n",
      "\n",
      "You have now learned the steps for solving this problem. \n",
      "To solve this problem, \n",
      "\n",
      "#### 74: 74\n",
      "\n",
      "Ground Truth \n",
      " The drawbacks of symmetric encryption are the need for a secure key exchange, the need for a secure key storage, and the need for a secure key distribution.\n"
     ]
    }
   ],
   "source": [
    "result = generate_response(crypto_dataset[15]['question'],ft_model)\n",
    "print(f\"Input:\\n{crypto_dataset[15][\"question\"]}\\n\")\n",
    "print(f\"Generated Response \\n {result[0]['generated_text'].split(\"The answer is\")[0]}\")\n",
    "print(f\"Ground Truth \\n {crypto_dataset[15]['answer']}\")"
   ]
  },
  {
   "cell_type": "markdown",
   "id": "d9b3f9cb",
   "metadata": {},
   "source": [
    "### Testing the base  model"
   ]
  },
  {
   "cell_type": "code",
   "execution_count": 38,
   "id": "5c5a8431",
   "metadata": {},
   "outputs": [
    {
     "name": "stdout",
     "output_type": "stream",
     "text": [
      "Input:\n",
      "Differentiate between confusion and diffusion in cryptography.\n",
      "\n",
      "Generated Response \n",
      " Below is an instruction that describes a task. Write a response that appropriately completes the request.\n",
      "\n",
      " ### Instruction:\n",
      "Differentiate between confusion and diffusion in cryptography.\n",
      "\n",
      "### Response: Let's think step by step.\n",
      "In cryptography, confusion and diffusion are two important concepts that are used to protect the confidentiality of data.\n",
      "Confusion is achieved by using a complex function to scramble the plaintext, making it difficult to determine the relationship between the plaintext and the ciphertext.\n",
      "Diffusion is achieved by using a function that spreads the information in the plaintext evenly throughout the ciphertext, making it difficult to determine the original plaintext from the ciphertext.\n",
      "The main difference between confusion and diffusion is that confusion is achieved through the use of a complex function, while diffusion is achieved through the use of a function that spreads the information evenly.\n",
      "In summary, confusion and diffusion are two important concepts in cryptography that work together to protect the confidentiality of data.\n",
      "#### 2\n",
      "\n",
      "Ground Truth \n",
      " Confusion is the property of a cryptographic algorithm that makes the relationship between the key and the ciphertext as complex as possible. Diffusion is the property of a cryptographic algorithm that makes the relationship between the plaintext and the ciphertext as complex as possible.\n"
     ]
    }
   ],
   "source": [
    "result = generate_response(crypto_dataset[2]['question'],base_model)\n",
    "print(f\"Input:\\n{crypto_dataset[2][\"question\"]}\\n\")\n",
    "print(f\"Generated Response \\n {result[0]['generated_text'].split(\"The answer is\")[0]}\")\n",
    "print(f\"Ground Truth \\n {crypto_dataset[2]['answer']}\")"
   ]
  },
  {
   "cell_type": "code",
   "execution_count": 44,
   "id": "1458218b",
   "metadata": {},
   "outputs": [
    {
     "name": "stdout",
     "output_type": "stream",
     "text": [
      "Input:\n",
      "What are hash functions useful for? Give an example.\n",
      "\n",
      "Generated Response \n",
      " Below is an instruction that describes a task. Write a response that appropriately completes the request.\n",
      "\n",
      " ### Instruction:\n",
      "What are hash functions useful for? Give an example.\n",
      "\n",
      "### Response: Let's think step by step.\n",
      "The answer is: \n",
      "Ground Truth \n",
      " Hash functions are functions that map data of arbitrary size to fixed-size values. They are useful for verifying the integrity of data. An example of a hash function is SHA-256.\n"
     ]
    }
   ],
   "source": [
    "result = generate_response(crypto_dataset[8]['question'],base_model)\n",
    "print(f\"Input:\\n{crypto_dataset[8][\"question\"]}\\n\")\n",
    "print(f\"Generated Response \\n {result[0]['generated_text']}\")\n",
    "print(f\"Ground Truth \\n {crypto_dataset[8]['answer']}\")"
   ]
  },
  {
   "cell_type": "code",
   "execution_count": 45,
   "id": "2ed9c3dd",
   "metadata": {},
   "outputs": [
    {
     "name": "stdout",
     "output_type": "stream",
     "text": [
      "Input:\n",
      "What are the drawbacks of symmetric encryption?\n",
      "\n",
      "Generated Response \n",
      " Below is an instruction that describes a task. Write a response that appropriately completes the request.\n",
      "\n",
      " ### Instruction:\n",
      "What are the drawbacks of symmetric encryption?\n",
      "\n",
      "### Response: Let's think step by step.\n",
      "Symmetric encryption is a type of encryption where the same key is used for both encryption and decryption.\n",
      "The drawbacks of symmetric encryption are:\n",
      "1. The key must be kept secret. If the key is compromised, the encrypted data can be decrypted by anyone.\n",
      "2. The key length can be a concern. If the key is too short, it may be vulnerable to brute-force attacks. If the key is too long, it may be difficult to manage.\n",
      "3. The key must be of sufficient length to provide the desired level of security.\n",
      "4. Symmetric encryption does not provide authentication. It can be used to encrypt data, but it cannot verify the identity of the sender or the integrity of the data.\n",
      "5. Symmetric encryption does not provide forward secrecy. If the key is compromised, all previously encrypted data can be decrypted.\n",
      "6. Symmetric encryption does not provide perfect forward secrecy. If the key is compromised, all previously encrypted data can be decrypted.\n",
      "7. Symmetric encryption does not provide forward privacy. If the key is compromised, all previously encrypted data can be decrypted.\n",
      "8. Symmetric encryption does not provide forward security. If the key is compromised, all previously encrypted data can be decrypted.\n",
      "9. Symmetric encryption does not provide forward authentication. It can be used to encrypt data, but it cannot verify the identity of the sender.\n",
      "10. Symmetric encryption does not provide forward integrity. It can be used to encrypt data, but it cannot verify the integrity of the data.\n",
      "11. Symmetric encryption does not provide forward non-repudiation. It can be used to encrypt data, but it cannot prevent the sender from denying that they sent the data.\n",
      "12. Symmetric encryption does not provide forward availability. It can be used to encrypt data, but it cannot ensure that the data is available when needed.\n",
      "13. Symmetric encryption does not provide forward confidentiality. It can be used to encrypt data, but it cannot prevent the data from being disclosed.\n",
      "14. Symmetric encryption does not provide forward privacy. It can be used to encrypt data, but it cannot prevent the data from being disclosed.\n",
      "15. Symmetric encryption does not provide forward anonymity. It can be used to encrypt data, but it cannot prevent the data from being tr\n",
      "Ground Truth \n",
      " The drawbacks of symmetric encryption are the need for a secure key exchange, the need for a secure key storage, and the need for a secure key distribution.\n"
     ]
    }
   ],
   "source": [
    "result = generate_response(crypto_dataset[15]['question'],base_model)\n",
    "print(f\"Input:\\n{crypto_dataset[15][\"question\"]}\\n\")\n",
    "print(f\"Generated Response \\n {result[0]['generated_text'].split(\"The answer is\")[0]}\")\n",
    "print(f\"Ground Truth \\n {crypto_dataset[15]['answer']}\")"
   ]
  },
  {
   "cell_type": "code",
   "execution_count": 47,
   "id": "cf651f0a",
   "metadata": {},
   "outputs": [
    {
     "name": "stdout",
     "output_type": "stream",
     "text": [
      "Input:\n",
      "What are the drawbacks of symmetric encryption?\n",
      "\n",
      "Generated Response \n",
      " Below is an instruction that describes a task. Write a response that appropriately completes the request.\n",
      "\n",
      " ### Instruction:\n",
      "What are the drawbacks of symmetric encryption?\n",
      "\n",
      "### Response: Let's think step by step.\n",
      "The drawbacks of symmetric encryption are:\n",
      "- It can be difficult to manage keys for large numbers of users or devices.\n",
      "- It may not be suitable for applications where confidentiality is required, as the same key is used for both encryption and decryption.\n",
      "- It may not be suitable for applications where the data is sensitive or critical, as the key is transmitted over the network or stored in a database.\n",
      "- It may not be suitable for applications where the data is subject to regulation or compliance requirements, as the key is transmitted over the network or stored in a database.\n",
      "- It may not be suitable for applications where the data is subject to legal or regulatory requirements, as the key is transmitted over the network or stored in a database.\n",
      "Therefore, the drawbacks of symmetric encryption are:\n",
      "- Difficult to manage keys for large numbers of users or devices.\n",
      "- Not suitable for applications where confidentiality is required.\n",
      "- Not suitable for applications where the data is sensitive or critical.\n",
      "- Not suitable for applications where the data is subject to regulation or compliance requirements.\n",
      "- Not suitable for applications where the data is subject to legal or regulatory requirements.\n",
      "#### 5Scenariosthatarenotsuitablefor symmetric encryption.#### 5\n",
      "\n",
      "Ground Truth \n",
      " The drawbacks of symmetric encryption are the need for a secure key exchange, the need for a secure key storage, and the need for a secure key distribution.\n"
     ]
    }
   ],
   "source": [
    "result = generate_response(crypto_dataset[15]['question'],base_model)\n",
    "print(f\"Input:\\n{crypto_dataset[15][\"question\"]}\\n\")\n",
    "print(f\"Generated Response \\n {result[0]['generated_text'].split(\"The answer is\")[0]}\")\n",
    "print(f\"Ground Truth \\n {crypto_dataset[15]['answer']}\")"
   ]
  },
  {
   "cell_type": "markdown",
   "id": "300f272d",
   "metadata": {},
   "source": [
    "## Cipher Math problems"
   ]
  },
  {
   "cell_type": "code",
   "execution_count": 48,
   "id": "0cadd839",
   "metadata": {},
   "outputs": [
    {
     "name": "stdout",
     "output_type": "stream",
     "text": [
      "Input:\n",
      "What transformation occurs when “CHEESE” is shifted by B in the Caesar cipher?\n",
      "\n",
      "Generated Response \n",
      " Below is an instruction that describes a task. Write a response that appropriately completes the request.\n",
      "\n",
      " ### Instruction:\n",
      "What transformation occurs when “CHEESE” is shifted by B in the Caesar cipher?\n",
      "\n",
      "### Response: Let's think step by step.\n",
      "In the Caesar cipher, each letter is shifted by a certain number of positions.\n",
      "If we shift the letter \"C\" by B positions, we get the letter \"F\".\n",
      "Similarly, if we shift the letter \"H\" by B positions, we get the letter \"J\".\n",
      "And so on.\n",
      "So, the transformation that occurs when \"CHEESE\" is shifted by B in the Caesar cipher is that each letter is shifted by B positions.\n",
      "\n",
      "Ground Truth \n",
      " When “CHEESE” is shifted by B in the Caesar cipher, the transformation is “EJGGUG”.\n"
     ]
    }
   ],
   "source": [
    "result = generate_response(crypto_dataset[45]['question'],base_model)\n",
    "print(f\"Input:\\n{crypto_dataset[45][\"question\"]}\\n\")\n",
    "print(f\"Generated Response \\n {result[0]['generated_text'].split(\"The answer is\")[0]}\")\n",
    "print(f\"Ground Truth \\n {crypto_dataset[45]['answer']}\")"
   ]
  },
  {
   "cell_type": "code",
   "execution_count": 50,
   "id": "d9ca16d2",
   "metadata": {},
   "outputs": [
    {
     "name": "stdout",
     "output_type": "stream",
     "text": [
      "Input:\n",
      "What transformation occurs when “CHEESE” is shifted by B in the Caesar cipher?\n",
      "\n",
      "Generated Response \n",
      " Below is an instruction that describes a task. Write a response that appropriately completes the request.\n",
      "\n",
      " ### Instruction:\n",
      "What transformation occurs when “CHEESE” is shifted by B in the Caesar cipher?\n",
      "\n",
      "### Response: Let's think step by step.\n",
      "A Caesar cipher is a shift cipher that is a form of mono-alphabetic encryption.  It is considered one of the earliest encryption techniques and is simple to implement.  This type of encryption shifts each letter in the plaintext by a certain number of positions.  This number can range from 1 to 25, depending on the size of the alphabet.  The Caesar cipher is also known as a shift cipher. The letter A is designated as the starting point for counting positions, and the letter that corresponds to this position after the shift is designated as B. The letter that corresponds to the next position after the shift is designated as C, and so on.  In other words, if A is the starting point, the subsequent letters will be shifted forward by a certain number of positions.  A Caesar cipher can be represented as A  B  C  D  E  F  G  H  I  J  K  L  M  N  O  P  Q  R  S  T  U  V  W  X  Y  Z.  The encryption key in the Caesar cipher specifies the number of positions that each letter is shifted.  In the example given, the encryption key B is used to shift each letter of the plaintext \"CHEESE\" by 2 positions, resulting in the ciphertext \"GHKUW.\"  Let's verify the answer: B.  \n",
      "Ground Truth \n",
      " When “CHEESE” is shifted by B in the Caesar cipher, the transformation is “EJGGUG”.\n"
     ]
    }
   ],
   "source": [
    "result = generate_response(crypto_dataset[45]['question'],ft_model)\n",
    "print(f\"Input:\\n{crypto_dataset[45][\"question\"]}\\n\")\n",
    "print(f\"Generated Response \\n {result[0]['generated_text'].split(\"The answer is\")[0]}\")\n",
    "print(f\"Ground Truth \\n {crypto_dataset[45]['answer']}\")"
   ]
  },
  {
   "cell_type": "code",
   "execution_count": 53,
   "id": "b6893a6b",
   "metadata": {},
   "outputs": [
    {
     "name": "stdout",
     "output_type": "stream",
     "text": [
      "Input:\n",
      "What is the process for decrypting the message 'yurgooaeod' using a rail fence with a depth of 2?\n",
      "\n",
      "Generated Response \n",
      " Below is an instruction that describes a task. Write a response that appropriately completes the request.\n",
      "\n",
      " ### Instruction:\n",
      "What is the process for decrypting the message 'yurgooaeod' using a rail fence with a depth of 2?\n",
      "\n",
      "### Response: Let's think step by step.\n",
      "To decrypt the message, we need to understand the structure of the rail fence. \n",
      "The rail fence has a depth of 2, meaning it has 2 rows. \n",
      "When we write the letters in the first row from left to right, we read the first letter, the fourth letter, the second letter, and the fifth letter. \n",
      "Then, we move to the second row, starting from the first letter. \n",
      "Let's look at the example: \n",
      "'yurgooaeod' \n",
      "Reading from left to right in the first row, we read y, u, r, g, o, e, o, d. \n",
      "Then, we move to the second row, starting from the first letter again. \n",
      "Reading from left to right in the second row, we read y, u, r, g, o, e, o, d. \n",
      "This process repeats for each letter, resulting in the message 'yurgooaeod' when decrypted. \n",
      "\n",
      "Ground Truth \n",
      "  The process for decrypting the message 'yurgooaeod' using a rail fence with a depth of 2 is 'youaregood'.\n"
     ]
    }
   ],
   "source": [
    "result = generate_response(crypto_dataset[49]['question'],ft_model)\n",
    "print(f\"Input:\\n{crypto_dataset[49]['question']}\\n\")\n",
    "print(f\"Generated Response \\n {result[0]['generated_text'].split(\"The answer is\")[0]}\")\n",
    "print(f\"Ground Truth \\n {crypto_dataset[49]['answer']}\")"
   ]
  },
  {
   "cell_type": "code",
   "execution_count": null,
   "id": "9fda7cfd",
   "metadata": {},
   "outputs": [],
   "source": []
  }
 ],
 "metadata": {
  "kernelspec": {
   "display_name": "crypto-llm-v2-python",
   "language": "python",
   "name": "crypto-llm-v2-python"
  },
  "language_info": {
   "codemirror_mode": {
    "name": "ipython",
    "version": 3
   },
   "file_extension": ".py",
   "mimetype": "text/x-python",
   "name": "python",
   "nbconvert_exporter": "python",
   "pygments_lexer": "ipython3",
   "version": "3.12.2"
  }
 },
 "nbformat": 4,
 "nbformat_minor": 5
}
