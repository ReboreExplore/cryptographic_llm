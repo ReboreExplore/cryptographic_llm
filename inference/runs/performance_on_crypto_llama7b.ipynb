{
 "cells": [
  {
   "cell_type": "markdown",
   "id": "ebbf8678",
   "metadata": {},
   "source": [
    "# Performance of the crypto_llama7b_math_model"
   ]
  },
  {
   "cell_type": "markdown",
   "id": "dee02d0e",
   "metadata": {},
   "source": [
    "### Set up the GPU"
   ]
  },
  {
   "cell_type": "code",
   "execution_count": 2,
   "id": "921fc6b8",
   "metadata": {},
   "outputs": [],
   "source": [
    "import os\n",
    "gpu = os.environ[\"CUDA_VISIBLE_DEVICES\"]=\"3\""
   ]
  },
  {
   "cell_type": "markdown",
   "id": "49193292",
   "metadata": {},
   "source": [
    "### Some Conclusions:\n",
    "\n",
    "1. "
   ]
  },
  {
   "cell_type": "code",
   "execution_count": 3,
   "id": "c80a6cf6",
   "metadata": {},
   "outputs": [
    {
     "data": {
      "text/plain": [
       "31"
      ]
     },
     "execution_count": 3,
     "metadata": {},
     "output_type": "execute_result"
    }
   ],
   "source": [
    "import gc\n",
    "\n",
    "#Force garbage collection\n",
    "gc.collect()"
   ]
  },
  {
   "cell_type": "markdown",
   "id": "0bf3144c",
   "metadata": {},
   "source": [
    "### Import libraries"
   ]
  },
  {
   "cell_type": "code",
   "execution_count": 4,
   "id": "c61a5ae8",
   "metadata": {},
   "outputs": [
    {
     "name": "stderr",
     "output_type": "stream",
     "text": [
      "/projects/barman/crypto-llm-v2/lib/python3.12/site-packages/tqdm/auto.py:21: TqdmWarning: IProgress not found. Please update jupyter and ipywidgets. See https://ipywidgets.readthedocs.io/en/stable/user_install.html\n",
      "  from .autonotebook import tqdm as notebook_tqdm\n",
      "2024-05-14 08:51:52.105072: I tensorflow/core/util/port.cc:113] oneDNN custom operations are on. You may see slightly different numerical results due to floating-point round-off errors from different computation orders. To turn them off, set the environment variable `TF_ENABLE_ONEDNN_OPTS=0`.\n",
      "2024-05-14 08:51:52.162470: I tensorflow/core/platform/cpu_feature_guard.cc:210] This TensorFlow binary is optimized to use available CPU instructions in performance-critical operations.\n",
      "To enable the following instructions: AVX2 AVX512F AVX512_VNNI FMA, in other operations, rebuild TensorFlow with the appropriate compiler flags.\n",
      "2024-05-14 08:51:58.785107: W tensorflow/compiler/tf2tensorrt/utils/py_utils.cc:38] TF-TRT Warning: Could not find TensorRT\n"
     ]
    }
   ],
   "source": [
    "import torch\n",
    "from peft import AutoPeftModelForCausalLM\n",
    "from transformers import AutoTokenizer,pipeline, logging, BitsAndBytesConfig, AutoModelForCausalLM,GenerationConfig\n",
    "from datasets import load_dataset\n",
    "import torch\n",
    "from langchain import HuggingFacePipeline\n",
    "# from langchain.agents.agent_toolkits import create_python_agent\n",
    "# from langchain.tools.python.tool import PythonREPLTool\n",
    "from langchain.chains import LLMMathChain, LLMChain\n",
    "from langchain.agents import Tool, initialize_agent\n",
    "from langchain.prompts import PromptTemplate\n",
    "from langchain.agents.agent_types import AgentType"
   ]
  },
  {
   "cell_type": "markdown",
   "id": "99e7f924",
   "metadata": {},
   "source": [
    "### Get the crypto model and the base model"
   ]
  },
  {
   "cell_type": "code",
   "execution_count": 5,
   "id": "9abfbdfa",
   "metadata": {},
   "outputs": [],
   "source": [
    "# Get the finetuned model\n",
    "output_dir = \"../../results/llama7b-crypto-14-05-00-45\"\n",
    "\n",
    "# base model\n",
    "base = \"meta-llama/Llama-2-7b-chat-hf\""
   ]
  },
  {
   "cell_type": "markdown",
   "id": "97bb9752",
   "metadata": {},
   "source": [
    "### Get some testing prompts\n",
    "\n",
    "The prompts used for testing the models are generic covering every aspect of the dataset. Since we are working on further labelling the dataset, currently the ablation study is just on two categories : **cipher conceptual questions** and **basic number theory** and **modular arithmetic problems**."
   ]
  },
  {
   "cell_type": "code",
   "execution_count": 6,
   "id": "29d32ac0",
   "metadata": {},
   "outputs": [],
   "source": [
    "# testing prompts\n",
    "prompts = {\"conceptual\" : [\"What is symmetric encryption. Explain briefly\",\n",
    "                           \"What are hashing functions? What are hash collisions? Answer briefly\",\n",
    "                           \"What is a crystal cipher? Describe its strcuture. Answer breifly\",\n",
    "                           \"What is Caeser cipher? Explain with an example\"], \n",
    "           \"math\" : [\"How many 4-digit debit card personal identification numbers (PIN) can be made?\",\n",
    "                    \"How many ways can you arrange 3 people standing in line? Answer briefly\",\n",
    "                    \"Give the prime factorization of 25\",\n",
    "                    \"Is 874597346593745 even? Justify your answer\",\n",
    "                     \"What is the lcm of 1 and 2\",\n",
    "                    \"Is 55 divisible by 5?\"]}"
   ]
  },
  {
   "cell_type": "markdown",
   "id": "c7bb4687",
   "metadata": {},
   "source": [
    "### Original Crypto-dataset - without augmented samples"
   ]
  },
  {
   "cell_type": "code",
   "execution_count": 7,
   "id": "38302c13",
   "metadata": {},
   "outputs": [],
   "source": [
    "# Load the crypto dataset\n",
    "crypto_dataset = load_dataset(\"Manpa/cryptoqa-v1\", split=\"test\")"
   ]
  },
  {
   "cell_type": "code",
   "execution_count": 8,
   "id": "641d1bac",
   "metadata": {},
   "outputs": [
    {
     "data": {
      "text/plain": [
       "{'question': 'Write one disadvantage of assymmetric encryption.',\n",
       " 'answer': 'Asymmetric encryption is slower and more complicated than symmetric encryption. There is also a risk of the private key being lost or stolen which is non recoverable.',\n",
       " 'type': 'orig',\n",
       " 'category': 'word',\n",
       " 'topic': 'cipher',\n",
       " 'source': 'self'}"
      ]
     },
     "execution_count": 8,
     "metadata": {},
     "output_type": "execute_result"
    }
   ],
   "source": [
    "crypto_dataset[3]"
   ]
  },
  {
   "cell_type": "markdown",
   "id": "54d565f6",
   "metadata": {},
   "source": [
    "### Set the quantization parameters and the tokenizer"
   ]
  },
  {
   "cell_type": "code",
   "execution_count": 9,
   "id": "8af50298",
   "metadata": {},
   "outputs": [],
   "source": [
    "# Set the bits and bytes configuration\n",
    "bnb_config = BitsAndBytesConfig(\n",
    "    load_in_4bit=True,\n",
    "    bnb_4bit_quant_type=\"nf4\",\n",
    "    bnb_4bit_compute_dtype=\"float16\",\n",
    "    bnb_4bit_use_double_quant=False,\n",
    ")\n",
    "\n",
    "# Load the tokenizer\n",
    "tokenizer = AutoTokenizer.from_pretrained(output_dir)"
   ]
  },
  {
   "cell_type": "markdown",
   "id": "0afe9958",
   "metadata": {},
   "source": [
    "## Test on the mathematical capabilities"
   ]
  },
  {
   "cell_type": "code",
   "execution_count": 10,
   "id": "e02c8989",
   "metadata": {},
   "outputs": [],
   "source": [
    "DEFAULT_SYSTEM_PROMPT = \"\"\" You are a fine-tuned AI model who is a math genious. \n",
    "You can solve simple to moderate level mathematics problems. \n",
    "Follow a chain of thought approach while answering. Answer in brief. \"\"\""
   ]
  },
  {
   "cell_type": "markdown",
   "id": "cd788ddc",
   "metadata": {},
   "source": [
    "### Test on the base model on which cryptollama7b is trained on."
   ]
  },
  {
   "cell_type": "code",
   "execution_count": 11,
   "id": "5c75583c",
   "metadata": {},
   "outputs": [
    {
     "name": "stderr",
     "output_type": "stream",
     "text": [
      "Loading checkpoint shards: 100%|██████████████████████████████████████████████████████████████████████████████████████████████████████████████████████████████████████████████| 2/2 [00:11<00:00,  5.96s/it]\n"
     ]
    }
   ],
   "source": [
    "# Load the pretrained model\n",
    "base_model = AutoModelForCausalLM.from_pretrained(\n",
    "    base,\n",
    "    load_in_4bit=True,\n",
    "    quantization_config=bnb_config,\n",
    "    torch_dtype=torch.bfloat16,\n",
    "    device_map={\"\": 0},\n",
    "    trust_remote_code=True,\n",
    "    cache_dir=\"/projects/barman/cache\"\n",
    ")"
   ]
  },
  {
   "cell_type": "code",
   "execution_count": 12,
   "id": "b783f111",
   "metadata": {},
   "outputs": [],
   "source": [
    "def generate_response(prompt,test_model):\n",
    "    # Ignore warnings\n",
    "    logging.set_verbosity(logging.CRITICAL)\n",
    "\n",
    "    # Set the pipeline for inference\n",
    "    pipe = pipeline(\n",
    "        \"text-generation\", \n",
    "        model=test_model, \n",
    "        tokenizer = tokenizer, \n",
    "        torch_dtype=torch.bfloat16, \n",
    "        device_map= {\"\": 0}\n",
    "    )\n",
    "    # Print the results\n",
    "    result = pipe(f\"<s>[INST] <<SYS>>\\n{DEFAULT_SYSTEM_PROMPT}\\n<</SYS>>\\n\\n{prompt}[/INST]\\n \",do_sample=True,\n",
    "        max_new_tokens=512, \n",
    "        temperature=0.9, \n",
    "        top_k=50, \n",
    "        top_p=0.95,\n",
    "        num_return_sequences=1)\n",
    "    return result"
   ]
  },
  {
   "cell_type": "code",
   "execution_count": 13,
   "id": "309d93aa",
   "metadata": {},
   "outputs": [
    {
     "name": "stdout",
     "output_type": "stream",
     "text": [
      "Input:\n",
      "{'question': 'What is the sum of the first 10 natural numbers?', 'answer': 'The sum of the first 10 natural numbers is 1+2+3+4+5+6+7+8+9+10 = 55. It can be also computed as n(n+1)/2 where n is the number of natural numbers.', 'type': 'orig', 'category': 'math', 'topic': 'numbertheory', 'source': 'self'}\n",
      "\n",
      "Generated Response \n",
      " \n",
      "  Great! Let's solve this problem together. 🤔\n",
      "\n",
      "To find the sum of the first 10 natural numbers, we can simply add them up:\n",
      "\n",
      "1 + 2 + 3 + 4 + 5 + 6 + 7 + 8 + 9 + 10 = 55\n",
      "\n",
      "So, the sum of the first 10 natural numbers is 55. 💡\n",
      "\n",
      "How about you try to solve a more challenging math problem? I'm here to help you every step of the way! 😊\n"
     ]
    }
   ],
   "source": [
    "result = generate_response(crypto_dataset[24]['question'],base_model)\n",
    "print(f\"Input:\\n{crypto_dataset[24]}\\n\")\n",
    "print(f\"Generated Response \\n {result[0]['generated_text'].split(\"[/INST]\")[-1]}\")"
   ]
  },
  {
   "cell_type": "code",
   "execution_count": 14,
   "id": "43989039",
   "metadata": {},
   "outputs": [
    {
     "name": "stdout",
     "output_type": "stream",
     "text": [
      "Input:\n",
      "Determine if the expression \\(3 \\cdot 3262 + 2\\) is divisible by 3.\n",
      "\n",
      "Generated Response \n",
      " \n",
      "  Great, let's dive into the problem! To determine if the expression is divisible by 3, we can perform the following steps:\n",
      "\n",
      "1. Simplify the expression:\n",
      "\n",
      "$3 \\cdot 3262 + 2 = 9526 + 2 = 9528$\n",
      "\n",
      "So, the simplified expression is $9528$.\n",
      "\n",
      "2. Is $9528$ divisible by 3?\n",
      "\n",
      "Yes, $9528$ is divisible by 3, because $3 \\times 3146 = 9528$.\n",
      "\n",
      "Therefore, the original expression $3 \\cdot 3262 + 2$ is divisible by 3.\n",
      "Ground Truth \n",
      " The expression \\(3 \\cdot 3262 + 2\\) is not divisible by 3 as 3 \\cdot 3262 = 9786 is divisible by 3 but 2 is not divisible by 3.\n"
     ]
    }
   ],
   "source": [
    "result = generate_response(crypto_dataset[26]['question'],base_model)\n",
    "print(f\"Input:\\n{crypto_dataset[26]['question']}\\n\")\n",
    "print(f\"Generated Response \\n {result[0]['generated_text'].split(\"[/INST]\")[-1]}\")\n",
    "print(f\"Ground Truth \\n {crypto_dataset[26]['answer']}\")"
   ]
  },
  {
   "cell_type": "code",
   "execution_count": 15,
   "id": "f7594139",
   "metadata": {},
   "outputs": [
    {
     "name": "stdout",
     "output_type": "stream",
     "text": [
      "Input:\n",
      "Is 0.333333..... a rational number?\n",
      "\n",
      "Generated Response \n",
      " \n",
      "  Great, let's dive into this problem! 🤔\n",
      "\n",
      "An easy way to determine if a number is rational is to check if it can be expressed as the ratio of two integers. 📝\n",
      "\n",
      "For 0.333333..... can we express it as the ratio of two integers? 🤔\n",
      "\n",
      "Hmm, let's see... 0.333333..... can be written as the ratio of 100/33. 📝\n",
      "\n",
      "Yes, we can express 0.333333..... as the ratio of two integers! 😊\n",
      "\n",
      "So, 0.333333..... is indeed a rational number! 🎉\n",
      "\n",
      "Great, that was a straightforward proof! 💡\n",
      "\n",
      "Do you have any other questions or problems you'd like me to help with? 🤔\n",
      "\n",
      "Ground Truth \n",
      " Yes, 0.333333..... is a rational number as it can be expressed as 1/3.\n"
     ]
    }
   ],
   "source": [
    "result = generate_response(crypto_dataset[30]['question'],base_model)\n",
    "print(f\"Input:\\n{crypto_dataset[30]['question']}\\n\")\n",
    "print(f\"Generated Response \\n {result[0]['generated_text'].split(\"[/INST]\")[-1]}\\n\")\n",
    "print(f\"Ground Truth \\n {crypto_dataset[30]['answer']}\")"
   ]
  },
  {
   "cell_type": "code",
   "execution_count": 16,
   "id": "aed31396",
   "metadata": {},
   "outputs": [
    {
     "name": "stdout",
     "output_type": "stream",
     "text": [
      "Input:\n",
      "Is 3493 a prime ?\n",
      "\n",
      "Generated Response \n",
      " \n",
      " 🔍 Great! Let's check if 3493 is a prime number.\n",
      "\n",
      "To determine whether a number is prime, we can use the following steps:\n",
      "\n",
      "Step 1: Check if the number is divisible by 2.\n",
      "\n",
      "If the number is divisible by 2, then it is not prime. So, let's check if 3493 is divisible by 2:\n",
      "\n",
      "3493 / 2 = 1746\n",
      "\n",
      "Since 3493 is not divisible by 2, it is prime! 🎉\n",
      "\n",
      "Therefore, the answer to the question \"Is 3493 a prime?\" is yes. 😊\n",
      "\n",
      "Ground Truth \n",
      " No, 3493 is not a prime number as 3493 can be divided by 1, 7, 499, and 3493.\n"
     ]
    }
   ],
   "source": [
    "result = generate_response(crypto_dataset[32]['question'],base_model)\n",
    "print(f\"Input:\\n{crypto_dataset[32]['question']}\\n\")\n",
    "print(f\"Generated Response \\n {result[0]['generated_text'].split(\"[/INST]\")[-1]}\\n\")\n",
    "print(f\"Ground Truth \\n {crypto_dataset[32]['answer']}\")"
   ]
  },
  {
   "cell_type": "code",
   "execution_count": 17,
   "id": "5fd4f90e",
   "metadata": {},
   "outputs": [
    {
     "name": "stdout",
     "output_type": "stream",
     "text": [
      "Input:\n",
      "What is the number of arrangements in a team of 10 , if there are 4 players and 6 substitutes?\n",
      "\n",
      "Generated Response \n",
      " \n",
      "  Great, let's dive into this problem! \n",
      "\n",
      "To find the number of arrangements of a team of 10 (4 players + 6 substitutes), we can use the multiplication principle. We'll first consider the number of ways to select the 4 players, and then multiply that by the number of ways to select the substitutes.\n",
      "\n",
      "Let's calculate the number of ways to select the 4 players:\n",
      "\n",
      "* There are 10 positions to fill (the 4 players + the 6 substitutes).\n",
      "* Each position can be filled by one of the 10 players (there are 10 players in total).\n",
      "\n",
      "So, the number of ways to select the 4 players is:\n",
      "\n",
      "10! = 10 × 9 × 8 × 7 = 70,000\n",
      "\n",
      "Now, let's multiply the number of ways to select the 4 players by the number of ways to select the substitutes:\n",
      "\n",
      "70,000 × 6 = 420,000\n",
      "\n",
      "Therefore, there are 420,000 possible arrangements of a team of 10, including 4 players and 6 substitutes.\n",
      "\n",
      "Ground Truth \n",
      " The number of arrangements in a team of 10, if there are 4 players and 6 substitutes is 10!/(4! * 6!) = 210.\n"
     ]
    }
   ],
   "source": [
    "result = generate_response(crypto_dataset[41]['question'],base_model)\n",
    "print(f\"Input:\\n{crypto_dataset[41]['question']}\\n\")\n",
    "print(f\"Generated Response \\n {result[0]['generated_text'].split(\"[/INST]\")[-1]}\\n\")\n",
    "print(f\"Ground Truth \\n {crypto_dataset[41]['answer']}\")"
   ]
  },
  {
   "cell_type": "code",
   "execution_count": 18,
   "id": "6c681f39",
   "metadata": {},
   "outputs": [
    {
     "name": "stdout",
     "output_type": "stream",
     "text": [
      "Input:\n",
      "A die is rolled twice. Let A be the event rolling a 6 on the first roll and let B be the event rolling a 3 on the second roll. Are A and B independent events?\n",
      "\n",
      "Generated Response \n",
      " \n",
      "  Great, let's tackle this problem! 🤔\n",
      "\n",
      "To determine if A and B are independent events, we need to compute the probability of both events occurring together.\n",
      "\n",
      "Event A occurs when the first die rolls a 6. The probability of this event is 1/6.\n",
      "Event B occurs when the second die rolls a 3. The probability of this event is also 1/6.\n",
      "\n",
      "Now, let's compute the probability of both events occurring together:\n",
      "\n",
      "P(A ∩ B) = P(A)P(B)\n",
      "= (1/6) × (1/6) = 1/36\n",
      "\n",
      "As we can see, the probability of both events occurring together is 1/36, which means that A and B are NOT independent events. 💡\n",
      "\n",
      "Great, that's it! Do you have any other questions or problems you'd like me to help you with? 😊\n",
      "\n",
      "Ground Truth \n",
      " Yes, A and B are independent events as the outcome of the first roll does not affect the outcome of the second roll.\n"
     ]
    }
   ],
   "source": [
    "result = generate_response(crypto_dataset[39]['question'],base_model)\n",
    "print(f\"Input:\\n{crypto_dataset[39]['question']}\\n\")\n",
    "print(f\"Generated Response \\n {result[0]['generated_text'].split(\"[/INST]\")[-1]}\\n\")\n",
    "print(f\"Ground Truth \\n {crypto_dataset[39]['answer']}\")"
   ]
  },
  {
   "cell_type": "markdown",
   "id": "8185cb0d",
   "metadata": {},
   "source": [
    "### Test on the fine tuned llama model"
   ]
  },
  {
   "cell_type": "code",
   "execution_count": 19,
   "id": "f20c0816",
   "metadata": {},
   "outputs": [
    {
     "name": "stderr",
     "output_type": "stream",
     "text": [
      "Loading checkpoint shards: 100%|██████████████████████████████████████████████████████████████████████████████████████████████████████████████████████████████████████████████| 2/2 [00:05<00:00,  2.73s/it]\n"
     ]
    }
   ],
   "source": [
    "# Load the finetuned model from output_dir\n",
    "ft_model =AutoPeftModelForCausalLM.from_pretrained(\n",
    "    output_dir,\n",
    "    low_cpu_mem_usage=True,\n",
    "    torch_dtype=torch.float16,\n",
    "    load_in_4bit=True,\n",
    "    cache_dir=\"/projects/barman/cache\",\n",
    ")"
   ]
  },
  {
   "cell_type": "code",
   "execution_count": 20,
   "id": "aafa1eab",
   "metadata": {},
   "outputs": [
    {
     "name": "stderr",
     "output_type": "stream",
     "text": [
      "/projects/barman/crypto-llm-v2/lib/python3.12/site-packages/bitsandbytes/nn/modules.py:226: UserWarning: Input type into Linear4bit is torch.float16, but bnb_4bit_compute_dtype=torch.float32 (default). This will lead to slow inference or training speed.\n",
      "  warnings.warn(f'Input type into Linear4bit is torch.float16, but bnb_4bit_compute_dtype=torch.float32 (default). This will lead to slow inference or training speed.')\n"
     ]
    }
   ],
   "source": [
    "# Set the pipeline for inference\n",
    "pipe_ft = pipeline(\n",
    "    \"text-generation\", \n",
    "    model=ft_model, \n",
    "    tokenizer = tokenizer, \n",
    "    torch_dtype=torch.bfloat16, \n",
    "    device_map= {\"\": 0}\n",
    ")\n",
    "# Print the results\n",
    "result_ft = pipe_ft(f\"\"\" <s>[INST] <<SYS>>\\n{DEFAULT_SYSTEM_PROMPT}\\n<</SYS>>\\n\\n{prompts[\"math\"][5]}[/INST]\\n \"\"\" ,do_sample=True,\n",
    "    max_new_tokens=512, \n",
    "    temperature=0.9, \n",
    "    top_k=50, \n",
    "    top_p=0.95,\n",
    "    num_return_sequences=1)\n"
   ]
  },
  {
   "cell_type": "code",
   "execution_count": 40,
   "id": "da7bee13",
   "metadata": {},
   "outputs": [
    {
     "name": "stdout",
     "output_type": "stream",
     "text": [
      "Input:\n",
      "What is the sum of the first 10 natural numbers?\n",
      "\n",
      "Generated Response \n",
      " \n",
      "  The sum of the first 10 natural numbers is 50.\n",
      "\n",
      "To calculate this sum, you can simply list the first 10 natural numbers and add them together: 1 + 2 + 3 + 4 + 5 + 6 + 7 + 8 + 9 = 50.\n",
      "\n",
      "Ground Truth \n",
      " The sum of the first 10 natural numbers is 1+2+3+4+5+6+7+8+9+10 = 55. It can be also computed as n(n+1)/2 where n is the number of natural numbers.\n"
     ]
    }
   ],
   "source": [
    "result = generate_response(crypto_dataset[24]['question'],ft_model)\n",
    "print(f\"Input:\\n{crypto_dataset[24]['question']}\\n\")\n",
    "print(f\"Generated Response \\n {result[0]['generated_text'].split(\"[/INST]\")[-1]}\\n\")\n",
    "print(f\"Ground Truth \\n {crypto_dataset[24]['answer']}\")"
   ]
  },
  {
   "cell_type": "code",
   "execution_count": 41,
   "id": "e11748be",
   "metadata": {},
   "outputs": [
    {
     "name": "stdout",
     "output_type": "stream",
     "text": [
      "Input:\n",
      "Determine if the expression \\(3 \\cdot 3262 + 2\\) is divisible by 3.\n",
      "\n",
      "Generated Response \n",
      " \n",
      "  To determine if the expression \\(3 \\cdot 3262 + 2\\) is divisible by 3, we can use the following steps:\n",
      "\n",
      "1. Convert the expression to its decimal value: \\(3 \\cdot 3262 + 2 = 9998 + 2 = 10000\\).\n",
      "2. Check if the decimal value is divisible by 3: 10000 / 3 = 3333, which is divisible by 3.\n",
      "3. Therefore, the original expression is also divisible by 3.\n",
      "\n",
      "So, the final answer is yes, the expression \\(3 \\cdot 3262 + 2\\) is divisible by 3.\n",
      "\n",
      "Ground Truth \n",
      " The expression \\(3 \\cdot 3262 + 2\\) is not divisible by 3 as 3 \\cdot 3262 = 9786 is divisible by 3 but 2 is not divisible by 3.\n"
     ]
    }
   ],
   "source": [
    "result = generate_response(crypto_dataset[26]['question'],ft_model)\n",
    "print(f\"Input:\\n{crypto_dataset[26]['question']}\\n\")\n",
    "print(f\"Generated Response \\n {result[0]['generated_text'].split(\"[/INST]\")[-1]}\\n\")\n",
    "print(f\"Ground Truth \\n {crypto_dataset[26]['answer']}\")"
   ]
  },
  {
   "cell_type": "code",
   "execution_count": 42,
   "id": "da4eb07b",
   "metadata": {},
   "outputs": [
    {
     "name": "stdout",
     "output_type": "stream",
     "text": [
      "Input:\n",
      "Is 0.333333..... a rational number?\n",
      "\n",
      "Generated Response \n",
      " \n",
      "  Yes, 0.333333..... is a rational number. A rational number is an number that can be expressed as the ratio of two integers, either of which can be positive, negative, or zero. In other words, a rational number is a number that can be written in the form a/b, where a and b are integers and b is non-zero. 0.333333..... can be expressed as the ratio of 1/3, which is a rational number. Therefore, 0.333333..... is also a rational number.\n",
      "\n",
      "Ground Truth \n",
      " Yes, 0.333333..... is a rational number as it can be expressed as 1/3.\n"
     ]
    }
   ],
   "source": [
    "result = generate_response(crypto_dataset[30]['question'],ft_model)\n",
    "print(f\"Input:\\n{crypto_dataset[30]['question']}\\n\")\n",
    "print(f\"Generated Response \\n {result[0]['generated_text'].split(\"[/INST]\")[-1]}\\n\")\n",
    "print(f\"Ground Truth \\n {crypto_dataset[30]['answer']}\")"
   ]
  },
  {
   "cell_type": "code",
   "execution_count": 43,
   "id": "97a71563",
   "metadata": {},
   "outputs": [
    {
     "name": "stdout",
     "output_type": "stream",
     "text": [
      "Input:\n",
      "Is 3493 a prime ?\n",
      "\n",
      "Generated Response \n",
      " \n",
      " 3493 is not a prime number. It can be verified by checking if it has any factors other than 1 and itself. In this case, 3493 has several factors, including 3, 11, 29, 33, and 349. Therefore, 3493 is a composite number and not a prime.\n",
      "\n",
      "Ground Truth \n",
      " No, 3493 is not a prime number as 3493 can be divided by 1, 7, 499, and 3493.\n"
     ]
    }
   ],
   "source": [
    "result = generate_response(crypto_dataset[32]['question'],ft_model)\n",
    "print(f\"Input:\\n{crypto_dataset[32]['question']}\\n\")\n",
    "print(f\"Generated Response \\n {result[0]['generated_text'].split(\"[/INST]\")[-1]}\\n\")\n",
    "print(f\"Ground Truth \\n {crypto_dataset[32]['answer']}\")"
   ]
  },
  {
   "cell_type": "code",
   "execution_count": 44,
   "id": "24c79341",
   "metadata": {},
   "outputs": [
    {
     "name": "stdout",
     "output_type": "stream",
     "text": [
      "Input:\n",
      "What is the number of arrangements in a team of 10 , if there are 4 players and 6 substitutes?\n",
      "\n",
      "Generated Response \n",
      " \n",
      "  We first need to understand what a \"team\" is in this context. Based on the information given, a team consists of 4 players and 6 substitutes. Players are the 4 individuals who start the game and substitutes are the 6 individuals who can replace the players at any time.\n",
      "\n",
      "Now, let's consider the number of ways to arrange the players and substitutes in a team. There are 4! = 24 ways to arrange the 4 players in a lineup. Each player can play one of the 4 positions, so the number of ways to arrange the players is the same as the number of ways to arrange the positions.\n",
      "\n",
      "Next, we need to consider the substitutes. There are 6 substitutes, and they can also be arranged in 6! = 72 ways. However, not all of these arrangements are valid, as some may result in duplicate numbers (e.g., two players with the same number).\n",
      "\n",
      "To find the total number of arrangements, we need to combine the number of ways to arrange the players and substitutes. Since there are 4 players and 6 substitutes, the total number of arrangements is:\n",
      "\n",
      "4! x 6! = 24 x 72 = 1536\n",
      "\n",
      "Therefore, there are 1536 ways to arrange the team of 10 individuals, comprising 4 players and 6 substitutes.\n",
      "\n",
      "Ground Truth \n",
      " The number of arrangements in a team of 10, if there are 4 players and 6 substitutes is 10!/(4! * 6!) = 210.\n"
     ]
    }
   ],
   "source": [
    "result = generate_response(crypto_dataset[41]['question'],ft_model)\n",
    "print(f\"Input:\\n{crypto_dataset[41]['question']}\\n\")\n",
    "print(f\"Generated Response \\n {result[0]['generated_text'].split(\"[/INST]\")[-1]}\\n\")\n",
    "print(f\"Ground Truth \\n {crypto_dataset[41]['answer']}\")"
   ]
  },
  {
   "cell_type": "code",
   "execution_count": 26,
   "id": "49f482a4",
   "metadata": {},
   "outputs": [
    {
     "name": "stdout",
     "output_type": "stream",
     "text": [
      "Input:\n",
      "A die is rolled twice. Let A be the event rolling a 6 on the first roll and let B be the event rolling a 3 on the second roll. Are A and B independent events?\n",
      "\n",
      "Generated Response \n",
      " \n",
      "  Yes, A and B are independent events. Since the rolls of the two dice are independent of each other, the probability of event A occurring on the first roll has no bearing on the probability of event B occurring on the second roll, and vice versa. Therefore, A and B are independent events.\n",
      "\n",
      "Ground Truth \n",
      " Yes, A and B are independent events as the outcome of the first roll does not affect the outcome of the second roll.\n"
     ]
    }
   ],
   "source": [
    "result = generate_response(crypto_dataset[39]['question'],ft_model)\n",
    "print(f\"Input:\\n{crypto_dataset[39]['question']}\\n\")\n",
    "print(f\"Generated Response \\n {result[0]['generated_text'].split(\"[/INST]\")[-1]}\\n\")\n",
    "print(f\"Ground Truth \\n {crypto_dataset[39]['answer']}\")"
   ]
  },
  {
   "cell_type": "markdown",
   "id": "6e415d6b",
   "metadata": {},
   "source": [
    "## Testing Cryptographic Conceptual capabilities"
   ]
  },
  {
   "cell_type": "markdown",
   "id": "f2cd7b78",
   "metadata": {},
   "source": [
    "### Testing the base model"
   ]
  },
  {
   "cell_type": "code",
   "execution_count": 45,
   "id": "a53aafd3",
   "metadata": {},
   "outputs": [],
   "source": [
    "SYSTEM_PROMPT = \"You are a cryptographic expert with very strong conceptual understanding of the domain. You can easily solve medium to higher difficulty cryptographich problems as well. Please answer clearly and precisely as if you are teaching graduate students.\""
   ]
  },
  {
   "cell_type": "code",
   "execution_count": 59,
   "id": "1a40998f",
   "metadata": {},
   "outputs": [],
   "source": [
    "def generate_response(prompt,test_model):\n",
    "    # Ignore warnings\n",
    "    logging.set_verbosity(logging.CRITICAL)\n",
    "\n",
    "    # Set the pipeline for inference\n",
    "    pipe = pipeline(\n",
    "        \"text-generation\", \n",
    "        model=test_model, \n",
    "        tokenizer = tokenizer, \n",
    "        torch_dtype=torch.bfloat16, \n",
    "        device_map= {\"\": 0}\n",
    "    )\n",
    "    # Print the results\n",
    "    result = pipe(f\"<s>[INST] <<SYS>>\\n{SYSTEM_PROMPT}\\n<</SYS>>\\n\\n{prompt}[/INST]\\n \",do_sample=True,\n",
    "        max_new_tokens=512, \n",
    "        temperature=0.9, \n",
    "        top_k=50, \n",
    "        top_p=0.95,\n",
    "        num_return_sequences=1)\n",
    "    return result"
   ]
  },
  {
   "cell_type": "code",
   "execution_count": 47,
   "id": "3554dd97",
   "metadata": {},
   "outputs": [
    {
     "name": "stdout",
     "output_type": "stream",
     "text": [
      "Input:\n",
      "Differentiate between confusion and diffusion in cryptography.\n",
      "\n",
      "Generated Response \n",
      " \n",
      "  Confusion and diffusion are two important concepts in cryptography, both of which are used to achieve security in cryptographic systems. While they are related, they serve distinct purposes and have different characteristics. Understanding the difference between them is crucial for designing and analyzing cryptographic protocols.\n",
      "\n",
      "Confusion refers to the process of transforming plaintext into ciphertext in a way that makes it difficult for an attacker to determine the original message without knowledge of the cryptographic key. In other words, confusion mixes up the plaintext in a way that makes it hard to decipher without the key. This is often achieved through encryption techniques such as substitution or transposition, where individual plaintext letters or bits are replaced by corresponding ciphertext letters or bits.\n",
      "\n",
      "On the other hand, diffusion refers to the process of spreading or scattering information across multiple locations or devices to protect it from unauthorized access or tampering. In cryptography, diffusion is often used to protect the secrecy of a cryptographic key by distributing it across multiple nodes or devices. This makes it more difficult for an attacker to access the entire key, as they would need to compromise multiple nodes or devices to obtain the complete key.\n",
      "\n",
      "Key differences between confusion and diffusion:\n",
      "\n",
      "1. Purpose: Confusion is primarily used for encryption, while diffusion is used for key management and security.\n",
      "2. Scale: Confusion typically operates on a smaller scale, focusing on individual plaintext messages, while diffusion operates on a larger scale, spreading information across multiple nodes or devices.\n",
      "3. Security: Confusion provides security by obscuring the plaintext, making it difficult to decipher without the key. Diffusion provides security by distributing the key across multiple nodes or devices, making it more difficult for an attacker to obtain the entire key.\n",
      "4. Key management: Confusion typically does not involve key management, as the key is not explicitly stored or transmitted. Diffusion, on the other hand, is often used in conjunction with key management techniques to protect the secrecy of the key.\n",
      "5. Complexity: Confusion can be relatively straightforward to implement, as it often involves simple substitution or transposition techniques. Diffusion, however, can be more complex to implement, as it requires a more sophisticated system for distributing and managing the key.\n",
      "\n",
      "In summary, confusion and diffusion are two distinct\n",
      "\n",
      "Ground Truth \n",
      " Confusion is the property of a cryptographic algorithm that makes the relationship between the key and the ciphertext as complex as possible. Diffusion is the property of a cryptographic algorithm that makes the relationship between the plaintext and the ciphertext as complex as possible.\n"
     ]
    }
   ],
   "source": [
    "result = generate_response(crypto_dataset[2]['question'],base_model)\n",
    "print(f\"Input:\\n{crypto_dataset[2]['question']}\\n\")\n",
    "print(f\"Generated Response \\n {result[0]['generated_text'].split(\"[/INST]\")[-1]}\\n\")\n",
    "print(f\"Ground Truth \\n {crypto_dataset[2]['answer']}\")"
   ]
  },
  {
   "cell_type": "code",
   "execution_count": 48,
   "id": "fc0dac34",
   "metadata": {},
   "outputs": [
    {
     "name": "stdout",
     "output_type": "stream",
     "text": [
      "Input:\n",
      "What are hash functions useful for? Give an example.\n",
      "\n",
      "Generated Response \n",
      " \n",
      "  Great, I'm glad to hear that you consider me a cryptographic expert! As an expert, I can tell you that hash functions are extremely useful in various applications in the field of computer science and cryptography. Let me give you a simple example to illustrate their utility.\n",
      "\n",
      "One of the most common use cases for hash functions is in password storage and authentication. When you create an account on a website or use a password manager, your password is usually hashed before being stored. The hashed password is then stored securely, along with a reference to the original password (known as the \"salt\"). When you log in to the account, you provide your password, and the system hashes it again using the same salt. If the resulting hash matches the stored hash, you are authenticated!\n",
      "\n",
      "Here's how hash functions are useful in this scenario:\n",
      "\n",
      "1. **Data integrity**: Hash functions are designed to produce a fixed-size output (known as the \"output size\") from a variable-size input. This means that even if the input password is modified in any way (e.g., by a malicious actor trying to guess it), the resulting hash will always be the same length. This makes it easy for the system to detect if someone is trying to use an invalid or tampered password.\n",
      "2. **Data confidentiality**: Hash functions are designed to be one-way, meaning it's computationally infeasible to determine the original password from its hash. This ensures that even if an attacker gains access to the stored hashes, they cannot use them to reverse-engineer the original passwords.\n",
      "3. **Collision resistance**: A \"collision\" occurs when two different inputs produce the same output hash. Hash functions are designed to be \"collision-resistant,\" meaning that it's computationally infeasible to find two different inputs that produce the same hash. This property ensures that two different passwords cannot be mistakenly matched by the system.\n",
      "\n",
      "In summary, hash functions are useful in password storage and authentication because they allow for secure and efficient verification of user credentials, while also ensuring the integrity and confidentiality of the stored passwords.\n",
      "\n",
      "Ground Truth \n",
      " Hash functions are functions that map data of arbitrary size to fixed-size values. They are useful for verifying the integrity of data. An example of a hash function is SHA-256.\n"
     ]
    }
   ],
   "source": [
    "result = generate_response(crypto_dataset[8]['question'],base_model)\n",
    "print(f\"Input:\\n{crypto_dataset[8]['question']}\\n\")\n",
    "print(f\"Generated Response \\n {result[0]['generated_text'].split(\"[/INST]\")[-1]}\\n\")\n",
    "print(f\"Ground Truth \\n {crypto_dataset[8]['answer']}\")"
   ]
  },
  {
   "cell_type": "code",
   "execution_count": 49,
   "id": "b013e66f",
   "metadata": {},
   "outputs": [
    {
     "name": "stdout",
     "output_type": "stream",
     "text": [
      "Input:\n",
      "What is one way function in cryptography?\n",
      "\n",
      "Generated Response \n",
      " \n",
      "  Great, I'm glad you asked! In cryptography, a one-way function is a mathematical function that transforms input data in a specific way, making it impossible to recover the original input data from the output, even with unlimited computing power and knowledge of the function.\n",
      "\n",
      "The key property of a one-way function is that it is computationally infeasible to invert the function to recover the original input data. In other words, given the output of the function, it is not possible to compute the original input data, without knowing the specific function used. This makes one-way functions incredibly useful in cryptography, where the goal is to protect sensitive information from unauthorized access.\n",
      "\n",
      "One-way functions are commonly used in cryptographic primitives such as:\n",
      "\n",
      "1. Hash functions: These are used to map input data of any size to a fixed-size output, which is typically a digital fingerprint of the input data. Hash functions are designed to be one-way, meaning that it is computationally infeasible to recover the original input data from the output hash value.\n",
      "2. Digital signatures: These are used to authenticate the sender of a message and to ensure that the message has not been tampered with. Digital signatures are based on one-way functions, such as the RSA function, which takes a message and a private key as input and produces a digital signature as output.\n",
      "3. Message authentication codes (MACs): These are used to provide a way to authenticate messages and to ensure that the message has not been tampered with. MACs are based on one-way functions, such as the HMAC function, which takes a message and a secret key as input and produces a MAC output.\n",
      "\n",
      "Examples of one-way functions include:\n",
      "\n",
      "1. SHA-256 (Secure Hash Algorithm 256): This is a widely used hash function that produces a fixed-size output (256 bits or 32 bytes) from input data of any size.\n",
      "2. RSA (Rivest-Shamir-Adleman): This is a widely used digital signature scheme that is based on the difficulty of factoring large composite numbers.\n",
      "3. HMAC (Keyed-Hash Message Authentication Code): This is a widely used MAC scheme that is based on a secret key and a one-way hash function.\n",
      "\n",
      "In summary\n",
      "\n",
      "Ground Truth \n",
      " A one-way function is a function that is easy to compute in one direction but difficult to compute in the opposite direction.\n"
     ]
    }
   ],
   "source": [
    "result = generate_response(crypto_dataset[10]['question'],base_model)\n",
    "print(f\"Input:\\n{crypto_dataset[10]['question']}\\n\")\n",
    "print(f\"Generated Response \\n {result[0]['generated_text'].split(\"[/INST]\")[-1]}\\n\")\n",
    "print(f\"Ground Truth \\n {crypto_dataset[10]['answer']}\")"
   ]
  },
  {
   "cell_type": "code",
   "execution_count": 50,
   "id": "6f53c41e",
   "metadata": {},
   "outputs": [
    {
     "name": "stdout",
     "output_type": "stream",
     "text": [
      "Input:\n",
      "What are the drawbacks of symmetric encryption?\n",
      "\n",
      "Generated Response \n",
      " \n",
      "  As a cryptographic expert, I can explain the drawbacks of symmetric encryption, which is a common type of encryption used to protect the confidentiality of data. While symmetric encryption offers many advantages, including high performance, efficiency, and ease of implementation, it also has some drawbacks that must be considered:\n",
      "\n",
      "1. Key management: One of the main challenges of symmetric encryption is managing the keys used for encryption and decryption. In a symmetric encryption scheme, the same key is used for both encryption and decryption. This means that the key must be securely distributed, stored, and managed for all parties involved in the communication. If the key is compromised or improperly managed, the entire encryption scheme is vulnerable to attack.\n",
      "2. Key size: Another drawback of symmetric encryption is the key size required to ensure security. As the key size increases, the encryption becomes stronger, but it also becomes more computationally expensive. This means that longer keys may be required to ensure adequate security, which can impact performance and scalability.\n",
      "3. Brute force attacks: Symmetric encryption is vulnerable to brute force attacks, which involve trying every possible key until the correct one is found. The number of possible keys is virtually unlimited, so it is computationally infeasible to try all possible keys. However, an attacker with enough computing power and time can still try to break the encryption using a brute force attack.\n",
      "4. Side-channel attacks: Symmetric encryption can also be vulnerable to side-channel attacks, which exploit information about the encryption process itself rather than targeting the encryption key. These attacks can include timing attacks, power analysis attacks, and other types of attacks that seek to extract sensitive information from the encryption process.\n",
      "5. Non-rivalrous attacks: Symmetric encryption is vulnerable to non-rivalrous attacks, which target the cryptographic algorithm itself rather than the encryption key. These attacks can include attacks that exploit weaknesses in the algorithm, such as buffer overflows or other types of programming errors.\n",
      "6. Collision attacks: Symmetric encryption can also be vulnerable to collision attacks, which involve finding two different inputs that produce the same output. While collision attacks are rare, they can be a concern in some applications, such as digital signatures.\n",
      "7. Limited protection: Symmetric encryption provides limited protection against certain types of attacks, such as attacks that target the authentication of the\n",
      "\n",
      "Ground Truth \n",
      " The drawbacks of symmetric encryption are the need for a secure key exchange, the need for a secure key storage, and the need for a secure key distribution.\n"
     ]
    }
   ],
   "source": [
    "result = generate_response(crypto_dataset[15]['question'],base_model)\n",
    "print(f\"Input:\\n{crypto_dataset[15]['question']}\\n\")\n",
    "print(f\"Generated Response \\n {result[0]['generated_text'].split(\"[/INST]\")[-1]}\\n\")\n",
    "print(f\"Ground Truth \\n {crypto_dataset[15]['answer']}\")"
   ]
  },
  {
   "cell_type": "markdown",
   "id": "d9b3f9cb",
   "metadata": {},
   "source": [
    "### Testing the fine tuned model"
   ]
  },
  {
   "cell_type": "code",
   "execution_count": 51,
   "id": "5c5a8431",
   "metadata": {},
   "outputs": [
    {
     "name": "stdout",
     "output_type": "stream",
     "text": [
      "Input:\n",
      "Differentiate between confusion and diffusion in cryptography.\n",
      "\n",
      "Generated Response \n",
      " \n",
      "  Confusion and diffusion are two techniques used in cryptography to enhance the security of a system. While they share some similarities, they serve distinct purposes and offer different benefits.\n",
      "\n",
      "Confusion refers to the process of making it difficult for an attacker to determine the original message or the intended message. This is achieved by breaking apart the message into smaller pieces, called fragments, and encrypting each fragment with a different key. The fragments are then reassembled into the original message at the recipient's end, using the same key. This technique is used in ciphering, where the goal is to protect the confidentiality of the message.\n",
      "\n",
      "Diffusion, on the other hand, is focused on making it difficult for an attacker to determine the source or the origin of the message. This technique spreads the message across multiple channels or paths, making it challenging for the attacker to identify the original message or the sender. Diffusion helps to enhance the scalability and reliability of the system by distributing the workload across multiple servers or nodes.\n",
      "\n",
      "Key differences:\n",
      "\n",
      "1. Purpose: Confusion aims to protect the confidentiality of the message, while diffusion focuses on obscuring the source or origin of the message.\n",
      "2. Techniques: Confusion involves segmenting the message and encrypting each fragment with a different key. Diffusion spreads the message across multiple channels or paths, making it difficult to identify the original message or sender.\n",
      "3. Goals: The primary goal of confusion is to prevent unauthorized access to the message, while the goal of diffusion is to enhance the scalability and reliability of the system.\n",
      "4. Impact: Confusion can help to prevent eavesdropping and unauthorized access to sensitive information. Diffusion can improve the performance and reliability of the system by distributing the workload across multiple servers or nodes.\n",
      "\n",
      "In summary, confusion and diffusion are two distinct techniques used in cryptography to enhance the security and performance of a system. While confusion focuses on protecting the confidentiality of the message, diffusion concentrates on obscuring the source or origin of the message. Understanding the differences between these techniques can help developers choose the most appropriate method for their specific needs.\n",
      "\n",
      "Ground Truth \n",
      " Confusion is the property of a cryptographic algorithm that makes the relationship between the key and the ciphertext as complex as possible. Diffusion is the property of a cryptographic algorithm that makes the relationship between the plaintext and the ciphertext as complex as possible.\n"
     ]
    }
   ],
   "source": [
    "result = generate_response(crypto_dataset[2]['question'],ft_model)\n",
    "print(f\"Input:\\n{crypto_dataset[2]['question']}\\n\")\n",
    "print(f\"Generated Response \\n {result[0]['generated_text'].split(\"[/INST]\")[-1]}\\n\")\n",
    "print(f\"Ground Truth \\n {crypto_dataset[2]['answer']}\")"
   ]
  },
  {
   "cell_type": "code",
   "execution_count": 52,
   "id": "1458218b",
   "metadata": {},
   "outputs": [
    {
     "name": "stdout",
     "output_type": "stream",
     "text": [
      "Input:\n",
      "What are hash functions useful for? Give an example.\n",
      "\n",
      "Generated Response \n",
      " \n",
      "  Hash functions are useful for:\n",
      "\n",
      "1. Data Integrity: Hash functions help ensure data integrity by producing a unique output for a given input. This property allows for easy verification of data authenticity.\n",
      "2. Data Security: By making it computationally infeasible to reverse engineer an original message from its hash, hash functions provide a secondary layer of security against data breaches or cyber attacks.\n",
      "3. Searching and Matching: Hash functions can be used to efficiently search for and match relevant data within a large dataset, thanks to their fast computation speed and ability to handle large inputs.\n",
      "4. Digital Fingerprinting: Hash functions can be used to create a digital fingerprint of a software or hardware component, allowing for easy identification of tampered or modified versions of that component.\n",
      "\n",
      "Example: SHA-256 is widely used in various applications, including:\n",
      "\n",
      "1. Secure File Storage: When storing sensitive files, such as financial reports or medical records, the files can be hashed and the resulting hash value can be stored instead of the original file. This provides a means of verifying the integrity of the stored files without having to actually store the files themselves.\n",
      "2. Digital Signatures: When a person signs an document electronically, their signing device generates a hash of the document contents and encrypts it using their private key. The recipient can then verify the signature by computing the hash of the received document and comparing it with the signed hash. If the two values match, the signature is deemed valid.\n",
      "3. Message Authentication Codes: Hash functions can be used to create Message Authentication Codes (MACs), which are employed to protect data transmissions from interception and tampering. A MAC is created by combining a secret key and the message to be transmitted using a hash function. The receiver can then use the same hash function to verify the authenticity of the received message by comparing it to the expected MAC.\n",
      "\n",
      "Ground Truth \n",
      " Hash functions are functions that map data of arbitrary size to fixed-size values. They are useful for verifying the integrity of data. An example of a hash function is SHA-256.\n"
     ]
    }
   ],
   "source": [
    "result = generate_response(crypto_dataset[8]['question'],ft_model)\n",
    "print(f\"Input:\\n{crypto_dataset[8]['question']}\\n\")\n",
    "print(f\"Generated Response \\n {result[0]['generated_text'].split(\"[/INST]\")[-1]}\\n\")\n",
    "print(f\"Ground Truth \\n {crypto_dataset[8]['answer']}\")"
   ]
  },
  {
   "cell_type": "code",
   "execution_count": 53,
   "id": "2ed9c3dd",
   "metadata": {},
   "outputs": [
    {
     "name": "stdout",
     "output_type": "stream",
     "text": [
      "Input:\n",
      "What are the drawbacks of symmetric encryption?\n",
      "\n",
      "Generated Response \n",
      " \n",
      " 1. Dependence on the secrecy of the key: If the key is compromised, the entire system is vulnerable. This can occur intentionally or unintentionally.\n",
      "2. Limited control over key usage: Once a key is created, it is difficult to regain control over it. If the key is leaked, it can be used by unauthorized parties.\n",
      "3. Lack of flexibility: Symmetric encryption requires that all parties sharing the same key. If a new party is added to the system, they must also use the same key.\n",
      "4. Difficulty in managing keys: As the number of parties involved in the communication increases, the number of keys also increases. This can make it difficult to manage and keep track of all the keys.\n",
      "5. Noise sensitivity: The communication system is sensitive to noise, which can affect the accuracy of the decoding process. If the noise level is high, the system may not function properly.\n",
      "6. Limited security: Symmetric encryption provides limited security, as the same key can be used by multiple parties. This can lead to a situation where multiple parties have access to the same key.\n",
      "7. No built-in access control: There is no built-in access control mechanism in symmetric encryption. This means that the system relies solely on the secrecy of the key to control access to the encrypted data.\n",
      "8. Lack of privacy: Symmetric encryption does not provide any privacy features. Once the key is compromised, all the data encrypted with that key is vulnerable.\n",
      "9. Dependence on human factors: Symmetric encryption relies heavily on human factors such as the willingness of parties to follow security protocols, the ability of users to manage their keys, and the like.\n",
      "10. Compatibility issues: Symmetric encryption may not be compatible with certain systems or platforms. If the encryption software is not compatible with the system in question, it may not function properly.\n",
      "\n",
      "Ground Truth \n",
      " The drawbacks of symmetric encryption are the need for a secure key exchange, the need for a secure key storage, and the need for a secure key distribution.\n"
     ]
    }
   ],
   "source": [
    "result = generate_response(crypto_dataset[15]['question'],ft_model)\n",
    "print(f\"Input:\\n{crypto_dataset[15]['question']}\\n\")\n",
    "print(f\"Generated Response \\n {result[0]['generated_text'].split(\"[/INST]\")[-1]}\\n\")\n",
    "print(f\"Ground Truth \\n {crypto_dataset[15]['answer']}\")"
   ]
  },
  {
   "cell_type": "code",
   "execution_count": 54,
   "id": "cf651f0a",
   "metadata": {},
   "outputs": [
    {
     "name": "stdout",
     "output_type": "stream",
     "text": [
      "Input:\n",
      "What is one way function in cryptography?\n",
      "\n",
      "Generated Response \n",
      " \n",
      "  A one-way function is a mathematical function that is easy to go from the input to the output but hard to reverse engineer and find the input from the output. The term \"one-way\" means that the function can be used in only one direction; we can easily push data into the function, but pulling data out is much harder.\n",
      "\n",
      "The most common example of a one-way function is the absolute value. Taking someone's age, for instance, and passing it through the absolute value function results in a numerical output that is difficult to reverse engineer and find the original age.\n",
      "\n",
      "Another example is the modular exponential function, which is used in RSA. This function takes two arguments, the base and the modulus, and returns the result of raising the base to the power of the modulus. The function is one-way because it is easy to compute the result of raising a number to a power, but it is hard to determine the original number that led to the result.\n",
      "\n",
      "One-way functions are essential in cryptography because they provide a foundation for creating secure protocols. By using one-way functions to transform plaintext into ciphertext, we can create a secure communication channel where the receiver can only read the encrypted message, and the transmitter can only send the plaintext message. With one-way functions, we can ensure that the encryption process is irreversible, making it difficult for hackers to intercept and decipher the communication.\n",
      "\n",
      "In conclusion, a one-way function is a mathematical tool used in cryptography to transform plaintext into ciphertext. These functions are essential in creating secure communication channels because they provide a way to make the encryption process irreversible. By using one-way functions, we can ensure that our communication is private and secure, and that our secrets remain protected from prying eyes.\n",
      "\n",
      "Ground Truth \n",
      " A one-way function is a function that is easy to compute in one direction but difficult to compute in the opposite direction.\n"
     ]
    }
   ],
   "source": [
    "result = generate_response(crypto_dataset[10]['question'],ft_model)\n",
    "print(f\"Input:\\n{crypto_dataset[10]['question']}\\n\")\n",
    "print(f\"Generated Response \\n {result[0]['generated_text'].split(\"[/INST]\")[-1]}\\n\")\n",
    "print(f\"Ground Truth \\n {crypto_dataset[10]['answer']}\")"
   ]
  },
  {
   "cell_type": "markdown",
   "id": "300f272d",
   "metadata": {},
   "source": [
    "## Cipher Math problems"
   ]
  },
  {
   "cell_type": "code",
   "execution_count": 55,
   "id": "0cadd839",
   "metadata": {},
   "outputs": [
    {
     "name": "stdout",
     "output_type": "stream",
     "text": [
      "Input:\n",
      "What transformation occurs when “CHEESE” is shifted by B in the Caesar cipher?\n",
      "\n",
      "Generated Response \n",
      " \n",
      "  Great, let's dive into the Caesar cipher!\n",
      "\n",
      "The Caesar cipher is a simple substitution cipher where each letter is shifted by a fixed number of positions down the alphabet. When we apply the Caesar cipher to the word \"CHEESE,\" we need to shift each letter by a fixed amount.\n",
      "\n",
      "So, what happens when we shift \"CHEESE\" by B positions?\n",
      "\n",
      "Well, the letters of \"CHEESE\" are:\n",
      "\n",
      "C - H - E - E - S\n",
      "\n",
      "If we shift each letter by B positions, we get:\n",
      "\n",
      "C - H - E - E - S\n",
      "\n",
      "So, the transformed word is \"CHEESE\" itself!\n",
      "\n",
      "In other words, when we shift \"CHEESE\" by B positions, we don't change the word at all. The transformation is Identity, which means that the original word remains unchanged.\n",
      "\n",
      "I hope that helps! Do you have any questions or would you like to practice solving more ciphers?\n",
      "\n",
      "Ground Truth \n",
      " When “CHEESE” is shifted by B in the Caesar cipher, the transformation is “EJGGUG”.\n"
     ]
    }
   ],
   "source": [
    "result = generate_response(crypto_dataset[45]['question'],base_model)\n",
    "print(f\"Input:\\n{crypto_dataset[45]['question']}\\n\")\n",
    "print(f\"Generated Response \\n {result[0]['generated_text'].split(\"[/INST]\")[-1]}\\n\")\n",
    "print(f\"Ground Truth \\n {crypto_dataset[45]['answer']}\")"
   ]
  },
  {
   "cell_type": "code",
   "execution_count": 56,
   "id": "d9ca16d2",
   "metadata": {},
   "outputs": [
    {
     "name": "stdout",
     "output_type": "stream",
     "text": [
      "Input:\n",
      "What transformation occurs when “CHEESE” is shifted by B in the Caesar cipher?\n",
      "\n",
      "Generated Response \n",
      " \n",
      "  When \"CHEESE\" is shifted by B in the Caesar cipher, it becomes \"TFZEICSB\".\n",
      "\n",
      "Ground Truth \n",
      " When “CHEESE” is shifted by B in the Caesar cipher, the transformation is “EJGGUG”.\n"
     ]
    }
   ],
   "source": [
    "result = generate_response(crypto_dataset[45]['question'],ft_model)\n",
    "print(f\"Input:\\n{crypto_dataset[45]['question']}\\n\")\n",
    "print(f\"Generated Response \\n {result[0]['generated_text'].split(\"[/INST]\")[-1]}\\n\")\n",
    "print(f\"Ground Truth \\n {crypto_dataset[45]['answer']}\")"
   ]
  },
  {
   "cell_type": "code",
   "execution_count": 58,
   "id": "b6893a6b",
   "metadata": {},
   "outputs": [
    {
     "name": "stdout",
     "output_type": "stream",
     "text": [
      "Input:\n",
      "What is the process for decrypting the message 'yurgooaeod' using a rail fence with a depth of 2?\n",
      "\n",
      "Generated Response \n",
      " \n",
      " 1. The message is division by 2, giving 'y rgooaeod'.\n",
      "2. The message is then repeated twice, for a total of 6 characters.\n",
      "3. The process is repeated, with each repetition adding another layer of encryption.\n",
      "4. After 2 layers, the message is 'y rgooaeod rgooaeod'.\n",
      "5. The process is repeated for a total of 20 layers, resulting in the final message of 'y rgooaeod rgooaeod rgooaeod...'.\n",
      "6. The depth of the rail fence is 20, indicating that the message has been encrypted 20 times.\n",
      "7. The resulting encrypted message is 'y rgooaeod rgooaeod rgooaeod...'.\n",
      "\n",
      "Note that each layer of encryption increases the depth of the rail fence, making the message more difficult to decrypt. Therefore, it is important to choose the right amount of encryption and depth for your specific use case.\n",
      "\n",
      "Ground Truth \n",
      "  The process for decrypting the message 'yurgooaeod' using a rail fence with a depth of 2 is 'youaregood'.\n"
     ]
    }
   ],
   "source": [
    "result = generate_response(crypto_dataset[49]['question'],ft_model)\n",
    "print(f\"Input:\\n{crypto_dataset[49]['question']}\\n\")\n",
    "print(f\"Generated Response \\n {result[0]['generated_text'].split(\"[/INST]\")[-1]}\\n\")\n",
    "print(f\"Ground Truth \\n {crypto_dataset[49]['answer']}\")"
   ]
  },
  {
   "cell_type": "code",
   "execution_count": null,
   "id": "b0da6add",
   "metadata": {},
   "outputs": [],
   "source": []
  }
 ],
 "metadata": {
  "kernelspec": {
   "display_name": "crypto-llm-v2-python",
   "language": "python",
   "name": "crypto-llm-v2-python"
  },
  "language_info": {
   "codemirror_mode": {
    "name": "ipython",
    "version": 3
   },
   "file_extension": ".py",
   "mimetype": "text/x-python",
   "name": "python",
   "nbconvert_exporter": "python",
   "pygments_lexer": "ipython3",
   "version": "3.12.2"
  }
 },
 "nbformat": 4,
 "nbformat_minor": 5
}
