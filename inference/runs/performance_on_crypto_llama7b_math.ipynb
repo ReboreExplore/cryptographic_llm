{
 "cells": [
  {
   "cell_type": "markdown",
   "id": "ebbf8678",
   "metadata": {},
   "source": [
    "# Performance of the crypto_llama7b_math_model"
   ]
  },
  {
   "cell_type": "markdown",
   "id": "dee02d0e",
   "metadata": {},
   "source": [
    "### Set up the GPU"
   ]
  },
  {
   "cell_type": "code",
   "execution_count": 43,
   "id": "921fc6b8",
   "metadata": {},
   "outputs": [],
   "source": [
    "import os\n",
    "gpu = os.environ[\"CUDA_VISIBLE_DEVICES\"]=\"3\""
   ]
  },
  {
   "cell_type": "markdown",
   "id": "49193292",
   "metadata": {},
   "source": [
    "### Some Conclusions:\n",
    "\n",
    "1. system prompt during training and inference different - same system prompt gives better result.\n",
    "2. Not much improvement in math as well.\n",
    "3. Double fine tuning stage might lead to catastrophic forgetting of the training information\n",
    "4. Some cipher information was already available in the training dataset and our currently smaller dataset couldn't help improve performance for this fine tuning\n",
    "5. Formatting of answer changed - degraded\n",
    "6. No improvement for cipher math "
   ]
  },
  {
   "cell_type": "code",
   "execution_count": 2,
   "id": "c80a6cf6",
   "metadata": {},
   "outputs": [
    {
     "data": {
      "text/plain": [
       "31"
      ]
     },
     "execution_count": 2,
     "metadata": {},
     "output_type": "execute_result"
    }
   ],
   "source": [
    "import gc\n",
    "\n",
    "#Force garbage collection\n",
    "gc.collect()"
   ]
  },
  {
   "cell_type": "markdown",
   "id": "0bf3144c",
   "metadata": {},
   "source": [
    "### Import libraries"
   ]
  },
  {
   "cell_type": "code",
   "execution_count": 3,
   "id": "c61a5ae8",
   "metadata": {},
   "outputs": [
    {
     "name": "stderr",
     "output_type": "stream",
     "text": [
      "/projects/barman/crypto-llm-v2/lib/python3.12/site-packages/tqdm/auto.py:21: TqdmWarning: IProgress not found. Please update jupyter and ipywidgets. See https://ipywidgets.readthedocs.io/en/stable/user_install.html\n",
      "  from .autonotebook import tqdm as notebook_tqdm\n",
      "2024-05-14 08:07:05.370376: I tensorflow/core/util/port.cc:113] oneDNN custom operations are on. You may see slightly different numerical results due to floating-point round-off errors from different computation orders. To turn them off, set the environment variable `TF_ENABLE_ONEDNN_OPTS=0`.\n",
      "2024-05-14 08:07:05.460212: I tensorflow/core/platform/cpu_feature_guard.cc:210] This TensorFlow binary is optimized to use available CPU instructions in performance-critical operations.\n",
      "To enable the following instructions: AVX2 AVX512F AVX512_VNNI FMA, in other operations, rebuild TensorFlow with the appropriate compiler flags.\n",
      "2024-05-14 08:07:28.772796: W tensorflow/compiler/tf2tensorrt/utils/py_utils.cc:38] TF-TRT Warning: Could not find TensorRT\n"
     ]
    }
   ],
   "source": [
    "import torch\n",
    "from peft import AutoPeftModelForCausalLM\n",
    "from transformers import AutoTokenizer,pipeline, logging, BitsAndBytesConfig, AutoModelForCausalLM,GenerationConfig\n",
    "from datasets import load_dataset\n",
    "import torch\n",
    "from langchain import HuggingFacePipeline\n",
    "# from langchain.agents.agent_toolkits import create_python_agent\n",
    "# from langchain.tools.python.tool import PythonREPLTool\n",
    "from langchain.chains import LLMMathChain, LLMChain\n",
    "from langchain.agents import Tool, initialize_agent\n",
    "from langchain.prompts import PromptTemplate\n",
    "from langchain.agents.agent_types import AgentType"
   ]
  },
  {
   "cell_type": "markdown",
   "id": "99e7f924",
   "metadata": {},
   "source": [
    "### Get the crypto model and the base model"
   ]
  },
  {
   "cell_type": "code",
   "execution_count": 5,
   "id": "9abfbdfa",
   "metadata": {},
   "outputs": [],
   "source": [
    "# Get the finetuned model\n",
    "output_dir = \"../../results/math-llama7b-crypto-14-05-00-30\"\n",
    "\n",
    "# base model\n",
    "base = \"meta-llama/Llama-2-7b-chat-hf\""
   ]
  },
  {
   "cell_type": "markdown",
   "id": "97bb9752",
   "metadata": {},
   "source": [
    "### Get some testing prompts\n",
    "\n",
    "The prompts used for testing the models are generic covering every aspect of the dataset. Since we are working on further labelling the dataset, currently the ablation study is just on two categories : **cipher conceptual questions** and **basic number theory** and **modular arithmetic problems**."
   ]
  },
  {
   "cell_type": "code",
   "execution_count": 6,
   "id": "29d32ac0",
   "metadata": {},
   "outputs": [],
   "source": [
    "# testing prompts\n",
    "prompts = {\"conceptual\" : [\"What is symmetric encryption. Explain briefly\",\n",
    "                           \"What are hashing functions? What are hash collisions? Answer briefly\",\n",
    "                           \"What is a crystal cipher? Describe its strcuture. Answer breifly\",\n",
    "                           \"What is Caeser cipher? Explain with an example\"], \n",
    "           \"math\" : [\"How many 4-digit debit card personal identification numbers (PIN) can be made?\",\n",
    "                    \"How many ways can you arrange 3 people standing in line? Answer briefly\",\n",
    "                    \"Give the prime factorization of 25\",\n",
    "                    \"Is 874597346593745 even? Justify your answer\",\n",
    "                     \"What is the lcm of 1 and 2\",\n",
    "                    \"Is 55 divisible by 5?\"]}"
   ]
  },
  {
   "cell_type": "markdown",
   "id": "c7bb4687",
   "metadata": {},
   "source": [
    "### Original Crypto-dataset - without augmented samples"
   ]
  },
  {
   "cell_type": "code",
   "execution_count": 8,
   "id": "38302c13",
   "metadata": {},
   "outputs": [],
   "source": [
    "# Load the crypto dataset\n",
    "crypto_dataset = load_dataset(\"Manpa/cryptoqa-v1\", split=\"test\")"
   ]
  },
  {
   "cell_type": "code",
   "execution_count": 9,
   "id": "63f1080c",
   "metadata": {},
   "outputs": [
    {
     "data": {
      "text/plain": [
       "{'question': 'Write one disadvantage of assymmetric encryption.',\n",
       " 'answer': 'Asymmetric encryption is slower and more complicated than symmetric encryption. There is also a risk of the private key being lost or stolen which is non recoverable.',\n",
       " 'type': 'orig',\n",
       " 'category': 'word',\n",
       " 'topic': 'cipher',\n",
       " 'source': 'self'}"
      ]
     },
     "execution_count": 9,
     "metadata": {},
     "output_type": "execute_result"
    }
   ],
   "source": [
    "crypto_dataset[3]"
   ]
  },
  {
   "cell_type": "markdown",
   "id": "54d565f6",
   "metadata": {},
   "source": [
    "### Set the quantization parameters and the tokenizer"
   ]
  },
  {
   "cell_type": "code",
   "execution_count": 10,
   "id": "8af50298",
   "metadata": {},
   "outputs": [],
   "source": [
    "# Set the bits and bytes configuration\n",
    "bnb_config = BitsAndBytesConfig(\n",
    "    load_in_4bit=True,\n",
    "    bnb_4bit_quant_type=\"nf4\",\n",
    "    bnb_4bit_compute_dtype=\"float16\",\n",
    "    bnb_4bit_use_double_quant=False,\n",
    ")\n",
    "\n",
    "# Load the tokenizer\n",
    "tokenizer = AutoTokenizer.from_pretrained(output_dir)"
   ]
  },
  {
   "cell_type": "markdown",
   "id": "0afe9958",
   "metadata": {},
   "source": [
    "## Test on the mathematical capabilities"
   ]
  },
  {
   "cell_type": "code",
   "execution_count": 11,
   "id": "e02c8989",
   "metadata": {},
   "outputs": [],
   "source": [
    "DEFAULT_SYSTEM_PROMPT = \"\"\" You are a fine-tuned AI model who is a math genious. \n",
    "You can solve simple to moderate level mathematics problems. \n",
    "Follow a chain of thought approach while answering. Answer in brief. \"\"\""
   ]
  },
  {
   "cell_type": "markdown",
   "id": "cd788ddc",
   "metadata": {},
   "source": [
    "### Test on the base model on which cryptollama7b is trained on."
   ]
  },
  {
   "cell_type": "code",
   "execution_count": 12,
   "id": "5c75583c",
   "metadata": {},
   "outputs": [
    {
     "name": "stderr",
     "output_type": "stream",
     "text": [
      "Loading checkpoint shards: 100%|██████████████████████████████████████████████████████████████████████████████████████████████████████████████████████████████████████████████| 2/2 [00:11<00:00,  5.86s/it]\n"
     ]
    }
   ],
   "source": [
    "# Load the pretrained model\n",
    "base_model = AutoModelForCausalLM.from_pretrained(\n",
    "    base,\n",
    "    load_in_4bit=True,\n",
    "    quantization_config=bnb_config,\n",
    "    torch_dtype=torch.bfloat16,\n",
    "    device_map={\"\": 0},\n",
    "    trust_remote_code=True,\n",
    "    cache_dir=\"/projects/barman/cache\"\n",
    ")"
   ]
  },
  {
   "cell_type": "code",
   "execution_count": 13,
   "id": "b783f111",
   "metadata": {},
   "outputs": [],
   "source": [
    "def generate_response(prompt,test_model):\n",
    "    # Ignore warnings\n",
    "    logging.set_verbosity(logging.CRITICAL)\n",
    "\n",
    "    # Set the pipeline for inference\n",
    "    pipe = pipeline(\n",
    "        \"text-generation\", \n",
    "        model=test_model, \n",
    "        tokenizer = tokenizer, \n",
    "        torch_dtype=torch.bfloat16, \n",
    "        device_map= {\"\": 0}\n",
    "    )\n",
    "    # Print the results\n",
    "    result = pipe(f\"<s>[INST] <<SYS>>\\n{DEFAULT_SYSTEM_PROMPT}\\n<</SYS>>\\n\\n{prompt}[/INST]\\n \",do_sample=True,\n",
    "        max_new_tokens=512, \n",
    "        temperature=0.9, \n",
    "        top_k=50, \n",
    "        top_p=0.95,\n",
    "        num_return_sequences=1)\n",
    "    return result"
   ]
  },
  {
   "cell_type": "code",
   "execution_count": 18,
   "id": "309d93aa",
   "metadata": {},
   "outputs": [
    {
     "name": "stdout",
     "output_type": "stream",
     "text": [
      "Input:\n",
      "{'question': 'What is the sum of the first 10 natural numbers?', 'answer': 'The sum of the first 10 natural numbers is 1+2+3+4+5+6+7+8+9+10 = 55. It can be also computed as n(n+1)/2 where n is the number of natural numbers.', 'type': 'orig', 'category': 'math', 'topic': 'numbertheory', 'source': 'self'}\n",
      "\n",
      "Generated Response \n",
      " \n",
      "  Great! Let's dive into the calculation of the sum of the first 10 natural numbers using a step-by-step approach.\n",
      "\n",
      "1. Start with the first natural number: 1\n",
      "2. Add the next number: 2 + 1 = 3\n",
      "3. Add the next number: 3 + 2 = 5\n",
      "4. Add the next number: 5 + 3 = 8\n",
      "5. Add the next number: 8 + 4 = 12\n",
      "6. Add the next number: 12 + 5 = 17\n",
      "7. Add the next number: 17 + 6 = 23\n",
      "8. Add the next number: 23 + 7 = 30\n",
      "9. Add the next number: 30 + 8 = 38\n",
      "10. Add the last number: 38 + 9 = 47\n",
      "\n",
      "Therefore, the sum of the first 10 natural numbers is 47.\n"
     ]
    }
   ],
   "source": [
    "result = generate_response(crypto_dataset[24]['question'],base_model)\n",
    "print(f\"Input:\\n{crypto_dataset[24]}\\n\")\n",
    "print(f\"Generated Response \\n {result[0]['generated_text'].split(\"[/INST]\")[-1]}\")"
   ]
  },
  {
   "cell_type": "code",
   "execution_count": 21,
   "id": "43989039",
   "metadata": {},
   "outputs": [
    {
     "name": "stdout",
     "output_type": "stream",
     "text": [
      "Input:\n",
      "Determine if the expression \\(3 \\cdot 3262 + 2\\) is divisible by 3.\n",
      "\n",
      "Generated Response \n",
      " \n",
      "  Great, let's dive into this problem! \n",
      "\n",
      "To determine if the expression \\(3 \\cdot 3262 + 2\\) is divisible by 3, we can start by simplifying the expression.\n",
      "\n",
      "First, let's calculate the product of 3 and 3262:\n",
      "\n",
      "3 × 3262 = 100966\n",
      "\n",
      "Now, we add 2 to that result:\n",
      "\n",
      "100966 + 2 = 100968\n",
      "\n",
      "Finally, we check if 100968 is divisible by 3:\n",
      "\n",
      "100968 ÷ 3 = 33626\n",
      "\n",
      "Yes, the expression \\(3 \\cdot 3262 + 2\\) is divisible by 3!\n",
      "Ground Truth \n",
      " The expression \\(3 \\cdot 3262 + 2\\) is not divisible by 3 as 3 \\cdot 3262 = 9786 is divisible by 3 but 2 is not divisible by 3.\n"
     ]
    }
   ],
   "source": [
    "result = generate_response(crypto_dataset[26]['question'],base_model)\n",
    "print(f\"Input:\\n{crypto_dataset[26]['question']}\\n\")\n",
    "print(f\"Generated Response \\n {result[0]['generated_text'].split(\"[/INST]\")[-1]}\")\n",
    "print(f\"Ground Truth \\n {crypto_dataset[26]['answer']}\")"
   ]
  },
  {
   "cell_type": "code",
   "execution_count": 22,
   "id": "f7594139",
   "metadata": {},
   "outputs": [
    {
     "name": "stdout",
     "output_type": "stream",
     "text": [
      "Input:\n",
      "Is 0.333333..... a rational number?\n",
      "\n",
      "Generated Response \n",
      " \n",
      "  Great, let's dive into this problem! 🤔\n",
      "\n",
      "An interesting question, indeed! To determine if 0.333333..... is a rational number, we can employ a simple yet powerful method called the \"decimal representation test\". 📝\n",
      "\n",
      "The idea is straightforward: if a number can be expressed as the ratio of two integers, it's a rational number. 🔍\n",
      "\n",
      "Let's see if we can simplify 0.333333..... using this method:\n",
      "\n",
      "0.333333..... = 333 / 1000 = 3/10\n",
      "\n",
      "Aha! We have successfully reduced the decimal representation of 0.333333..... to a simplified fraction: 3/10. 🎉\n",
      "\n",
      "Since fractions are, by definition, rational numbers, we have proven that 0.333333..... is indeed a rational number! 💡\n",
      "\n",
      "Therefore, the answer to the question is: yes, 0.333333..... is a rational number. 🎯\n",
      "\n",
      "I hope this proof was clear and helpful! Do you have any other questions in this vein? 🤔\n",
      "Ground Truth \n",
      " Yes, 0.333333..... is a rational number as it can be expressed as 1/3.\n"
     ]
    }
   ],
   "source": [
    "result = generate_response(crypto_dataset[30]['question'],base_model)\n",
    "print(f\"Input:\\n{crypto_dataset[30]['question']}\\n\")\n",
    "print(f\"Generated Response \\n {result[0]['generated_text'].split(\"[/INST]\")[-1]}\\n\")\n",
    "print(f\"Ground Truth \\n {crypto_dataset[30]['answer']}\")"
   ]
  },
  {
   "cell_type": "code",
   "execution_count": 23,
   "id": "aed31396",
   "metadata": {},
   "outputs": [
    {
     "name": "stdout",
     "output_type": "stream",
     "text": [
      "Input:\n",
      "Is 3493 a prime ?\n",
      "\n",
      "Generated Response \n",
      " \n",
      "  Great! Let's check if 3493 is a prime number.\n",
      "\n",
      "To determine if a number is prime, we can use a simple test:\n",
      "\n",
      "1. Check if the number is divisible by 2. If it is, then it is not prime.\n",
      "2. Check if the number is divisible by any other prime numbers less than or equal to its square root. If it is, then it is not prime.\n",
      "\n",
      "In the case of 3493, we can see that it is divisible by 2, so it is not prime. Let's try checking if it is divisible by any other prime numbers less than or equal to its square root.\n",
      "\n",
      "The square root of 3493 is approximately 59.5. Let's check if 3493 is divisible by any prime numbers less than or equal to 59.\n",
      "\n",
      "3493 / 3 = 1163 (not prime)\n",
      "3493 / 5 = 698.6 (not prime)\n",
      "3493 / 7 = 498.71 (not prime)\n",
      "\n",
      "Since none of these prime numbers less than or equal to the square root of 3493 divide 3493, we can conclude that 3493 is indeed a prime number!\n",
      "\n",
      "Ground Truth \n",
      " No, 3493 is not a prime number as 3493 can be divided by 1, 7, 499, and 3493.\n"
     ]
    }
   ],
   "source": [
    "result = generate_response(crypto_dataset[32]['question'],base_model)\n",
    "print(f\"Input:\\n{crypto_dataset[32]['question']}\\n\")\n",
    "print(f\"Generated Response \\n {result[0]['generated_text'].split(\"[/INST]\")[-1]}\\n\")\n",
    "print(f\"Ground Truth \\n {crypto_dataset[32]['answer']}\")"
   ]
  },
  {
   "cell_type": "code",
   "execution_count": 25,
   "id": "5fd4f90e",
   "metadata": {},
   "outputs": [
    {
     "name": "stdout",
     "output_type": "stream",
     "text": [
      "Input:\n",
      "What is the number of arrangements in a team of 10 , if there are 4 players and 6 substitutes?\n",
      "\n",
      "Generated Response \n",
      " \n",
      "  Great! Let's dive into this problem.\n",
      "\n",
      "So, we have a team of 10 players - 4 of them are main players, and 6 of them are substitutes.\n",
      "\n",
      "To count the number of arrangements, we need to consider two things:\n",
      "\n",
      "1. The number of ways to arrange the 4 main players.\n",
      "2. The number of ways to arrange the 6 substitutes.\n",
      "\n",
      "For the main players, there are 4! = 24 possible arrangements.\n",
      "\n",
      "For the substitutes, there are 6! = 720 possible arrangements.\n",
      "\n",
      "Now, we need to find the number of ways to arrange the main players and the substitutes together. This is called the combination of two sets, and the formula for it is:\n",
      "\n",
      "n! = (n x (n-1) x... x 1) / (k x (k-1) x... x 1)\n",
      "\n",
      "where n is the number of main players, and k is the number of substitutes.\n",
      "\n",
      "In this case, n = 4, and k = 6.\n",
      "\n",
      "So, we have:\n",
      "\n",
      "n! = (4 x (4-1) x... x 1) / (6 x (6-1) x... x 1)\n",
      "= 24 / 12\n",
      "= 2\n",
      "\n",
      "Therefore, there are 2 possible arrangements of a team of 10 players with 4 main players and 6 substitutes.\n",
      "\n",
      "Ground Truth \n",
      " The number of arrangements in a team of 10, if there are 4 players and 6 substitutes is 10!/(4! * 6!) = 210.\n"
     ]
    }
   ],
   "source": [
    "result = generate_response(crypto_dataset[41]['question'],base_model)\n",
    "print(f\"Input:\\n{crypto_dataset[41]['question']}\\n\")\n",
    "print(f\"Generated Response \\n {result[0]['generated_text'].split(\"[/INST]\")[-1]}\\n\")\n",
    "print(f\"Ground Truth \\n {crypto_dataset[41]['answer']}\")"
   ]
  },
  {
   "cell_type": "code",
   "execution_count": 29,
   "id": "6c681f39",
   "metadata": {},
   "outputs": [
    {
     "name": "stdout",
     "output_type": "stream",
     "text": [
      "Input:\n",
      "A die is rolled twice. Let A be the event rolling a 6 on the first roll and let B be the event rolling a 3 on the second roll. Are A and B independent events?\n",
      "\n",
      "Generated Response \n",
      " \n",
      "  Great, let's analyze the probability of event A (rolling a 6 on the first roll) and event B (rolling a 3 on the second roll):\n",
      "\n",
      "Event A: Probability = 1/6 (since there are 6 possible outcomes on the first roll, and 1 of them is a 6)\n",
      "\n",
      "Event B: Probability = 1/6 (same as above)\n",
      "\n",
      "Now, we need to calculate the probability of both events occurring simultaneously:\n",
      "\n",
      "P(A ∩ B) = P(A)P(B) = (1/6) × (1/6) = 1/36\n",
      "\n",
      "Since the probability of both events occurring is 1/36, we can conclude that they are not independent events. In other words, the outcome of the first roll affects the probability of the second roll.\n",
      "\n",
      "I hope this helps! Let me know if you have any further questions.\n",
      "\n",
      "Ground Truth \n",
      " Yes, A and B are independent events as the outcome of the first roll does not affect the outcome of the second roll.\n"
     ]
    }
   ],
   "source": [
    "result = generate_response(crypto_dataset[39]['question'],base_model)\n",
    "print(f\"Input:\\n{crypto_dataset[39]['question']}\\n\")\n",
    "print(f\"Generated Response \\n {result[0]['generated_text'].split(\"[/INST]\")[-1]}\\n\")\n",
    "print(f\"Ground Truth \\n {crypto_dataset[39]['answer']}\")"
   ]
  },
  {
   "cell_type": "markdown",
   "id": "8185cb0d",
   "metadata": {},
   "source": [
    "### Test on the fine tuned llama model"
   ]
  },
  {
   "cell_type": "code",
   "execution_count": 30,
   "id": "f20c0816",
   "metadata": {},
   "outputs": [
    {
     "name": "stderr",
     "output_type": "stream",
     "text": [
      "Loading checkpoint shards: 100%|██████████████████████████████████████████████████████████████████████████████████████████████████████████████████████████████████████████████| 3/3 [00:08<00:00,  2.69s/it]\n"
     ]
    }
   ],
   "source": [
    "# Load the finetuned model from output_dir\n",
    "ft_model =AutoPeftModelForCausalLM.from_pretrained(\n",
    "    output_dir,\n",
    "    low_cpu_mem_usage=True,\n",
    "    torch_dtype=torch.float16,\n",
    "    load_in_4bit=True,\n",
    "    cache_dir=\"/projects/barman/cache\",\n",
    ")"
   ]
  },
  {
   "cell_type": "code",
   "execution_count": 28,
   "id": "aafa1eab",
   "metadata": {},
   "outputs": [
    {
     "name": "stderr",
     "output_type": "stream",
     "text": [
      "/projects/barman/crypto-llm-v2/lib/python3.12/site-packages/bitsandbytes/nn/modules.py:226: UserWarning: Input type into Linear4bit is torch.float16, but bnb_4bit_compute_dtype=torch.float32 (default). This will lead to slow inference or training speed.\n",
      "  warnings.warn(f'Input type into Linear4bit is torch.float16, but bnb_4bit_compute_dtype=torch.float32 (default). This will lead to slow inference or training speed.')\n"
     ]
    }
   ],
   "source": [
    "# Set the pipeline for inference\n",
    "pipe_ft = pipeline(\n",
    "    \"text-generation\", \n",
    "    model=ft_model, \n",
    "    tokenizer = tokenizer, \n",
    "    torch_dtype=torch.bfloat16, \n",
    "    device_map= {\"\": 0}\n",
    ")\n",
    "# Print the results\n",
    "result_ft = pipe_ft(f\"\"\" <s>[INST] <<SYS>>\\n{DEFAULT_SYSTEM_PROMPT}\\n<</SYS>>\\n\\n{prompts[\"math\"][5]}[/INST]\\n \"\"\" ,do_sample=True,\n",
    "    max_new_tokens=512, \n",
    "    temperature=0.9, \n",
    "    top_k=50, \n",
    "    top_p=0.95,\n",
    "    num_return_sequences=1)\n"
   ]
  },
  {
   "cell_type": "code",
   "execution_count": 35,
   "id": "da7bee13",
   "metadata": {},
   "outputs": [
    {
     "name": "stdout",
     "output_type": "stream",
     "text": [
      "Input:\n",
      "What is the sum of the first 10 natural numbers?\n",
      "\n",
      "Generated Response \n",
      " \n",
      " 0 + 1 + 2 + 3 + 4 + 5 + 6 + 7 + 8 + 9 = 45.\n",
      "The sum of the first 10 natural numbers is 45.\n",
      "\n",
      "Alternatively, we can use the formula for the sum of an arithmetic series: $S = (n_1 + n_2 +... + n_m) / m$, where $n_1$, $n_2$,..., $n_m$ are the terms of the series and $m$ is the number of terms. In this case, the sum of the first 10 natural numbers is $10 / 10 = 1$.\n",
      "\n",
      "We can also use the fact that the sum of the first $n$ natural numbers is $n$ times the last natural number: $S = n \\cdot N$, where $N$ is the last natural number. In this case, the sum of the first 10 natural numbers is $10 \\cdot 9 = 90$.\n",
      "\n",
      "Or we can use a combination of these formulas: $S = (0 + 1 + 2 +... + 9) / 10 = 9 / 10 = 0.9``.\n",
      "\n",
      "These are just a few examples of how the sum of the first 10 natural numbers can be expressed. The actual value is $45$.\n",
      "\n",
      "Ground Truth \n",
      " The sum of the first 10 natural numbers is 1+2+3+4+5+6+7+8+9+10 = 55. It can be also computed as n(n+1)/2 where n is the number of natural numbers.\n"
     ]
    }
   ],
   "source": [
    "result = generate_response(crypto_dataset[24]['question'],ft_model)\n",
    "print(f\"Input:\\n{crypto_dataset[24]['question']}\\n\")\n",
    "print(f\"Generated Response \\n {result[0]['generated_text'].split(\"[/INST]\")[-1]}\\n\")\n",
    "print(f\"Ground Truth \\n {crypto_dataset[24]['answer']}\")"
   ]
  },
  {
   "cell_type": "code",
   "execution_count": 37,
   "id": "e11748be",
   "metadata": {},
   "outputs": [
    {
     "name": "stdout",
     "output_type": "stream",
     "text": [
      "Input:\n",
      "Determine if the expression \\(3 \\cdot 3262 + 2\\) is divisible by 3.\n",
      "\n",
      "Generated Response \n",
      " \n",
      " 3 is a factor of both 3 and 2. However, 2 is not a factor of either 3 or 12. Therefore, the expression is not divisible by 3. The Final Verdict is Non-divisible.\n",
      "\n",
      "OR\n",
      "\n",
      "Let's break it down step by step:\n",
      "\n",
      "1. Is 3 a factor of 3262? No, 3262 is not divisible by 3.\n",
      "2. Is 3 a factor of 2? Yes, 3 is a factor of 2.\n",
      "3. Is 2 a factor of either 3 or 12? No, 2 is not a factor of either 3 or 12.\n",
      "4. Therefore, the expression is not divisible by 3.\n",
      "\n",
      "In conclusion, the expression \\(3 \\cdot 3262 + 2\\) is not divisible by 3. It does not meet the criteria for divisibility, and therefore we can say that it is Non-divisible.\n",
      "\n",
      "Ground Truth \n",
      " The expression \\(3 \\cdot 3262 + 2\\) is not divisible by 3 as 3 \\cdot 3262 = 9786 is divisible by 3 but 2 is not divisible by 3.\n"
     ]
    }
   ],
   "source": [
    "result = generate_response(crypto_dataset[26]['question'],ft_model)\n",
    "print(f\"Input:\\n{crypto_dataset[26]['question']}\\n\")\n",
    "print(f\"Generated Response \\n {result[0]['generated_text'].split(\"[/INST]\")[-1]}\\n\")\n",
    "print(f\"Ground Truth \\n {crypto_dataset[26]['answer']}\")"
   ]
  },
  {
   "cell_type": "code",
   "execution_count": 38,
   "id": "da4eb07b",
   "metadata": {},
   "outputs": [
    {
     "name": "stdout",
     "output_type": "stream",
     "text": [
      "Input:\n",
      "Is 0.333333..... a rational number?\n",
      "\n",
      "Generated Response \n",
      " \n",
      " 0.333333..... is not a rational number. A rational number is an integer or a number that can be expressed as the ratio of two integers. In this case, 0.333333..... cannot be expressed as the ratio of two integers, making it an irrational number. Irrational numbers have infinite decimal expansions and cannot be written as a simple fraction.\n",
      "\n",
      "One reason why 0.333333..... is not a rational number is that it has an infinite number of digits after the decimal point. This is because the decimal expansion of a number is infinite when the number cannot be expressed as the ratio of two integers. Another reason is that 0.333333..... does not have a terminating decimal expansion, meaning that it does not repeat itself after a certain number of digits.\n",
      "\n",
      "While 0.333333..... may seem like a rational number at first glance, it is important to look closely at its properties to determine whether it is rational or irrational.\n",
      "\n",
      "Ground Truth \n",
      " Yes, 0.333333..... is a rational number as it can be expressed as 1/3.\n"
     ]
    }
   ],
   "source": [
    "result = generate_response(crypto_dataset[30]['question'],ft_model)\n",
    "print(f\"Input:\\n{crypto_dataset[30]['question']}\\n\")\n",
    "print(f\"Generated Response \\n {result[0]['generated_text'].split(\"[/INST]\")[-1]}\\n\")\n",
    "print(f\"Ground Truth \\n {crypto_dataset[30]['answer']}\")"
   ]
  },
  {
   "cell_type": "code",
   "execution_count": 39,
   "id": "97a71563",
   "metadata": {},
   "outputs": [
    {
     "name": "stdout",
     "output_type": "stream",
     "text": [
      "Input:\n",
      "Is 3493 a prime ?\n",
      "\n",
      "Generated Response \n",
      " \n",
      " 3493 is a composite number. It is divisible by 3 and 1133, making it a prime. Therefore, it is not a prime.\n",
      "\n",
      "Contrary to popular belief, the number 1 is not a prime. It is a special number that serves as the identity element for addition and the empty set for functions.\n",
      "\n",
      "It is important to note that the classification of a number as prime or composite is not solely determined by its divisors. A number can have only two divisors and still be considered prime if it meets certain criteria. For example, 2 is considered a prime number even though it has only two divisors: 1 and 2. This is because 2 cannot be expressed as the product of two smaller integers, as it has a unique property known as syllabus that makes it an irreducible number.\n",
      "\n",
      "In conclusion, 3493 is not a prime number. It is a composite number with multiple divisors, including 3 and 1133. While 1 is not a prime number, it serves an important role in mathematics as the identity element for addition and the empty set for functions.\n",
      "\n",
      "Ground Truth \n",
      " No, 3493 is not a prime number as 3493 can be divided by 1, 7, 499, and 3493.\n"
     ]
    }
   ],
   "source": [
    "result = generate_response(crypto_dataset[32]['question'],ft_model)\n",
    "print(f\"Input:\\n{crypto_dataset[32]['question']}\\n\")\n",
    "print(f\"Generated Response \\n {result[0]['generated_text'].split(\"[/INST]\")[-1]}\\n\")\n",
    "print(f\"Ground Truth \\n {crypto_dataset[32]['answer']}\")"
   ]
  },
  {
   "cell_type": "code",
   "execution_count": 40,
   "id": "24c79341",
   "metadata": {},
   "outputs": [
    {
     "name": "stdout",
     "output_type": "stream",
     "text": [
      "Input:\n",
      "What is the number of arrangements in a team of 10 , if there are 4 players and 6 substitutes?\n",
      "\n",
      "Generated Response \n",
      " \n",
      " 4 players by themselves form $4！10=40$ teams. 6 substitutes can be chosen from the remaining 4 players, for a total of $6！4=24$ teams. 4 players and 6 substitutes together form $4！6×5=24√10$ teams.  Overall, there are $40+24+24√10=1288$ teams.\n",
      "\n",
      "Note: This calculation overlooks the possibility of some players being both starters and subs. To account for this, you could either (a) disqualify any player who appears in both the starter and sub list, or (b) assume that each player has a fixed \"role\" (starter or sub) and that each team is composed of one starter and one or zero subs. The first approach would result in a lower estimate of the number of teams, while the second approach would result in a higher estimate.\n",
      "\n",
      "Ground Truth \n",
      " The number of arrangements in a team of 10, if there are 4 players and 6 substitutes is 10!/(4! * 6!) = 210.\n"
     ]
    }
   ],
   "source": [
    "result = generate_response(crypto_dataset[41]['question'],ft_model)\n",
    "print(f\"Input:\\n{crypto_dataset[41]['question']}\\n\")\n",
    "print(f\"Generated Response \\n {result[0]['generated_text'].split(\"[/INST]\")[-1]}\\n\")\n",
    "print(f\"Ground Truth \\n {crypto_dataset[41]['answer']}\")"
   ]
  },
  {
   "cell_type": "code",
   "execution_count": 41,
   "id": "49f482a4",
   "metadata": {},
   "outputs": [
    {
     "name": "stdout",
     "output_type": "stream",
     "text": [
      "Input:\n",
      "A die is rolled twice. Let A be the event rolling a 6 on the first roll and let B be the event rolling a 3 on the second roll. Are A and B independent events?\n",
      "\n",
      "Generated Response \n",
      " \n",
      "  Yes, A and B are independent events. This is because the event of rolling a 6 on the first roll does not affect the probability of rolling a 3 on the second roll, and vice versa. The probability of each event occurring on its own is 1/6 for A and 1/8 for B. Independence is a fundamental assumption in probability theory, which assumes that the occurrence of one event does not affect the probability of another event. In this case, rolling a 6 on the first die does not affect the probability of rolling a 3 on the second die, and vice versa. Therefore, A and B are independent events.\n",
      "\n",
      "Ground Truth \n",
      " Yes, A and B are independent events as the outcome of the first roll does not affect the outcome of the second roll.\n"
     ]
    }
   ],
   "source": [
    "result = generate_response(crypto_dataset[39]['question'],ft_model)\n",
    "print(f\"Input:\\n{crypto_dataset[39]['question']}\\n\")\n",
    "print(f\"Generated Response \\n {result[0]['generated_text'].split(\"[/INST]\")[-1]}\\n\")\n",
    "print(f\"Ground Truth \\n {crypto_dataset[39]['answer']}\")"
   ]
  },
  {
   "cell_type": "markdown",
   "id": "6e415d6b",
   "metadata": {},
   "source": [
    "## Testing Cryptographic Conceptual capabilities"
   ]
  },
  {
   "cell_type": "markdown",
   "id": "f2cd7b78",
   "metadata": {},
   "source": [
    "### Testing the base model"
   ]
  },
  {
   "cell_type": "code",
   "execution_count": 44,
   "id": "a53aafd3",
   "metadata": {},
   "outputs": [],
   "source": [
    "SYSTEM_PROMPT = \"You are a cryptographic expert with very strong conceptual understanding of the domain. You can easily solve medium to higher difficulty cryptographich problems as well. Please answer clearly and precisely as if you are teaching graduate students.\""
   ]
  },
  {
   "cell_type": "code",
   "execution_count": 45,
   "id": "1a40998f",
   "metadata": {},
   "outputs": [],
   "source": [
    "def generate_response(prompt,test_model):\n",
    "    # Ignore warnings\n",
    "    logging.set_verbosity(logging.CRITICAL)\n",
    "\n",
    "    # Set the pipeline for inference\n",
    "    pipe = pipeline(\n",
    "        \"text-generation\", \n",
    "        model=test_model, \n",
    "        tokenizer = tokenizer, \n",
    "        torch_dtype=torch.bfloat16, \n",
    "        device_map= {\"\": 0}\n",
    "    )\n",
    "    # Print the results\n",
    "    result = pipe(f\"<s>[INST] <<SYS>>\\n{SYSTEM_PROMPT}\\n<</SYS>>\\n\\n{prompt}[/INST]\\n \",do_sample=True,\n",
    "        max_new_tokens=512, \n",
    "        temperature=0.9, \n",
    "        top_k=50, \n",
    "        top_p=0.95,\n",
    "        num_return_sequences=1)\n",
    "    return result"
   ]
  },
  {
   "cell_type": "code",
   "execution_count": 46,
   "id": "3554dd97",
   "metadata": {},
   "outputs": [
    {
     "name": "stdout",
     "output_type": "stream",
     "text": [
      "Input:\n",
      "Differentiate between confusion and diffusion in cryptography.\n",
      "\n",
      "Generated Response \n",
      " \n",
      "  Great, let's dive into the details of confusion and diffusion in cryptography!\n",
      "\n",
      "In cryptography, confusion and diffusion are two related but distinct concepts that serve different purposes.\n",
      "\n",
      "Confusion is a cryptographic technique that aims to mix or confuse the plaintext (original message) in some way, making it more difficult for an attacker to decipher the original message. Confusion can be achieved through various means, such as:\n",
      "\n",
      "1. Transposition: Transposing the letters of the plaintext, e.g., swapping \"b\" and \"d\", or \"a\" and \"c\".\n",
      "2. Permutation: Rearranging the letters of the plaintext, e.g., rearranging the letters of \"cat\" to spell \"act\".\n",
      "3. Substitution: Replacing some letters of the plaintext with others, e.g., replacing \"a\" with \"e\".\n",
      "4. Compression: Compressing the plaintext into a shorter form, e.g., \"hello\" can be compressed to \"hln\".\n",
      "\n",
      "Diffusion, on the other hand, is a technique that spreads the plaintext across multiple locations or \"cells\" in the encryption process. The goal of diffusion is to make it difficult for an attacker to determine the location of the plaintext in the encrypted message. Diffusion can be achieved through various means, such as:\n",
      "\n",
      "1. Spreading: Spreading the plaintext across multiple cells in an encryption scheme, e.g., encrypting the plaintext \"hello\" and spreading it across four cells: \"hll0\", \"hll1\", \"hll2\", and \"hll3\".\n",
      "2. Pseudorandom padding: Adding random or pseudorandom data to the plaintext before encryption, making it difficult to determine the location of the plaintext in the encrypted message.\n",
      "3. Chaotic mapping: Using chaotic functions to map the plaintext to multiple locations in the encryption process, making it difficult to determine the location of the plaintext in the encrypted message.\n",
      "\n",
      "Key differences between confusion and diffusion:\n",
      "\n",
      "1. Purpose: Confusion aims to mix or confuse the plaintext, while diffusion aims to spread the plaintext across multiple locations.\n",
      "2. Scope: Confusion operates on a single plaintext, while diffusion operates on multiple locations or cells in the encryption process\n",
      "\n",
      "Ground Truth \n",
      " Confusion is the property of a cryptographic algorithm that makes the relationship between the key and the ciphertext as complex as possible. Diffusion is the property of a cryptographic algorithm that makes the relationship between the plaintext and the ciphertext as complex as possible.\n"
     ]
    }
   ],
   "source": [
    "result = generate_response(crypto_dataset[2]['question'],base_model)\n",
    "print(f\"Input:\\n{crypto_dataset[2]['question']}\\n\")\n",
    "print(f\"Generated Response \\n {result[0]['generated_text'].split(\"[/INST]\")[-1]}\\n\")\n",
    "print(f\"Ground Truth \\n {crypto_dataset[2]['answer']}\")"
   ]
  },
  {
   "cell_type": "code",
   "execution_count": 47,
   "id": "fc0dac34",
   "metadata": {},
   "outputs": [
    {
     "name": "stdout",
     "output_type": "stream",
     "text": [
      "Input:\n",
      "What are hash functions useful for? Give an example.\n",
      "\n",
      "Generated Response \n",
      " \n",
      "  Great! I'm glad to hear that you're interested in learning about the utility of hash functions. A hash function is a mathematical function that maps input data of variable length to a fixed-length output known as a \"hash value.\" Hash functions are incredibly useful in a wide range of applications, and I'll provide you with a simple example to illustrate their utility.\n",
      "\n",
      "Example: Hash Functions in Password Storage\n",
      "\n",
      "Suppose you're designing a secure password storage system. One of the primary security concerns is preventing unauthorized access to user passwords. One way to address this issue is to use a one-way hash function to transform each password into a fixed-length hash value. Here's how it works:\n",
      "\n",
      "1. The user enters their password as the input to the hash function.\n",
      "2. The hash function processes the input and generates a fixed-length hash value as the output.\n",
      "3. The hash value is stored in the password storage system, rather than the original password.\n",
      "4. When the user logs in, they enter their password as the input to the hash function, which generates the same hash value as the stored value.\n",
      "5. If the input password matches the stored hash value, the user is authenticated and granted access to the system.\n",
      "\n",
      "The use of a one-way hash function has several benefits in this scenario:\n",
      "\n",
      "1. **Security**: It's computationally infeasible to determine the original password from the stored hash value, making it difficult for attackers to crack the password.\n",
      "2. **Efficiency**: Storing a fixed-length hash value is more space-efficient than storing the original password, which can save storage space and reduce computational overhead.\n",
      "3. **Scalability**: As the user base grows, the password storage system can handle a large number of passwords without significantly increasing storage requirements.\n",
      "\n",
      "In summary, hash functions are useful for transforming variable-length input data into fixed-length output values that can be used for secure password storage, message authentication, and other cryptographic applications. By exploiting the properties of one-way functions, hash functions provide a simple and effective way to enhance security, efficiency, and scalability in various domains.\n",
      "\n",
      "Ground Truth \n",
      " Hash functions are functions that map data of arbitrary size to fixed-size values. They are useful for verifying the integrity of data. An example of a hash function is SHA-256.\n"
     ]
    }
   ],
   "source": [
    "result = generate_response(crypto_dataset[8]['question'],base_model)\n",
    "print(f\"Input:\\n{crypto_dataset[8]['question']}\\n\")\n",
    "print(f\"Generated Response \\n {result[0]['generated_text'].split(\"[/INST]\")[-1]}\\n\")\n",
    "print(f\"Ground Truth \\n {crypto_dataset[8]['answer']}\")"
   ]
  },
  {
   "cell_type": "code",
   "execution_count": 48,
   "id": "b013e66f",
   "metadata": {},
   "outputs": [
    {
     "name": "stdout",
     "output_type": "stream",
     "text": [
      "Input:\n",
      "What is one way function in cryptography?\n",
      "\n",
      "Generated Response \n",
      " \n",
      "  Great, I'm glad you're interested in learning about one-way functions in cryptography!\n",
      "\n",
      "A one-way function, also known as a one-way cryptographic function, is a mathematical function that maps an input to an output in such a way that it is computationally infeasible to reverse-engineer or infer the original input from the output. In other words, given a transformed output, it is extremely difficult or impossible to determine the original input that was used to produce it.\n",
      "\n",
      "The importance of one-way functions in cryptography lies in their ability to provide security properties that are essential for many cryptographic primitives, such as encryption, digital signatures, and message authentication. These properties include:\n",
      "\n",
      "1. Computational difficulty: It should be computationally infeasible to reverse-engineer or invert the function, making it difficult for an attacker to determine the original input.\n",
      "2. Randomness: The function should produce outputs that are random and unpredictable, making it difficult to deduce the original input.\n",
      "3. Non-invertibility: The function should be non-invertible, meaning that it is computationally infeasible to determine the original input from the output.\n",
      "\n",
      "Examples of one-way functions in cryptography include:\n",
      "\n",
      "1. Hash functions: Hash functions like SHA-256 or MD5 take an input message of any size and produce a fixed-size output that is unique and non-invertible.\n",
      "2. Pseudorandom number generators: Pseudorandom number generators like the Lindemann-Lautemann algorithm or the random number generator in the Mersenne Twister algorithm produce a sequence of pseudorandom numbers that are highly unpredictable and difficult to reverse-engineer.\n",
      "3. Diffie-Hellman key exchange: The Diffie-Hellman key exchange algorithm uses a one-way function to generate a shared secret key between two parties over an insecure channel.\n",
      "4. Digital signatures: Digital signatures like the RSA digital signature scheme use one-way functions to ensure the authenticity and integrity of a message.\n",
      "\n",
      "In summary, one-way functions are a fundamental building block of modern cryptography, providing a means to transform inputs in such a way that they cannot be reverse-engineered or inferred. These functions are used in various cryptographic primitives to ensure the security and integrity of\n",
      "\n",
      "Ground Truth \n",
      " A one-way function is a function that is easy to compute in one direction but difficult to compute in the opposite direction.\n"
     ]
    }
   ],
   "source": [
    "result = generate_response(crypto_dataset[10]['question'],base_model)\n",
    "print(f\"Input:\\n{crypto_dataset[10]['question']}\\n\")\n",
    "print(f\"Generated Response \\n {result[0]['generated_text'].split(\"[/INST]\")[-1]}\\n\")\n",
    "print(f\"Ground Truth \\n {crypto_dataset[10]['answer']}\")"
   ]
  },
  {
   "cell_type": "code",
   "execution_count": 49,
   "id": "6f53c41e",
   "metadata": {},
   "outputs": [
    {
     "name": "stdout",
     "output_type": "stream",
     "text": [
      "Input:\n",
      "What are the drawbacks of symmetric encryption?\n",
      "\n",
      "Generated Response \n",
      " \n",
      "  As a cryptographic expert, I must say that symmetric encryption is a widely used and effective method of encrypting data, but it does have some drawbacks. Here are some of the key limitations and challenges associated with symmetric encryption:\n",
      "\n",
      "1. Key Management: Symmetric encryption relies on a secret key, which must be securely stored, distributed, and managed. This can be a challenge, especially in large-scale deployments where the key must be shared and synchronized across multiple parties.\n",
      "2. Key Size: The strength of a symmetric encryption algorithm is determined by the size of the key used. In general, larger keys provide better security, but larger keys also increase the computational overhead required to encrypt and decrypt data.\n",
      "3. Collision Attacks: Symmetric encryption algorithms are vulnerable to collision attacks, which occur when two different inputs produce the same output ciphertext. While these attacks are unlikely to occur in practice, they highlight the potential weaknesses in symmetric encryption.\n",
      "4. Brute Force Attacks: Symmetric encryption algorithms are also vulnerable to brute-force attacks, which involve attempting to guess the secret key through sheer computational power. While the key size and the computational overhead of the encryption algorithm can help mitigate these attacks, they are not foolproof.\n",
      "5. Side-Channel Attacks: Symmetric encryption algorithms can be vulnerable to side-channel attacks, which exploit information about the encryption process itself rather than the encrypted data. These attacks can be particularly challenging to detect and mitigate.\n",
      "6. Key Exposure: If the secret key is exposed in any way, the encryption is compromised. This can occur due to a variety of reasons, including key theft, eavesdropping, or unintentional disclosure.\n",
      "7. Limited Non-Repudiation: Symmetric encryption does not provide non-repudiation guarantees, which means that an attacker cannot be proven to have sent a particular message. This can be a limitation in certain applications, such as digital signatures.\n",
      "8. Limited Tamper Evidence: Symmetric encryption also does not provide strong tamper evidence guarantees, which means that an attacker can modify the encrypted data without leaving obvious signs of tampering.\n",
      "9. Limited Privacy: Symmetric encryption does not provide strong privacy guarantees, as the same key is used for both encryption and decryption. This means that an attacker can potentially learn the\n",
      "\n",
      "Ground Truth \n",
      " The drawbacks of symmetric encryption are the need for a secure key exchange, the need for a secure key storage, and the need for a secure key distribution.\n"
     ]
    }
   ],
   "source": [
    "result = generate_response(crypto_dataset[15]['question'],base_model)\n",
    "print(f\"Input:\\n{crypto_dataset[15]['question']}\\n\")\n",
    "print(f\"Generated Response \\n {result[0]['generated_text'].split(\"[/INST]\")[-1]}\\n\")\n",
    "print(f\"Ground Truth \\n {crypto_dataset[15]['answer']}\")"
   ]
  },
  {
   "cell_type": "markdown",
   "id": "d9b3f9cb",
   "metadata": {},
   "source": [
    "### Testing the fine tuned model"
   ]
  },
  {
   "cell_type": "code",
   "execution_count": 52,
   "id": "5c5a8431",
   "metadata": {},
   "outputs": [
    {
     "name": "stdout",
     "output_type": "stream",
     "text": [
      "Input:\n",
      "Differentiate between confusion and diffusion in cryptography.\n",
      "\n",
      "Generated Response \n",
      " \n",
      "  Confusion and diffusion are two related but distinct concepts in cryptography. Confusion refers to the process of breaking apart plaintext into smaller, more manageable pieces in order to make it more difficult for an attacker to decipher the message. Diffusion, on the other hand, refers to the process of spreading out the plaintext throughout the ciphertext to make it more resistant to attack. While confusion is focused on protecting the individual pieces of plaintext, diffusion is focused on protecting the overall message. In summary, confusion is about breaking apart the message, while diffusion is about spreading it out.\n",
      "\n",
      "Diffusion is a more advanced technique than confusion, as it requires a deeper understanding of cryptography and its goals. Diffusion is often used in conjunction with other cryptographic techniques, such as encryption and integrity, to provide a comprehensive security solution.\n",
      "\n",
      "While confusion and diffusion are distinct concepts, they are often used together in practice. For example, a message might be encrypted and then further dispersed through the use of a diffusion algorithm. This can make it much more difficult for an attacker to decipher the message, as they would need to break both the encryption and the diffusion barriers.\n",
      "\n",
      "In conclusion, confusion and diffusion are two important concepts in the realm of cryptography. While they share some similarities, they are distinct and serve different purposes in protecting the integrity of a message.\n",
      "\n",
      "Ground Truth \n",
      " Confusion is the property of a cryptographic algorithm that makes the relationship between the key and the ciphertext as complex as possible. Diffusion is the property of a cryptographic algorithm that makes the relationship between the plaintext and the ciphertext as complex as possible.\n"
     ]
    }
   ],
   "source": [
    "result = generate_response(crypto_dataset[2]['question'],ft_model)\n",
    "print(f\"Input:\\n{crypto_dataset[2]['question']}\\n\")\n",
    "print(f\"Generated Response \\n {result[0]['generated_text'].split(\"[/INST]\")[-1]}\\n\")\n",
    "print(f\"Ground Truth \\n {crypto_dataset[2]['answer']}\")"
   ]
  },
  {
   "cell_type": "code",
   "execution_count": 56,
   "id": "1458218b",
   "metadata": {},
   "outputs": [
    {
     "name": "stdout",
     "output_type": "stream",
     "text": [
      "Input:\n",
      "What are hash functions useful for? Give an example.\n",
      "\n",
      "Generated Response \n",
      " \n",
      "  * Hash functions are useful for creating a quick and efficient way of looking up information in a database. For instance, instead of searching through a large list of names to find the one you're looking for, you can use a hash function to map the names to unique numerical identifiers. This allows you to quickly find the desired name in the list using the associated numerical ID.\n",
      "* Another use case for hash functions is in digital signatures. A hash function can be used to create a digital signature by taking a message and computing a fixed-size hash value that represents the message. The signature is then created by taking the original message and appending the hash value to it. When the recipient receives the message, they can use the same hash function to compute the hash value based on the original message and compare it to the hash value that was appended to the message. If the two values match, then the message has not been tampered with and the signature is valid.\n",
      "Overall, hash functions provide a fast and secure way of looking up information in a database or verifying the authenticity of a message. They are an important tool in many areas of computer science, including database management, digital signatures, and data compression.\n",
      "\n",
      "Ground Truth \n",
      " Hash functions are functions that map data of arbitrary size to fixed-size values. They are useful for verifying the integrity of data. An example of a hash function is SHA-256.\n"
     ]
    }
   ],
   "source": [
    "result = generate_response(crypto_dataset[8]['question'],ft_model)\n",
    "print(f\"Input:\\n{crypto_dataset[8]['question']}\\n\")\n",
    "print(f\"Generated Response \\n {result[0]['generated_text'].split(\"[/INST]\")[-1]}\\n\")\n",
    "print(f\"Ground Truth \\n {crypto_dataset[8]['answer']}\")"
   ]
  },
  {
   "cell_type": "code",
   "execution_count": 53,
   "id": "2ed9c3dd",
   "metadata": {},
   "outputs": [
    {
     "name": "stdout",
     "output_type": "stream",
     "text": [
      "Input:\n",
      "What are the drawbacks of symmetric encryption?\n",
      "\n",
      "Generated Response \n",
      " \n",
      " 1. Dependence on a secure key: The security of symmetric encryption relies heavily on the secrecy of the key used. If the key falls into the wrong hands, the entire system is compromised. 2. Limited key lifespan: As new threats and technologies emerge, the need for updated keys increases. This creates a burden on organizations to constantly refresh their keys, leading to a shorter key lifespan. 3. Exposure to insider threats: Symmetric encryption relies on the honesty and integrity of those who handle the key. Insider threats, such as employees deliberately exploiting vulnerabilities, can compromise the system. 4. Difficulty in scaling: As organizations grow, managing and coordinating key updates across all departments and teams can become challenging. This can lead to key fragmentation, where different parts of the organization use different keys, creating a security risk. 5. Lack of flexibility: Once a key is generated, it cannot be changed without invalidating all encrypted data associated with it. This inflexibility can make it difficult to adapt to changing security needs. 6. Over-reliance on a single key: Many organizations rely too heavily on a single key, which can create a single point of failure. If this key is compromised, the entire system is at risk. 7. Difficulty in detecting unauthorized access: Unauthorized access to a symmetric encryption key can go unnoticed until a breach occurs, at which point the damage is already done. 8. Lack of transparency: Because symmetric encryption relies on a secret key, it can be difficult to determine why certain data is being accessed or altered without proper authorization. 9. Dependence on key management infrastructure: The smooth operation of symmetric encryption requires a robust key management infrastructure, which can be prone to errors, failures, or even intentional attacks. 10. Not foolproof: Even with all the precautions taken, symmetric encryption can still be breached due to various factors, such as the use of weak keys or the exploitation of software vulnerabilities.\n",
      "\n",
      "Ground Truth \n",
      " The drawbacks of symmetric encryption are the need for a secure key exchange, the need for a secure key storage, and the need for a secure key distribution.\n"
     ]
    }
   ],
   "source": [
    "result = generate_response(crypto_dataset[15]['question'],ft_model)\n",
    "print(f\"Input:\\n{crypto_dataset[15]['question']}\\n\")\n",
    "print(f\"Generated Response \\n {result[0]['generated_text'].split(\"[/INST]\")[-1]}\\n\")\n",
    "print(f\"Ground Truth \\n {crypto_dataset[15]['answer']}\")"
   ]
  },
  {
   "cell_type": "code",
   "execution_count": 57,
   "id": "cf651f0a",
   "metadata": {},
   "outputs": [
    {
     "name": "stdout",
     "output_type": "stream",
     "text": [
      "Input:\n",
      "What is one way function in cryptography?\n",
      "\n",
      "Generated Response \n",
      " \n",
      "  A one-way function is a cryptographic concept that refers to a mathematical function that can be inverted, but not the other way around. In other words, it is possible to map a given input to a unique output using a one-way function, but it is not possible to determine the original input from the output alone. Some common examples of one-way functions include the absolute value, the logarithm, and the square root.\n",
      "\n",
      "The importance of one-way functions in cryptography lies in their ability to provide a barrier against reverse engineering. By making it impossible or impractical to determine the original input from the output, one-way functions can help to prevent an attacker from discovering the true meaning of the cryptographic messages. This, in turn, can increase the security of the system and make it more resistant to reverse engineering attacks.\n",
      "\n",
      "One-way functions are often used in combination with other cryptographic primitives, such as encryption algorithms and digital signatures, to provide an additional layer of security. By combining a one-way function with an encryption algorithm, for example, it is possible to create a system in which the encryption algorithm is unable to decrypt the message without knowing the one-way function used to map the input to the output.\n",
      "\n",
      "In summary, one-way functions are a key component of modern cryptography, providing a barrier against reverse engineering and helping to ensure the security of cryptographic systems.\n",
      "\n",
      "Ground Truth \n",
      " A one-way function is a function that is easy to compute in one direction but difficult to compute in the opposite direction.\n"
     ]
    }
   ],
   "source": [
    "result = generate_response(crypto_dataset[10]['question'],ft_model)\n",
    "print(f\"Input:\\n{crypto_dataset[10]['question']}\\n\")\n",
    "print(f\"Generated Response \\n {result[0]['generated_text'].split(\"[/INST]\")[-1]}\\n\")\n",
    "print(f\"Ground Truth \\n {crypto_dataset[10]['answer']}\")"
   ]
  },
  {
   "cell_type": "markdown",
   "id": "300f272d",
   "metadata": {},
   "source": [
    "## Cipher Math problems"
   ]
  },
  {
   "cell_type": "code",
   "execution_count": 58,
   "id": "0cadd839",
   "metadata": {},
   "outputs": [
    {
     "name": "stdout",
     "output_type": "stream",
     "text": [
      "Input:\n",
      "What transformation occurs when “CHEESE” is shifted by B in the Caesar cipher?\n",
      "\n",
      "Generated Response \n",
      " \n",
      "  Great, let's explore the Caesar cipher together! 🔒\n",
      "\n",
      "The Caesar cipher is a simple encryption technique that replaces each letter with a letter a fixed number of positions down the alphabet. When we apply the shift to \"CHEESE\", we need to move each letter by a certain number of positions down the alphabet. \n",
      "\n",
      "For \"CHEESE\", if we shift by 3 letters down the alphabet, the transformed ciphertext would be:\n",
      "\n",
      "C -> D\n",
      "H -> G\n",
      "E -> F\n",
      "E -> G\n",
      "S -> T\n",
      "\n",
      "So, the transformation that occurs when \"CHEESE\" is shifted by B in the Caesar cipher is \"DGFTS\". 🔒\n",
      "\n",
      "Now, let's try to encrypt another message using the same shift. How about \"GRATE\"? 😃\n",
      "\n",
      "Ground Truth \n",
      " When “CHEESE” is shifted by B in the Caesar cipher, the transformation is “EJGGUG”.\n"
     ]
    }
   ],
   "source": [
    "result = generate_response(crypto_dataset[45]['question'],base_model)\n",
    "print(f\"Input:\\n{crypto_dataset[45]['question']}\\n\")\n",
    "print(f\"Generated Response \\n {result[0]['generated_text'].split(\"[/INST]\")[-1]}\\n\")\n",
    "print(f\"Ground Truth \\n {crypto_dataset[45]['answer']}\")"
   ]
  },
  {
   "cell_type": "code",
   "execution_count": 69,
   "id": "86ab17a9",
   "metadata": {},
   "outputs": [
    {
     "name": "stdout",
     "output_type": "stream",
     "text": [
      "Input:\n",
      "What transformation occurs when “CHEESE” is shifted by B in the Caesar cipher?\n",
      "\n",
      "Generated Response \n",
      " \n",
      "  CHEESE becomes EEHCOORSS when shifted by B in the Caesar cipher. This is because B is a shift of 2, and when you shift a string by 2, you move every other character forward 1 position. So, the first and third characters (“C” and “S”) move forward 1 position, while the second and fourth characters (“H” and “E”) move backward 1 position. The fifth and seventh characters (“E” and “R”) move forward 1 position, and the sixth character (“G”) remains in the same position. Finally, the last character (“S”) moves forward 1 position, and the entire string is shifted by B.\n",
      "\n",
      "Ground Truth \n",
      " When “CHEESE” is shifted by B in the Caesar cipher, the transformation is “EJGGUG”.\n"
     ]
    }
   ],
   "source": [
    "result = generate_response(crypto_dataset[45]['question'],ft_model)\n",
    "print(f\"Input:\\n{crypto_dataset[45]['question']}\\n\")\n",
    "print(f\"Generated Response \\n {result[0]['generated_text'].split(\"[/INST]\")[-1]}\\n\")\n",
    "print(f\"Ground Truth \\n {crypto_dataset[45]['answer']}\")"
   ]
  },
  {
   "cell_type": "code",
   "execution_count": 70,
   "id": "031ae46d",
   "metadata": {},
   "outputs": [
    {
     "name": "stdout",
     "output_type": "stream",
     "text": [
      "Input:\n",
      "What is the process for decrypting the message 'yurgooaeod' using a rail fence with a depth of 2?\n",
      "\n",
      "Generated Response \n",
      " \n",
      " 1. Columns are created by splitting the message into 24-character blocks. Each block is marked with a number from 0 to 23.\n",
      " 2. The blocks are then shifted one position to the right.\n",
      " 3. The entire message is then duplicated and the duplicated message is shifted one position to the left.\n",
      " 4. The two messages are then compared character by character. If a mismatch is found, the entire process is repeated until a correct match is found.\n",
      " 5. Once the messages match, the original message is retrieved by moving the block marks left and the duplicated blocks right.\n",
      "The resulting message is: 'yurgooaeodyurgooaeod'\n",
      "This process ensures that the original message is restored, while any unauthorized tampering is evident from the differences in the two messages.\n",
      "\n",
      "Ground Truth \n",
      "  The process for decrypting the message 'yurgooaeod' using a rail fence with a depth of 2 is 'youaregood'.\n"
     ]
    }
   ],
   "source": [
    "result = generate_response(crypto_dataset[49]['question'],ft_model)\n",
    "print(f\"Input:\\n{crypto_dataset[49]['question']}\\n\")\n",
    "print(f\"Generated Response \\n {result[0]['generated_text'].split(\"[/INST]\")[-1]}\\n\")\n",
    "print(f\"Ground Truth \\n {crypto_dataset[49]['answer']}\")"
   ]
  },
  {
   "cell_type": "code",
   "execution_count": 72,
   "id": "1474dcf9",
   "metadata": {},
   "outputs": [
    {
     "name": "stdout",
     "output_type": "stream",
     "text": [
      "Input:\n",
      "What is the process for decrypting the message 'yurgooaeod' using a rail fence with a depth of 2?\n",
      "\n",
      "Generated Response \n",
      " \n",
      "  Decrypting a message using a rail fence encryption scheme with a depth of 2 involves the following steps:\n",
      "\n",
      "Step 1: Determine the number of rounds in the encryption scheme\n",
      "In this case, the message 'yurgooaeod' is encrypted with a rail fence depth of 2, which means there are 2 rounds of encryption.\n",
      "\n",
      "Step 2: Identify the key schedule used in the encryption scheme\n",
      "The key schedule is the pattern of keys used to encrypt and decrypt the message. For a rail fence encryption scheme with a depth of 2, the key schedule is:\n",
      "\n",
      "Key 1: E(K_1, m) = y\n",
      "Key 2: E(K_2, E(K_1, m)) = o\n",
      "Key 3: E(K_3, E(K_2, E(K_1, m))) = e\n",
      "Key 4: E(K_4, E(K_3, E(K_2, E(K_1, m)))) = d\n",
      "\n",
      "Step 3: Apply the key schedule to the plaintext message m\n",
      "Using the key schedule, apply the encryption function E to each round of the rail fence, starting with the first round and moving left to right. The final ciphertext is the result of the last round of encryption. In this case, the plaintext message 'yurgooaeod' is encrypted to 'yooeod' using the first round key K_1, then to 'oeeod' using the second round key K_2, and finally to the ciphertext 'yooeod'.\n",
      "\n",
      "Step 4: Decrypt the ciphertext using the inverse function of the encryption function E\n",
      "To decrypt the ciphertext, we need to apply the inverse function of the encryption function E, which is typically denoted as E^-1. The inverse function takes the ciphertext and transforms it back into the original plaintext message. In this case, the inverse function of E is given by:\n",
      "\n",
      "E^-1(yooeod) = yurgooaeod\n",
      "\n",
      "Therefore, the decrypted message is 'yurgooaeod'.\n",
      "\n",
      "It's important to note that the key schedule used in this example is just one possible implementation of a rail fence encryption scheme with a depth of 2. Other\n",
      "\n",
      "Ground Truth \n",
      "  The process for decrypting the message 'yurgooaeod' using a rail fence with a depth of 2 is 'youaregood'.\n"
     ]
    }
   ],
   "source": [
    "result = generate_response(crypto_dataset[49]['question'],base_model)\n",
    "print(f\"Input:\\n{crypto_dataset[49]['question']}\\n\")\n",
    "print(f\"Generated Response \\n {result[0]['generated_text'].split(\"[/INST]\")[-1]}\\n\")\n",
    "print(f\"Ground Truth \\n {crypto_dataset[49]['answer']}\")"
   ]
  },
  {
   "cell_type": "code",
   "execution_count": null,
   "id": "5c2244e5",
   "metadata": {},
   "outputs": [],
   "source": []
  }
 ],
 "metadata": {
  "kernelspec": {
   "display_name": "crypto-llm-v2-python",
   "language": "python",
   "name": "crypto-llm-v2-python"
  },
  "language_info": {
   "codemirror_mode": {
    "name": "ipython",
    "version": 3
   },
   "file_extension": ".py",
   "mimetype": "text/x-python",
   "name": "python",
   "nbconvert_exporter": "python",
   "pygments_lexer": "ipython3",
   "version": "3.12.2"
  }
 },
 "nbformat": 4,
 "nbformat_minor": 5
}
