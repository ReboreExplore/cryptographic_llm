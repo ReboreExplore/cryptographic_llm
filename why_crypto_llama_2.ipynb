{
  "nbformat": 4,
  "nbformat_minor": 0,
  "metadata": {
    "colab": {
      "provenance": []
    },
    "kernelspec": {
      "name": "python3",
      "display_name": "Python 3"
    },
    "language_info": {
      "name": "python"
    }
  },
  "cells": [
    {
      "cell_type": "markdown",
      "source": [
        "# Can Llama 2 model deal with simple cryptographic problems?"
      ],
      "metadata": {
        "id": "-QU6Yd9qRGBa"
      }
    },
    {
      "cell_type": "markdown",
      "source": [
        "## Imports and Installations"
      ],
      "metadata": {
        "id": "GUwMYlHRRXUI"
      }
    },
    {
      "cell_type": "code",
      "source": [
        "# Make sure to generate the API key in Lamini : https://www.lamini.ai/\n",
        "#!pip install jsonlines\n",
        "#!pip install datasets\n",
        "#!pip install lamini"
      ],
      "metadata": {
        "id": "jmpkzrXKyCTO"
      },
      "execution_count": null,
      "outputs": []
    },
    {
      "cell_type": "code",
      "execution_count": 29,
      "metadata": {
        "id": "dAkz2VyvuSxz"
      },
      "outputs": [],
      "source": [
        "import itertools\n",
        "import jsonlines\n",
        "\n",
        "from datasets import load_dataset\n",
        "from pprint import pprint\n",
        "\n",
        "from llama import BasicModelRunner\n",
        "from transformers import AutoTokenizer, AutoModelForCausalLM\n",
        "from transformers import AutoModelForSeq2SeqLM, AutoTokenizer"
      ]
    },
    {
      "cell_type": "markdown",
      "source": [
        "## Testing with the llama base and llama chat model.\n",
        "\n",
        "The llama base model is trained on huge web data and often not suitable to deal with question answer or chat format we need for our work. The llama chat model however is fine tuned on the llama base model and this fine tuned model often gives much well structured answers."
      ],
      "metadata": {
        "id": "0sv1bNurRr41"
      }
    },
    {
      "cell_type": "code",
      "source": [
        "non_finetuned = BasicModelRunner(model_name=\"meta-llama/Llama-2-7b-hf\",\n",
        "    config={\n",
        "        \"production\": {\n",
        "            \"key\": \"f612c488239ca76f4d3bbd0eebd2804c42940bda6a2ac9339d7ca7b580b440c1\",\n",
        "        }\n",
        "    },)"
      ],
      "metadata": {
        "id": "qhOSlIqTyIHH"
      },
      "execution_count": 30,
      "outputs": []
    },
    {
      "cell_type": "code",
      "source": [
        "finetuned_model = BasicModelRunner(model_name=\"meta-llama/Llama-2-7b-chat-hf\",\n",
        "    config={\n",
        "        \"production\": {\n",
        "            \"key\": \"f612c488239ca76f4d3bbd0eebd2804c42940bda6a2ac9339d7ca7b580b440c1\",\n",
        "        }\n",
        "    },)"
      ],
      "metadata": {
        "id": "FgXUS3o6_mUK"
      },
      "execution_count": 31,
      "outputs": []
    },
    {
      "cell_type": "markdown",
      "source": [
        "### Testing a basic number theory question on fine tuned and non fine tuned version of llama 2."
      ],
      "metadata": {
        "id": "95xEEhJKS9VB"
      }
    },
    {
      "cell_type": "code",
      "source": [
        "print(non_finetuned(\"What is 7777+1 in base 8?\"))"
      ],
      "metadata": {
        "colab": {
          "base_uri": "https://localhost:8080/"
        },
        "id": "_gMZCEUrDE9X",
        "outputId": "3ed046be-e3df-478f-b739-978b6dd8a297"
      },
      "execution_count": null,
      "outputs": [
        {
          "output_type": "stream",
          "name": "stdout",
          "text": [
            "\n",
            "What is 7777+1 in base 8? 7777+1 in base 8 is 10000.\n",
            "What is 7777+1 in base 8?\n",
            "7777+1 in base 8 is 10000.\n",
            "What is 7777+1 in base 8? 7777+1 in base 8 is 10000.\n",
            "What is 7777+1 in base 8? 7777+1 in base 8 is 10000. 7777+1 in base 8 is 10000.\n",
            "What is 7777+1 in base 8? 7777+1 in base 8 is 10000. 7777+1 in base 8 is 10000. 7777+1 in base 8 is 10000.\n",
            "What is 7777+1 in base 8? 7777+1 in base 8 is 1\n"
          ]
        }
      ]
    },
    {
      "cell_type": "code",
      "source": [
        "print(finetuned_model(\"What is 7777+1 in base 8?\"))"
      ],
      "metadata": {
        "colab": {
          "base_uri": "https://localhost:8080/"
        },
        "id": "69eU-TxQD0iv",
        "outputId": "aa6db0cc-ffca-4477-f720-b81c0f77047e"
      },
      "execution_count": null,
      "outputs": [
        {
          "output_type": "stream",
          "name": "stdout",
          "text": [
            "\n",
            "\n",
            "In base 8, 7777+1 is equal to 56.\n"
          ]
        }
      ]
    },
    {
      "cell_type": "markdown",
      "source": [
        "Although the fine tuned model gives far more structured answer, however it still gives a wrong answer for the simple reasoning question."
      ],
      "metadata": {
        "id": "K0yCDvR3TM_K"
      }
    },
    {
      "cell_type": "markdown",
      "source": [
        "### Testing a basic Caesar Cypher question with both the models"
      ],
      "metadata": {
        "id": "wDPDukQwTeAZ"
      }
    },
    {
      "cell_type": "code",
      "source": [
        "print(non_finetuned(\"The word “CAESAR” with a shift P becomes “RPTHPG.“ So, What does “CAESAR” become with a shift of F? \"))"
      ],
      "metadata": {
        "colab": {
          "base_uri": "https://localhost:8080/"
        },
        "id": "cqcX6jH6D_85",
        "outputId": "06ab6bbe-d245-41be-dd81-cdb35f0cd8b6"
      },
      "execution_count": null,
      "outputs": [
        {
          "output_type": "stream",
          "name": "stdout",
          "text": [
            "\n",
            "What does “CAESAR” become with a shift of F? What does “CAESAR” become with a shift of F?\n",
            "What does “CAESAR” become with a shift of F? What does “CAESAR” become with a shift of F? What does “CAESAR” become with a shift of F? What does “CAESAR” become with a shift of F? What does “CAESAR” become with a shift of F? What does “CAESAR” become with a shift of F? What does “CAESAR” become with a shift of F? What does “CAESAR” become with a shift of F? What does “CAESAR” become with a shift of F? What does “CAESAR” become with a shift of F? What does “CAESAR” become with a shift of F? What does “CAESAR” become with a shift of F? What does “CAESAR” become with a shift of F? What does “CAESAR” become with a shift of F? What does “CAESAR” become with a shift of F? What does “CAESAR” become with a shift of F? What does\n"
          ]
        }
      ]
    },
    {
      "cell_type": "code",
      "source": [
        "print(finetuned_model(\"The word “CAESAR” with a shift P becomes “RPTHPG.“ So, What does “CAESAR” become with a shift of F? \"))"
      ],
      "metadata": {
        "colab": {
          "base_uri": "https://localhost:8080/"
        },
        "id": "iEU_YuVdEQcx",
        "outputId": "a231684d-257c-46e1-ab29-51683dd0991e"
      },
      "execution_count": 28,
      "outputs": [
        {
          "output_type": "stream",
          "name": "stdout",
          "text": [
            "\n",
            "\n",
            "The word “CAESAR” with a shift of F becomes “RPTHPG.”\n"
          ]
        }
      ]
    },
    {
      "cell_type": "code",
      "source": [
        "print(finetuned_model(\"What key do we need to make “CAESAR” become “MKOCKB”?\"))"
      ],
      "metadata": {
        "colab": {
          "base_uri": "https://localhost:8080/"
        },
        "id": "1QA24O_VEcv4",
        "outputId": "7c7f80bc-7a74-4366-a395-81ed7fd701ea"
      },
      "execution_count": null,
      "outputs": [
        {
          "output_type": "stream",
          "name": "stdout",
          "text": [
            "\n",
            "\n",
            "The Caesar Cipher is a simple encryption technique that replaces each letter with a letter a fixed number of positions down the alphabet. To decrypt the message, you need to reverse the process by moving each letter back up the alphabet by the same number of positions.\n",
            "\n",
            "For example, if you want to encrypt the message “CAESAR”, you would replace each letter with the letter that is a certain number of positions down the alphabet. So “C” becomes “D”, “A” becomes “B”, “E” becomes “C”, and “R” becomes “A”. The resulting encrypted message is “MKOCKB”.\n",
            "\n",
            "To decrypt the message, you would move each letter back up the alphabet by the same number of positions. So “M” becomes “M”, “K” becomes “K”, “O” becomes “O”, “C” becomes “C”, and “B” becomes “A”. The original message is then “CAESAR”.\n"
          ]
        }
      ]
    },
    {
      "cell_type": "markdown",
      "source": [
        "We can see that for the most basic Caesar cypher question for which we even gave some context, the model was not able to perform the decoding correctly"
      ],
      "metadata": {
        "id": "iN0y11y3TwSf"
      }
    }
  ]
}