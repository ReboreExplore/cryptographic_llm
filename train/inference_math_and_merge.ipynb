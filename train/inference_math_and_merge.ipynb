{
 "cells": [
  {
   "cell_type": "markdown",
   "id": "eadb863e",
   "metadata": {},
   "source": [
    "## Inference Code"
   ]
  },
  {
   "cell_type": "code",
   "execution_count": 1,
   "id": "bc42b5b7",
   "metadata": {},
   "outputs": [],
   "source": [
    "# !nvidia-smi"
   ]
  },
  {
   "cell_type": "code",
   "execution_count": 2,
   "id": "de2805e9",
   "metadata": {},
   "outputs": [],
   "source": [
    "import os\n",
    "gpu = os.environ[\"CUDA_VISIBLE_DEVICES\"]=\"0\""
   ]
  },
  {
   "cell_type": "code",
   "execution_count": 44,
   "id": "da676316",
   "metadata": {},
   "outputs": [],
   "source": [
    "import warnings\n",
    "warnings.filterwarnings(\"ignore\")\n",
    "import torch\n",
    "from peft import AutoPeftModelForCausalLM\n",
    "from transformers import AutoTokenizer,pipeline, logging, BitsAndBytesConfig, AutoModelForCausalLM\n",
    "from datasets import load_dataset\n",
    "from random import randrange"
   ]
  },
  {
   "cell_type": "code",
   "execution_count": 45,
   "id": "d4f1f35b",
   "metadata": {},
   "outputs": [],
   "source": [
    "# Ignore warnings\n",
    "logging.set_verbosity(logging.CRITICAL)"
   ]
  },
  {
   "cell_type": "code",
   "execution_count": 74,
   "id": "ce137b08",
   "metadata": {},
   "outputs": [],
   "source": [
    "# Get the model\n",
    "# The model that you want to train from the Hugging Face hub\n",
    "model_name = \"meta-llama/Llama-2-7b-chat-hf\"\n",
    "\n",
    "# Fine-tuned math model name (date-month-hour-minutes)\n",
    "new_model = \"llama-2-7b-chat-math-27-3-16-20\""
   ]
  },
  {
   "cell_type": "code",
   "execution_count": 75,
   "id": "e0e63513",
   "metadata": {},
   "outputs": [],
   "source": [
    "# Output directory where the model predictions and checkpoints will be stored\n",
    "output_dir = f\"./results/{new_model}/\""
   ]
  },
  {
   "cell_type": "code",
   "execution_count": 76,
   "id": "9ec6f884",
   "metadata": {},
   "outputs": [
    {
     "data": {
      "text/plain": [
       "'./results/llama-2-7b-chat-math-27-3-16-20/'"
      ]
     },
     "execution_count": 76,
     "metadata": {},
     "output_type": "execute_result"
    }
   ],
   "source": [
    "output_dir"
   ]
  },
  {
   "cell_type": "code",
   "execution_count": 77,
   "id": "3fc1eeff",
   "metadata": {},
   "outputs": [],
   "source": [
    "device_map = {\"\": 0}"
   ]
  },
  {
   "cell_type": "code",
   "execution_count": 78,
   "id": "6cbc3750",
   "metadata": {},
   "outputs": [
    {
     "name": "stderr",
     "output_type": "stream",
     "text": [
      "Loading checkpoint shards: 100%|██████████████████| 2/2 [00:05<00:00,  2.53s/it]\n"
     ]
    }
   ],
   "source": [
    "# Load finetuned LLM model and tokenizer\n",
    "ft_model = AutoPeftModelForCausalLM.from_pretrained(\n",
    "    output_dir,\n",
    "    low_cpu_mem_usage=True,\n",
    "    torch_dtype=torch.float16,\n",
    "    load_in_4bit=True,\n",
    "    cache_dir=\"/projects/barman/cache\",\n",
    ")"
   ]
  },
  {
   "cell_type": "code",
   "execution_count": 79,
   "id": "8a0f76fb",
   "metadata": {},
   "outputs": [],
   "source": [
    "tokenizer = AutoTokenizer.from_pretrained(output_dir)"
   ]
  },
  {
   "cell_type": "code",
   "execution_count": 80,
   "id": "5595b44b",
   "metadata": {},
   "outputs": [],
   "source": [
    "################################################################################\n",
    "# bitsandbytes parameters\n",
    "################################################################################\n",
    "\n",
    "# Activate 4-bit precision base model loading\n",
    "use_4bit = True\n",
    "\n",
    "# Compute dtype for 4-bit base models\n",
    "bnb_4bit_compute_dtype = \"float16\"\n",
    "\n",
    "# Quantization type (fp4 or nf4)\n",
    "bnb_4bit_quant_type = \"nf4\"\n",
    "\n",
    "# Activate nested quantization for 4-bit base models (double quantization)\n",
    "use_nested_quant = False"
   ]
  },
  {
   "cell_type": "code",
   "execution_count": 81,
   "id": "f89aefdb",
   "metadata": {},
   "outputs": [],
   "source": [
    "# Load tokenizer and model with QLoRA configuration\n",
    "compute_dtype = getattr(torch, bnb_4bit_compute_dtype)\n",
    "\n",
    "bnb_config = BitsAndBytesConfig(\n",
    "    load_in_4bit=use_4bit,\n",
    "    bnb_4bit_quant_type=bnb_4bit_quant_type,\n",
    "    bnb_4bit_compute_dtype=compute_dtype,\n",
    "    bnb_4bit_use_double_quant=use_nested_quant,\n",
    ")"
   ]
  },
  {
   "cell_type": "code",
   "execution_count": 82,
   "id": "b1cdb535",
   "metadata": {},
   "outputs": [
    {
     "name": "stderr",
     "output_type": "stream",
     "text": [
      "Loading checkpoint shards: 100%|██████████████████| 2/2 [00:05<00:00,  2.51s/it]\n"
     ]
    }
   ],
   "source": [
    "# Load base model\n",
    "base_model = AutoModelForCausalLM.from_pretrained(\n",
    "    model_name,\n",
    "    quantization_config=bnb_config,\n",
    "    device_map=device_map,\n",
    "    cache_dir=\"/projects/barman/cache\",\n",
    "#     use_flash_attention_2=use_flash_attention,\n",
    ")"
   ]
  },
  {
   "cell_type": "code",
   "execution_count": 83,
   "id": "3be60cbe",
   "metadata": {},
   "outputs": [],
   "source": [
    "# Get the dataset from hugging_face\n",
    "math_dataset = load_dataset(\"hendrycks/competition_math\",trust_remote_code=True, split=\"train\")"
   ]
  },
  {
   "cell_type": "code",
   "execution_count": 84,
   "id": "d3618bbc",
   "metadata": {},
   "outputs": [],
   "source": [
    "filtered_dataset = [data for data in math_dataset if data['level']==\"Level 1\" or data['level']==\"Level 2\"]\n",
    "sample =  filtered_dataset[randrange(len(filtered_dataset))]"
   ]
  },
  {
   "cell_type": "code",
   "execution_count": 85,
   "id": "dfb9c8a6",
   "metadata": {},
   "outputs": [
    {
     "data": {
      "text/plain": [
       "{'problem': 'A scale drawing of a park shows that one inch represents 800 feet. A line segment in the drawing that is 4.75 inches long represents how many feet?',\n",
       " 'level': 'Level 1',\n",
       " 'type': 'Algebra',\n",
       " 'solution': 'Each inch of the 4.75-inch line segment represents 800 feet, so the whole line segment represents $4.75\\\\times800=\\\\frac{19}{4}\\\\cdot800=19\\\\cdot200=\\\\boxed{3800}$ feet.'}"
      ]
     },
     "execution_count": 85,
     "metadata": {},
     "output_type": "execute_result"
    }
   ],
   "source": [
    "sample"
   ]
  },
  {
   "cell_type": "code",
   "execution_count": 86,
   "id": "4d937f71",
   "metadata": {},
   "outputs": [],
   "source": [
    "DEFAULT_SYSTEM_PROMPT = \"\"\"You are a fine-tuned AI model who is a math genious. \n",
    "You can solve simple to moderate level mathematics problems. \n",
    "Follow a chain of thought approach while answering. Answer in brief. \"\"\""
   ]
  },
  {
   "cell_type": "code",
   "execution_count": 87,
   "id": "bb31bd5b",
   "metadata": {},
   "outputs": [
    {
     "name": "stdout",
     "output_type": "stream",
     "text": [
      "Instruction:\n",
      "You are a fine-tuned AI model who is a math genious. \n",
      "You can solve simple to moderate level mathematics problems. \n",
      "Follow a chain of thought approach while answering. Answer in brief. \n",
      "\n",
      "Input:\n",
      "A scale drawing of a park shows that one inch represents 800 feet. A line segment in the drawing that is 4.75 inches long represents how many feet?\n",
      "\n",
      "Generated Response with fine tuned model:\n",
      "   Great, let's get started!\n",
      "\n",
      "Given that one inch in the drawing represents 800 feet, and the line segment is 4.75 inches long, we can use the conversion factor to find the corresponding length in feet.\n",
      "\n",
      "So, if one inch represents 800 feet, then the length of the line segment in feet can be calculated as:\n",
      "\n",
      "4.75 inches × 800 feet/inch = 3600 feet\n",
      "\n",
      "Therefore, the line segment in the drawing represents 3600 feet.\n",
      "\n",
      "Generated Response with the base model:\n",
      "   Great, let's solve this problem together! 🤔\n",
      "\n",
      "So, we know that in this scale drawing, one inch represents 800 feet. That means that if we want to find the length of a line segment in the drawing that is 4.75 inches long, we can simply multiply the length of the segment in the drawing by the scale factor of 1:800. 💡\n",
      "\n",
      "So, the length of the line segment in real life that corresponds to the 4.75 inches in the drawing would be:\n",
      "\n",
      "4.75 inches x 800 feet/inch = 3,600 feet\n",
      "\n",
      "Therefore, the line segment in the drawing represents 3,600 feet in real life. 📝\n",
      "\n",
      "How's that? Did I help you solve the problem? 😊\n",
      "\n",
      "Ground Truth:\n",
      "Each inch of the 4.75-inch line segment represents 800 feet, so the whole line segment represents $4.75\\times800=\\frac{19}{4}\\cdot800=19\\cdot200=\\boxed{3800}$ feet.\n"
     ]
    }
   ],
   "source": [
    "# Ignore warnings\n",
    "logging.set_verbosity(logging.CRITICAL)\n",
    "# Run text generation pipeline with our next model\n",
    "# prompt = \"What is a large language model?\"\n",
    "pipe = pipeline(task=\"text-generation\", model=ft_model, tokenizer=tokenizer, max_length=512)\n",
    "result = pipe(f\"<s>[INST] <<SYS>> {DEFAULT_SYSTEM_PROMPT} <</SYS>> {sample['problem']} [/INST]\")\n",
    "\n",
    "pipe2 = pipeline(task=\"text-generation\", model=base_model, tokenizer=tokenizer, max_length=2048)\n",
    "result2 = pipe2(f\"<s>[INST] <<SYS>> {DEFAULT_SYSTEM_PROMPT} <</SYS>> {sample['problem']} [/INST]\")\n",
    "\n",
    "print(f\"Instruction:\\n{DEFAULT_SYSTEM_PROMPT}\\n\")\n",
    "print(f\"Input:\\n{sample['problem']}\\n\")\n",
    "print(f\"Generated Response with fine tuned model:\\n {result[0]['generated_text'].split(\"[/INST]\")[-1]}\\n\")\n",
    "print(f\"Generated Response with the base model:\\n {result2[0]['generated_text'].split(\"[/INST]\")[-1]}\\n\")\n",
    "print(f\"Ground Truth:\\n{sample['solution']}\")"
   ]
  },
  {
   "cell_type": "code",
   "execution_count": null,
   "id": "f33f127b",
   "metadata": {},
   "outputs": [],
   "source": []
  }
 ],
 "metadata": {
  "kernelspec": {
   "display_name": "llm",
   "language": "python",
   "name": "python3"
  },
  "language_info": {
   "codemirror_mode": {
    "name": "ipython",
    "version": 3
   },
   "file_extension": ".py",
   "mimetype": "text/x-python",
   "name": "python",
   "nbconvert_exporter": "python",
   "pygments_lexer": "ipython3",
   "version": "3.11.7"
  }
 },
 "nbformat": 4,
 "nbformat_minor": 5
}
